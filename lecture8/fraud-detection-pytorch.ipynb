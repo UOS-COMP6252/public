{
 "cells": [
  {
   "cell_type": "markdown",
   "metadata": {
    "colab_type": "text",
    "id": "view-in-github",
    "slideshow": {
     "slide_type": "skip"
    }
   },
   "source": [
    "<a href=\"https://colab.research.google.com/github/UOS-COMP6252/public/blob/main/lecture8/fraud-detection-pytorch.ipynb\" target=\"_parent\"><img src=\"https://colab.research.google.com/assets/colab-badge.svg\" alt=\"Open In Colab\"/></a>"
   ]
  },
  {
   "cell_type": "markdown",
   "metadata": {},
   "source": [
    "<h1 style=\"text-align: center;\">COMP6252 Deep Learning Technologies</h1>\n",
    "<h2 style=\"text-align: center;\"> Anomaly detection using Autoencoders</h2>"
   ]
  },
  {
   "cell_type": "markdown",
   "metadata": {
    "id": "BPslepRQfAas",
    "slideshow": {
     "slide_type": "slide"
    }
   },
   "source": [
    "# Anomaly detection using autoencoders"
   ]
  },
  {
   "cell_type": "code",
   "execution_count": null,
   "metadata": {
    "_cell_guid": "b1076dfc-b9ad-4769-8c92-a6c4dae69d19",
    "_uuid": "8f2839f25d086af736a60e9eeb907d3b93b6e0e5",
    "execution": {
     "iopub.execute_input": "2022-10-23T18:45:26.334352Z",
     "iopub.status.busy": "2022-10-23T18:45:26.332959Z",
     "iopub.status.idle": "2022-10-23T18:45:26.844474Z",
     "shell.execute_reply": "2022-10-23T18:45:26.843250Z",
     "shell.execute_reply.started": "2022-10-23T18:45:26.334299Z"
    },
    "id": "abcI6MZQVbFN",
    "slideshow": {
     "slide_type": "fragment"
    }
   },
   "outputs": [],
   "source": [
    "import torch\n",
    "import torchvision as vision\n",
    "import pandas as pd\n",
    "import numpy as np"
   ]
  },
  {
   "cell_type": "markdown",
   "metadata": {
    "id": "5NAWZOePgMO-",
    "slideshow": {
     "slide_type": "slide"
    }
   },
   "source": [
    "## The data\n",
    "\n",
    "- The data contains 31 features. \n",
    "- Most of them are the principal components from a PCA preprocessing so we don't have a direct interpretation for those. \n",
    "- The remaining 3 are time, when the transaction occurred relative to the first one, the amount and the label to denote if the transaction was legitimate or a fraud.\n",
    "- A detailed description of the dataset can be found [here](https://www.kaggle.com/datasets/mlg-ulb/creditcardfraud).\n",
    "\n",
    "- A direct quotation from that page\n",
    "\n",
    "\"The dataset has been collected and analysed during a research collaboration of Worldline and the Machine Learning Group (http://mlg.ulb.ac.be) of ULB (Université Libre de Bruxelles) on big data mining and fraud detection.\""
   ]
  },
  {
   "cell_type": "code",
   "execution_count": null,
   "metadata": {},
   "outputs": [],
   "source": [
    "import sys,os\n",
    "from pathlib import Path\n",
    "IN_COLAB = 'google.colab' in sys.modules\n",
    "if IN_COLAB:\n",
    "  from google.colab import files\n",
    "  if not Path('/content/creditcardfraud.zip').is_file(): \n",
    "    file=files.upload() # upload the saved kaggle.json\n",
    "    #### the token can be obtained from your kaggle account by going to settings\n",
    "    #### in the middle of the page under API there is a create new token\n",
    "    #### there is also explanation on how to do it\n",
    "    %mkdir /root/.kaggle\n",
    "    %mv kaggle.json  /root/.kaggle\n",
    "    !kaggle datasets download -d mlg-ulb/creditcardfraud\n",
    "    !unzip -q creditcardfraud.zip\n",
    "else:\n",
    "  #data_path=os.path.join(os.path.expanduser(\"~\"),\"Data/images_original\")\n",
    "  data_path=\"creditcard.csv\"\n",
    "  if not os.path.isfile(data_path):\n",
    "    !kaggle datasets download -d mlg-ulb/creditcardfraud\n",
    "    !unzip -q creditcardfraud.zip\n"
   ]
  },
  {
   "cell_type": "markdown",
   "metadata": {
    "id": "FRXHpKHDrENT",
    "slideshow": {
     "slide_type": "slide"
    }
   },
   "source": [
    "## Data preprocessing\n"
   ]
  },
  {
   "cell_type": "code",
   "execution_count": null,
   "metadata": {
    "colab": {
     "base_uri": "https://localhost:8080/",
     "height": 488
    },
    "execution": {
     "iopub.execute_input": "2022-10-23T18:45:26.851466Z",
     "iopub.status.busy": "2022-10-23T18:45:26.851196Z",
     "iopub.status.idle": "2022-10-23T18:45:28.556061Z",
     "shell.execute_reply": "2022-10-23T18:45:28.555222Z",
     "shell.execute_reply.started": "2022-10-23T18:45:26.851438Z"
    },
    "id": "neCRp7lFVbFO",
    "outputId": "ac7d400f-6841-4dde-8a8a-effd25efdc8f",
    "slideshow": {
     "slide_type": "fragment"
    }
   },
   "outputs": [],
   "source": [
    "df=pd.read_csv(\"creditcard.csv\")\n",
    "df"
   ]
  },
  {
   "cell_type": "markdown",
   "metadata": {},
   "source": [
    "- The time feature is not used and will be dropped. \n",
    "- The \"Class\" column is changed to \"label\" since \"Class\" is a keyword. "
   ]
  },
  {
   "cell_type": "code",
   "execution_count": null,
   "metadata": {},
   "outputs": [],
   "source": [
    "df.rename(columns={'Class':'label'},inplace=True)\n",
    "df=df.drop('Time',axis=1)\n",
    "df"
   ]
  },
  {
   "cell_type": "markdown",
   "metadata": {
    "slideshow": {
     "slide_type": "slide"
    }
   },
   "source": [
    "### Extremely imbalanced dataset\n",
    "- The dataset contains 284315 **legitimate** samples and  492 **fraud** samples \n",
    "- This makes it extremely hard to get good results with a regression classifier\n",
    "- Usually in imbalanced datasets one can either \n",
    "  - preform undersampling of the legitimate samples\n",
    "  - Or perform oversampling of the fraud samples\n",
    "- But this dataset is **extremely** imbalanced "
   ]
  },
  {
   "cell_type": "markdown",
   "metadata": {
    "slideshow": {
     "slide_type": "slide"
    }
   },
   "source": [
    "#### Anomaly detection\n",
    "\n",
    "- An anomaly is an object different from the \"norm\". \n",
    "- The idea is that after training an autoencoder can reproduce \"normal\" input with small error. \n",
    "- An input that produces a \"large\" error is classified as an anomaly.\n",
    "- In this notebook we will use the above idea to detect credit card fraud"
   ]
  },
  {
   "cell_type": "markdown",
   "metadata": {
    "id": "RUjGRUc8eBYz",
    "slideshow": {
     "slide_type": "slide"
    }
   },
   "source": [
    "#### Autoencoders\n",
    "\n",
    "- An autoencoder is a neural networks that learns the \"hidden\"(latent) representation of the input. \n",
    "- The number of features of the latent representation is typically much smaller than the number of features in the input.\n",
    "- This can be interpreted as dimension reduction\n",
    "- An autoencoder has two parts: an **encoder**, and a **decoder**, which is typically the \"inverse\" of the encoder. \n",
    "- The way an autoencoder works is by learning to **reproduce** the input. \n",
    "- In the figure below, the result of learning would be to make the output as close as possible to the input"
   ]
  },
  {
   "cell_type": "markdown",
   "metadata": {
    "id": "fkTdKzCUd9Iz",
    "slideshow": {
     "slide_type": "slide"
    }
   },
   "source": [
    "![autoencoder3.png](data:image/png;base64,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)"
   ]
  },
  {
   "cell_type": "markdown",
   "metadata": {
    "id": "4_GoXU0grhek",
    "slideshow": {
     "slide_type": "slide"
    }
   },
   "source": [
    "## Training\n",
    "- Our aim is for the autoencoder to learn \"legitimate\" transactions. \n",
    "- For that end, the training is done on the non-fraud data, i.e. label=0"
   ]
  },
  {
   "cell_type": "code",
   "execution_count": null,
   "metadata": {
    "colab": {
     "base_uri": "https://localhost:8080/"
    },
    "execution": {
     "iopub.execute_input": "2022-10-23T18:45:28.558279Z",
     "iopub.status.busy": "2022-10-23T18:45:28.557165Z",
     "iopub.status.idle": "2022-10-23T18:45:28.605275Z",
     "shell.execute_reply": "2022-10-23T18:45:28.604035Z",
     "shell.execute_reply.started": "2022-10-23T18:45:28.558243Z"
    },
    "id": "2YxWJ9naVbFO",
    "outputId": "6a1a0682-438f-466d-a6de-28fcd760f8af",
    "slideshow": {
     "slide_type": "fragment"
    }
   },
   "outputs": [],
   "source": [
    "fraud=df[df.label==1]\n",
    "clean=df[df.label==0]\n",
    "print(\"# of fraud samples {}. # of clean samples {} \".format(\n",
    "            len(fraud),len(clean)))"
   ]
  },
  {
   "cell_type": "markdown",
   "metadata": {
    "id": "J4S3NLParu6L",
    "slideshow": {
     "slide_type": "slide"
    }
   },
   "source": [
    "- Training is done on the \"clean\" data only\n",
    "- But need to retain a fraction of that \"clean\" data for testing later on\n",
    "- Since the \"clean\" and \"fraud\" are separated we drop the \"label\" column"
   ]
  },
  {
   "cell_type": "code",
   "execution_count": null,
   "metadata": {
    "colab": {
     "base_uri": "https://localhost:8080/"
    },
    "execution": {
     "iopub.execute_input": "2022-10-23T18:45:28.608236Z",
     "iopub.status.busy": "2022-10-23T18:45:28.607749Z",
     "iopub.status.idle": "2022-10-23T18:45:28.701729Z",
     "shell.execute_reply": "2022-10-23T18:45:28.700312Z",
     "shell.execute_reply.started": "2022-10-23T18:45:28.608206Z"
    },
    "id": "1EuVhgTdVbFP",
    "outputId": "ca10f83e-f375-4c39-d349-f1ce148fa7da",
    "slideshow": {
     "slide_type": "fragment"
    }
   },
   "outputs": [],
   "source": [
    "TRAINING_SAMPLE=250000\n",
    "clean=clean.sample(frac=1).reset_index(drop=True)\n",
    "train_input=clean.iloc[:TRAINING_SAMPLE].drop('label',axis=1)\n",
    "test_input=pd.concat([clean.iloc[TRAINING_SAMPLE:],fraud])\n",
    "test_input.label.value_counts()"
   ]
  },
  {
   "cell_type": "markdown",
   "metadata": {
    "slideshow": {
     "slide_type": "slide"
    }
   },
   "source": [
    "### MinMaxScaler\n",
    "- The data is rescaled as we did before to help in the convergence.\n",
    "- MinMaxScaler scales the data to (default) range of (0,1) as follows\n",
    "- For a given vector X\n",
    "\\begin{align*}\n",
    "X_{std} &= \\frac{X - X_{min}}{X_{max} - X_{min}}\\\\\n",
    "X_{scaled} &= X_{std} * (max - min) + min\n",
    "\\end{align*}"
   ]
  },
  {
   "cell_type": "code",
   "execution_count": null,
   "metadata": {
    "execution": {
     "iopub.execute_input": "2022-10-23T18:45:28.714480Z",
     "iopub.status.busy": "2022-10-23T18:45:28.714155Z",
     "iopub.status.idle": "2022-10-23T18:45:29.028407Z",
     "shell.execute_reply": "2022-10-23T18:45:29.026988Z",
     "shell.execute_reply.started": "2022-10-23T18:45:28.714448Z"
    },
    "id": "ADZhTQG1VbFP",
    "slideshow": {
     "slide_type": "fragment"
    }
   },
   "outputs": [],
   "source": [
    "from sklearn.preprocessing import MinMaxScaler\n",
    "\n",
    "pipeline=MinMaxScaler()\n",
    "pipeline.fit(train_input)\n",
    "X_test, y_test = test_input.drop('label', axis=1), test_input.label\n",
    "X_train_transformed = pipeline.transform(train_input)\n",
    "X_test_transformed = pipeline.transform(X_test)\n"
   ]
  },
  {
   "cell_type": "markdown",
   "metadata": {
    "id": "zi0i_Yf5r4os",
    "slideshow": {
     "slide_type": "slide"
    }
   },
   "source": [
    "### Create a custom dataset\n",
    "- To use the data with PyTorch we wrap it in a ```Dataset``` class"
   ]
  },
  {
   "cell_type": "code",
   "execution_count": null,
   "metadata": {
    "execution": {
     "iopub.execute_input": "2022-10-23T18:45:29.033412Z",
     "iopub.status.busy": "2022-10-23T18:45:29.032820Z",
     "iopub.status.idle": "2022-10-23T18:45:29.039302Z",
     "shell.execute_reply": "2022-10-23T18:45:29.038658Z",
     "shell.execute_reply.started": "2022-10-23T18:45:29.033368Z"
    },
    "id": "qWKrMTHNVbFP",
    "slideshow": {
     "slide_type": "fragment"
    }
   },
   "outputs": [],
   "source": [
    "from torch.utils.data import Dataset,DataLoader\n",
    "class CustomDataset(Dataset):\n",
    "    def __init__(self,data):\n",
    "        #self.data=frame.to_numpy(dtype=np.float32)        \n",
    "        self.data=data\n",
    "    def __getitem__(self,idx):\n",
    "            return torch.as_tensor(self.data[idx],dtype=torch.float32)\n",
    "    \n",
    "    def __len__(self):\n",
    "        return len(self.data)\n",
    "\n",
    "train_dataset=CustomDataset(X_train_transformed)\n",
    "train_loader=DataLoader(train_dataset,batch_size=256)"
   ]
  },
  {
   "cell_type": "markdown",
   "metadata": {
    "id": "9xsmyyO4r88k",
    "slideshow": {
     "slide_type": "skip"
    }
   },
   "source": [
    "No attempt was made to optimize the network architecture"
   ]
  },
  {
   "cell_type": "code",
   "execution_count": null,
   "metadata": {
    "execution": {
     "iopub.execute_input": "2022-10-23T18:45:29.061316Z",
     "iopub.status.busy": "2022-10-23T18:45:29.060764Z",
     "iopub.status.idle": "2022-10-23T18:45:29.072848Z",
     "shell.execute_reply": "2022-10-23T18:45:29.071963Z",
     "shell.execute_reply.started": "2022-10-23T18:45:29.061274Z"
    },
    "id": "06IxjnaUVbFQ",
    "slideshow": {
     "slide_type": "slide"
    }
   },
   "outputs": [],
   "source": [
    "import torch.nn as nn\n",
    "\n",
    "class Net(nn.Module):\n",
    "    def __init__(self,activation=nn.ELU()):\n",
    "        super().__init__()\n",
    "        # Encoder\n",
    "        self.encoder=nn.Sequential(\n",
    "            nn.Linear(in_features=29,out_features=16),\n",
    "            activation,\n",
    "            nn.Linear(in_features=16,out_features=8),\n",
    "            activation,\n",
    "            nn.Linear(in_features=8,out_features=4),\n",
    "            activation,\n",
    "            nn.Linear(in_features=4,out_features=2),\n",
    "            activation\n",
    "        )\n",
    "        \n",
    "        # Decoder\n",
    "        self.decoder=nn.Sequential(\n",
    "            nn.Linear(in_features=2,out_features=4),\n",
    "            activation,\n",
    "            nn.Linear(in_features=4,out_features=8),\n",
    "            activation,\n",
    "            nn.Linear(in_features=8,out_features=16),\n",
    "            activation,\n",
    "            nn.Linear(in_features=16,out_features=29)\n",
    "        )\n",
    "    def forward(self,x):\n",
    "        return self.decoder(self.encoder(x))\n",
    "        "
   ]
  },
  {
   "cell_type": "code",
   "execution_count": null,
   "metadata": {
    "colab": {
     "base_uri": "https://localhost:8080/"
    },
    "execution": {
     "iopub.execute_input": "2022-10-23T18:45:29.074572Z",
     "iopub.status.busy": "2022-10-23T18:45:29.074142Z",
     "iopub.status.idle": "2022-10-23T18:47:19.767604Z",
     "shell.execute_reply": "2022-10-23T18:47:19.766381Z",
     "shell.execute_reply.started": "2022-10-23T18:45:29.074535Z"
    },
    "id": "b-ZsWJn3VbFQ",
    "outputId": "67947d0d-ef61-410e-94d2-0686b90d8aa2",
    "slideshow": {
     "slide_type": "slide"
    }
   },
   "outputs": [],
   "source": [
    "from torch.nn import MSELoss\n",
    "from torch.optim import Adam\n",
    "from tqdm import tqdm\n",
    "model=Net(nn.ELU())\n",
    "#model=Net(nn.Tanh())\n",
    "optimizer=Adam(model.parameters())\n",
    "## for regression problems typically MSELoss is used\n",
    "loss_fn=MSELoss()\n",
    "epochs=50\n",
    "for epoch in range(epochs):\n",
    "    loop=tqdm(train_loader)\n",
    "    loop.set_description(\"Epoch [{}/{}]\".format((epoch+1),epochs))\n",
    "    for x in loop:\n",
    "        optimizer.zero_grad()\n",
    "        y=model(x)\n",
    "        loss=loss_fn(x,y)\n",
    "        loss.backward()\n",
    "        optimizer.step()\n",
    "        loop.set_postfix(loss=loss.item())\n",
    "   "
   ]
  },
  {
   "cell_type": "markdown",
   "metadata": {
    "id": "ZoUK9VEStNON",
    "slideshow": {
     "slide_type": "slide"
    }
   },
   "source": [
    "## Detecting fraud\n",
    "\n",
    "- The mse of test data is computed. \n",
    "- Because the autoencoder learned the \"legitimate\" transactions we consider each transaction having mse > some threshold to be fraud. \n",
    "- We **ASSUME** that the distribution is normal and a z-score >3 covers 99% of the samples"
   ]
  },
  {
   "cell_type": "code",
   "execution_count": null,
   "metadata": {
    "colab": {
     "base_uri": "https://localhost:8080/"
    },
    "execution": {
     "iopub.execute_input": "2022-10-23T18:47:19.769384Z",
     "iopub.status.busy": "2022-10-23T18:47:19.769103Z",
     "iopub.status.idle": "2022-10-23T18:47:19.811936Z",
     "shell.execute_reply": "2022-10-23T18:47:19.810731Z",
     "shell.execute_reply.started": "2022-10-23T18:47:19.769357Z"
    },
    "id": "hNz2pYBFVbFQ",
    "outputId": "7d5957ec-048a-465a-de74-d75985c0abbb",
    "slideshow": {
     "slide_type": "slide"
    }
   },
   "outputs": [],
   "source": [
    "# Compute the output for the training data and MSE for that output\n",
    "# this will be used to establish a threshold for anomaly\n",
    "train_predict=model(torch.as_tensor(X_train_transformed,dtype=torch.float32))\n",
    "# mse_train is the mean square error of features per sample\n",
    "# It basically measures how much the input data is different from the output data \n",
    "# A \"perfect\" model would have a mse_train of 0\n",
    "mse_train=np.mean(np.power(X_train_transformed - train_predict.detach().numpy(), 2), axis=1)\n",
    "print(mse_train.mean(),mse_train.std())\n",
    "\n",
    "# Compute the output for the test data and MSE for that output\n",
    "test_predict = model(torch.as_tensor(X_test_transformed,dtype=torch.float32))\n",
    "# mse is the mean square error of features per sample for the test data\n",
    "mse_test = np.mean(np.power(X_test_transformed - test_predict.detach().numpy(), 2), axis=1)"
   ]
  },
  {
   "cell_type": "markdown",
   "metadata": {},
   "source": [
    "#### Visualisation of the results"
   ]
  },
  {
   "cell_type": "markdown",
   "metadata": {
    "id": "UrprY48-0K2e",
    "slideshow": {
     "slide_type": "slide"
    }
   },
   "source": [
    "- Visualise the \"separation\" between normal and anomaly. \n",
    "- ```y_test``` are the labels associated with each sample\n",
    "- Its values are either 0 or 1"
   ]
  },
  {
   "cell_type": "markdown",
   "metadata": {},
   "source": [
    "### Filtering numpy arrays\n",
    "\n",
    "numpy arrays can be filtered by another numpy array or pandas series,\n",
    "\n",
    "An example."
   ]
  },
  {
   "cell_type": "code",
   "execution_count": null,
   "metadata": {},
   "outputs": [],
   "source": [
    "s=pd.Series([0,2,7])\n",
    "a=np.array([33,27,53,14,35,68,79,18,94,110])\n",
    "f=np.array([1,2,9])\n",
    "print(a[s])\n",
    "print(a[f])"
   ]
  },
  {
   "cell_type": "markdown",
   "metadata": {},
   "source": [
    "Recall ```y_test``` contains the indices and labels of test data\n",
    "\n",
    "```y_test==i``` returns all indices for which ```label=i```"
   ]
  },
  {
   "cell_type": "code",
   "execution_count": null,
   "metadata": {
    "colab": {
     "base_uri": "https://localhost:8080/",
     "height": 408
    },
    "execution": {
     "iopub.execute_input": "2022-10-23T18:47:19.882932Z",
     "iopub.status.busy": "2022-10-23T18:47:19.882597Z",
     "iopub.status.idle": "2022-10-23T18:47:20.510052Z",
     "shell.execute_reply": "2022-10-23T18:47:20.508847Z",
     "shell.execute_reply.started": "2022-10-23T18:47:19.882903Z"
    },
    "id": "Dh7BMEQxVbFQ",
    "outputId": "5c26b877-461d-430a-f886-b2c6e13f97a6",
    "slideshow": {
     "slide_type": "slide"
    }
   },
   "outputs": [],
   "source": [
    "import matplotlib.pyplot as plt\n",
    "clean = mse_test[y_test==0]\n",
    "fraud = mse_test[y_test==1]\n",
    "print(\"num clean {}. num fraud {}\".format(len(clean),len(fraud)))\n",
    "fig, ax = plt.subplots(figsize=(10,6))\n",
    "\n",
    "\n",
    "ax.hist(clean, bins=100, density=True, label=\"clean\", alpha=.6, color=\"green\")\n",
    "ax.hist(fraud, bins=100, density=True, label=\"fraud\", alpha=.6, color=\"red\")\n",
    "plt.xlim((0,0.1))\n",
    "plt.title(\"Distribution of mean squared error\")\n",
    "plt.legend()\n",
    "plt.xlabel(\"mse\")\n",
    "plt.ylabel(\"count\")\n",
    "plt.show()"
   ]
  },
  {
   "cell_type": "code",
   "execution_count": null,
   "metadata": {
    "colab": {
     "base_uri": "https://localhost:8080/"
    },
    "execution": {
     "iopub.execute_input": "2022-10-23T18:52:02.095520Z",
     "iopub.status.busy": "2022-10-23T18:52:02.095157Z",
     "iopub.status.idle": "2022-10-23T18:52:02.109197Z",
     "shell.execute_reply": "2022-10-23T18:52:02.108059Z",
     "shell.execute_reply.started": "2022-10-23T18:52:02.095491Z"
    },
    "id": "q1-JZw3SVbFR",
    "outputId": "9422845c-aeeb-47f3-e549-1e5f5b7fd554",
    "slideshow": {
     "slide_type": "slide"
    }
   },
   "outputs": [],
   "source": [
    "## Consider all instances that produce a z-score >3\n",
    "## We are ASSUMING The mse distribution of training samples are drawn from a normal distribution\n",
    "\n",
    "z=(mse_test-mse_train.mean())/mse_train.std()\n",
    "outliers=z>3\n",
    "print(\"num of samples classified as fraud {}\".format(outliers.sum()))\n",
    "\n",
    "from sklearn.metrics import confusion_matrix\n",
    "\n",
    "cm= confusion_matrix(outliers,y_test)\n",
    "# true/false positives/negatives\n",
    "(tn, fn, fp, tp) = cm.flatten()\n",
    "print(fp,fn)"
   ]
  },
  {
   "cell_type": "code",
   "execution_count": null,
   "metadata": {
    "colab": {
     "base_uri": "https://localhost:8080/"
    },
    "execution": {
     "iopub.execute_input": "2022-10-23T18:52:02.454733Z",
     "iopub.status.busy": "2022-10-23T18:52:02.454353Z",
     "iopub.status.idle": "2022-10-23T18:52:02.461495Z",
     "shell.execute_reply": "2022-10-23T18:52:02.459948Z",
     "shell.execute_reply.started": "2022-10-23T18:52:02.454703Z"
    },
    "id": "sok0Zqb9VbFR",
    "outputId": "ed52fc19-cd67-45cd-ce85-968148fcb955",
    "slideshow": {
     "slide_type": "slide"
    }
   },
   "outputs": [],
   "source": [
    "print(\"Confusion matrix \\n{}\".format(cm))\n",
    "\n",
    "print(\"precision: tp/(tp+fp)= {:.2%}\".format(tp/(fp+tp)))\n",
    "print(\"recall: tp/(tp+fn)={:.2%}\".format(tp/(fn+tp)))"
   ]
  },
  {
   "cell_type": "code",
   "execution_count": null,
   "metadata": {},
   "outputs": [],
   "source": []
  }
 ],
 "metadata": {
  "accelerator": "GPU",
  "celltoolbar": "Slideshow",
  "colab": {
   "include_colab_link": true,
   "provenance": []
  },
  "gpuClass": "standard",
  "kernelspec": {
   "display_name": "Python 3 (ipykernel)",
   "language": "python",
   "name": "python3"
  },
  "language_info": {
   "codemirror_mode": {
    "name": "ipython",
    "version": 3
   },
   "file_extension": ".py",
   "mimetype": "text/x-python",
   "name": "python",
   "nbconvert_exporter": "python",
   "pygments_lexer": "ipython3",
   "version": "3.11.5"
  },
  "vscode": {
   "interpreter": {
    "hash": "916dbcbb3f70747c44a77c7bcd40155683ae19c65e1c03b4aa3499c5328201f1"
   }
  }
 },
 "nbformat": 4,
 "nbformat_minor": 1
}
