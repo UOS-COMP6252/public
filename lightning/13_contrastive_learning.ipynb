{
 "cells": [
  {
   "cell_type": "markdown",
   "id": "8dfc821d",
   "metadata": {
    "id": "8dfc821d",
    "papermill": {
     "duration": 0.011721,
     "end_time": "2022-05-03T01:17:51.936328",
     "exception": false,
     "start_time": "2022-05-03T01:17:51.924607",
     "status": "completed"
    },
    "tags": []
   },
   "source": [
    "## Setup\n",
    "This notebook requires some packages besides pytorch-lightning."
   ]
  },
  {
   "cell_type": "code",
   "execution_count": 1,
   "id": "00a149ee",
   "metadata": {
    "colab": {
     "base_uri": "https://localhost:8080/"
    },
    "execution": {
     "iopub.execute_input": "2022-05-03T01:17:51.962905Z",
     "iopub.status.busy": "2022-05-03T01:17:51.962281Z",
     "iopub.status.idle": "2022-05-03T01:17:55.701176Z",
     "shell.execute_reply": "2022-05-03T01:17:55.700261Z"
    },
    "id": "00a149ee",
    "lines_to_next_cell": 0,
    "outputId": "73ce5990-266f-4372-8bcf-b825bbae75ce",
    "papermill": {
     "duration": 3.755451,
     "end_time": "2022-05-03T01:17:55.703535",
     "exception": false,
     "start_time": "2022-05-03T01:17:51.948084",
     "status": "completed"
    },
    "tags": []
   },
   "outputs": [],
   "source": [
    "! pip install --quiet \"torch>=1.8\" \"torchmetrics>=0.7\" \"ipython[notebook]\" \"pytorch-lightning>=1.4\" \"torchvision\" \"setuptools==59.5.0\" \"seaborn\" \"matplotlib\""
   ]
  },
  {
   "cell_type": "code",
   "execution_count": 2,
   "id": "944f6485",
   "metadata": {
    "colab": {
     "base_uri": "https://localhost:8080/"
    },
    "execution": {
     "iopub.execute_input": "2022-05-03T01:17:55.754645Z",
     "iopub.status.busy": "2022-05-03T01:17:55.754325Z",
     "iopub.status.idle": "2022-05-03T01:17:58.993701Z",
     "shell.execute_reply": "2022-05-03T01:17:58.993022Z"
    },
    "id": "944f6485",
    "outputId": "ca61a867-7f8f-4aa8-83a1-ff984ce0eb95",
    "papermill": {
     "duration": 3.254732,
     "end_time": "2022-05-03T01:17:58.995369",
     "exception": false,
     "start_time": "2022-05-03T01:17:55.740637",
     "status": "completed"
    },
    "tags": []
   },
   "outputs": [
    {
     "name": "stderr",
     "output_type": "stream",
     "text": [
      "/home/user/.local/lib/python3.10/site-packages/pkg_resources/__init__.py:116: PkgResourcesDeprecationWarning: 1.1build1 is an invalid version and will not be supported in a future release\n",
      "  warnings.warn(\n",
      "/home/user/.local/lib/python3.10/site-packages/pkg_resources/__init__.py:116: PkgResourcesDeprecationWarning: 0.1.43ubuntu1 is an invalid version and will not be supported in a future release\n",
      "  warnings.warn(\n",
      "Global seed set to 42\n"
     ]
    },
    {
     "name": "stdout",
     "output_type": "stream",
     "text": [
      "Device: cuda:0\n",
      "Number of workers: 16\n"
     ]
    }
   ],
   "source": [
    "import os\n",
    "import urllib.request\n",
    "from copy import deepcopy\n",
    "from urllib.error import HTTPError\n",
    "\n",
    "import matplotlib\n",
    "import matplotlib.pyplot as plt\n",
    "import pytorch_lightning as pl\n",
    "import seaborn as sns\n",
    "import torch\n",
    "import torch.nn as nn\n",
    "import torch.nn.functional as F\n",
    "import torch.optim as optim\n",
    "import torch.utils.data as data\n",
    "import torchvision\n",
    "from IPython.display import set_matplotlib_formats\n",
    "from pytorch_lightning.callbacks import LearningRateMonitor, ModelCheckpoint,TQDMProgressBar\n",
    "from torchvision import transforms\n",
    "from torchvision.datasets import STL10\n",
    "from tqdm.notebook import tqdm\n",
    "\n",
    "plt.set_cmap(\"cividis\")\n",
    "%matplotlib inline\n",
    "###set_matplotlib_formats(\"svg\", \"pdf\")  # For export\n",
    "####matplotlib.rcParams[\"lines.linewidth\"] = 2.0\n",
    "####sns.set()\n",
    "\n",
    "# Import tensorboard\n",
    "%load_ext tensorboard\n",
    "\n",
    "# Path to the folder where the datasets are/should be downloaded (e.g. CIFAR10)\n",
    "DATASET_PATH = os.environ.get(\"PATH_DATASETS\", \"data/\")\n",
    "# Path to the folder where the pretrained models are saved\n",
    "CHECKPOINT_PATH = os.environ.get(\"PATH_CHECKPOINT\", \"saved_models/ContrastiveLearning/\")\n",
    "# In this notebook, we use data loaders with heavier computational processing. It is recommended to use as many\n",
    "# workers as possible in a data loader, which corresponds to the number of CPU cores\n",
    "NUM_WORKERS = os.cpu_count()\n",
    "\n",
    "# Setting the seed\n",
    "pl.seed_everything(42)\n",
    "\n",
    "# Ensure that all operations are deterministic on GPU (if used) for reproducibility\n",
    "torch.backends.cudnn.determinstic = True\n",
    "torch.backends.cudnn.benchmark = False\n",
    "\n",
    "device = torch.device(\"cuda:0\") if torch.cuda.is_available() else torch.device(\"cpu\")\n",
    "print(\"Device:\", device)\n",
    "print(\"Number of workers:\", NUM_WORKERS)"
   ]
  },
  {
   "cell_type": "code",
   "execution_count": 3,
   "id": "O_VtS8M_FRVz",
   "metadata": {
    "colab": {
     "base_uri": "https://localhost:8080/",
     "height": 36
    },
    "id": "O_VtS8M_FRVz",
    "outputId": "9918868d-0f5d-4a8a-8fe8-605a78f18d15"
   },
   "outputs": [
    {
     "data": {
      "text/plain": [
       "'1.13.0+cu117'"
      ]
     },
     "execution_count": 3,
     "metadata": {},
     "output_type": "execute_result"
    }
   ],
   "source": [
    "torch.__version__"
   ]
  },
  {
   "cell_type": "markdown",
   "id": "69f46cbe",
   "metadata": {
    "id": "69f46cbe",
    "papermill": {
     "duration": 0.011969,
     "end_time": "2022-05-03T01:17:59.020819",
     "exception": false,
     "start_time": "2022-05-03T01:17:59.008850",
     "status": "completed"
    },
    "tags": []
   },
   "source": [
    "As in many tutorials before, we provide pre-trained models.\n",
    "Note that those models are slightly larger as normal (~100MB overall) since we use the default ResNet-18 architecture.\n",
    "If you are running this notebook locally, make sure to have sufficient disk space available."
   ]
  },
  {
   "cell_type": "code",
   "execution_count": 4,
   "id": "75701a79",
   "metadata": {
    "colab": {
     "base_uri": "https://localhost:8080/"
    },
    "execution": {
     "iopub.execute_input": "2022-05-03T01:17:59.046279Z",
     "iopub.status.busy": "2022-05-03T01:17:59.045797Z",
     "iopub.status.idle": "2022-05-03T01:18:01.223802Z",
     "shell.execute_reply": "2022-05-03T01:18:01.223161Z"
    },
    "id": "75701a79",
    "outputId": "cbd4ee02-7d59-4c40-c14f-7a91f381659c",
    "papermill": {
     "duration": 2.19263,
     "end_time": "2022-05-03T01:18:01.225338",
     "exception": false,
     "start_time": "2022-05-03T01:17:59.032708",
     "status": "completed"
    },
    "tags": []
   },
   "outputs": [],
   "source": [
    "# Github URL where saved models are stored for this tutorial\n",
    "base_url = \"https://raw.githubusercontent.com/phlippe/saved_models/main/tutorial17/\"\n",
    "# Files to download\n",
    "pretrained_files = [\n",
    "    \"SimCLR.ckpt\",\n",
    "    \"ResNet.ckpt\",\n",
    "    \"tensorboards/SimCLR/events.out.tfevents.SimCLR\",\n",
    "    \"tensorboards/classification/ResNet/events.out.tfevents.ResNet\",\n",
    "]\n",
    "pretrained_files += [f\"LogisticRegression_{size}.ckpt\" for size in [10, 20, 50, 100, 200, 500]]\n",
    "# Create checkpoint path if it doesn't exist yet\n",
    "os.makedirs(CHECKPOINT_PATH, exist_ok=True)\n",
    "\n",
    "# For each file, check whether it already exists. If not, try downloading it.\n",
    "for file_name in pretrained_files:\n",
    "    file_path = os.path.join(CHECKPOINT_PATH, file_name)\n",
    "    if \"/\" in file_name:\n",
    "        os.makedirs(file_path.rsplit(\"/\", 1)[0], exist_ok=True)\n",
    "    if not os.path.isfile(file_path):\n",
    "        file_url = base_url + file_name\n",
    "        print(f\"Downloading {file_url}...\")\n",
    "        try:\n",
    "            urllib.request.urlretrieve(file_url, file_path)\n",
    "        except HTTPError as e:\n",
    "            print(\n",
    "                \"Something went wrong. Please try to download the file from the GDrive folder, or contact the author with the full output including the following error:\\n\",\n",
    "                e,\n",
    "            )"
   ]
  },
  {
   "cell_type": "markdown",
   "id": "281a5764",
   "metadata": {
    "id": "281a5764",
    "papermill": {
     "duration": 0.012844,
     "end_time": "2022-05-03T01:18:01.251854",
     "exception": false,
     "start_time": "2022-05-03T01:18:01.239010",
     "status": "completed"
    },
    "tags": []
   },
   "source": [
    "## SimCLR\n",
    "\n",
    "We will start our exploration of contrastive learning by discussing the effect of different data augmentation techniques, and how we can implement an efficient data loader for such.\n",
    "Next, we implement SimCLR with PyTorch Lightning, and finally train it on a large, unlabeled dataset."
   ]
  },
  {
   "cell_type": "markdown",
   "id": "25dc7369",
   "metadata": {
    "id": "25dc7369",
    "lines_to_next_cell": 2,
    "papermill": {
     "duration": 0.01205,
     "end_time": "2022-05-03T01:18:01.276160",
     "exception": false,
     "start_time": "2022-05-03T01:18:01.264110",
     "status": "completed"
    },
    "tags": []
   },
   "source": [
    "### Data Augmentation for Contrastive Learning\n",
    "\n",
    "To allow efficient training, we need to prepare the data loading such that we sample two different, random augmentations for each image in the batch.\n",
    "The easiest way to do this is by creating a transformation that, when being called, applies a set of data augmentations to an image twice.\n",
    "This is implemented in the class `ContrastiveTransformations` below:"
   ]
  },
  {
   "cell_type": "code",
   "execution_count": 5,
   "id": "587db13b",
   "metadata": {
    "execution": {
     "iopub.execute_input": "2022-05-03T01:18:01.302101Z",
     "iopub.status.busy": "2022-05-03T01:18:01.301709Z",
     "iopub.status.idle": "2022-05-03T01:18:01.306189Z",
     "shell.execute_reply": "2022-05-03T01:18:01.305542Z"
    },
    "id": "587db13b",
    "papermill": {
     "duration": 0.019313,
     "end_time": "2022-05-03T01:18:01.307666",
     "exception": false,
     "start_time": "2022-05-03T01:18:01.288353",
     "status": "completed"
    },
    "tags": []
   },
   "outputs": [],
   "source": [
    "class ContrastiveTransformations:\n",
    "    def __init__(self, base_transforms, n_views=2):\n",
    "        self.base_transforms = base_transforms\n",
    "        self.n_views = n_views\n",
    "\n",
    "    def __call__(self, x):\n",
    "        return [self.base_transforms(x) for i in range(self.n_views)]"
   ]
  },
  {
   "cell_type": "code",
   "execution_count": 6,
   "id": "941fe426",
   "metadata": {
    "execution": {
     "iopub.execute_input": "2022-05-03T01:18:01.360304Z",
     "iopub.status.busy": "2022-05-03T01:18:01.359979Z",
     "iopub.status.idle": "2022-05-03T01:18:01.365103Z",
     "shell.execute_reply": "2022-05-03T01:18:01.364508Z"
    },
    "id": "941fe426",
    "papermill": {
     "duration": 0.022638,
     "end_time": "2022-05-03T01:18:01.367293",
     "exception": false,
     "start_time": "2022-05-03T01:18:01.344655",
     "status": "completed"
    },
    "tags": []
   },
   "outputs": [],
   "source": [
    "contrast_transforms = transforms.Compose(\n",
    "    [\n",
    "        transforms.RandomHorizontalFlip(),\n",
    "        transforms.RandomResizedCrop(size=96),\n",
    "        transforms.RandomApply([transforms.ColorJitter(brightness=0.5, contrast=0.5, saturation=0.5, hue=0.1)], p=0.8),\n",
    "        transforms.RandomGrayscale(p=0.2),\n",
    "        transforms.GaussianBlur(kernel_size=9),\n",
    "        transforms.ToTensor(),\n",
    "        transforms.Normalize((0.5,), (0.5,)),\n",
    "    ]\n",
    ")"
   ]
  },
  {
   "cell_type": "code",
   "execution_count": 7,
   "id": "784d1001",
   "metadata": {
    "colab": {
     "base_uri": "https://localhost:8080/",
     "height": 84,
     "referenced_widgets": [
      "20e99eeba1ca4e0fa394b5df4735685b",
      "6e7330d6ec784540a6196c675a56f333",
      "1d71e712168a499ebe1f95eb9f48b119",
      "93ebc2a2f45c41eda863ae7475c5ba8a",
      "094cd121be2542bfb44bbcb223cef8d3",
      "f657ae08c2f64ee8aa93fad7c586beaa",
      "862f761576354d0bbdf25d04e25f763e",
      "f298ac206a9e4e3ea50292c007db1aee",
      "c5c8f670c78d4899ae9886ddc6a703e5",
      "432126e4d2534c4fab6977fd300377bf",
      "518321f713f64ad48e386e4fae4f8001"
     ]
    },
    "execution": {
     "iopub.execute_input": "2022-05-03T01:18:01.424132Z",
     "iopub.status.busy": "2022-05-03T01:18:01.423585Z",
     "iopub.status.idle": "2022-05-03T01:19:57.620567Z",
     "shell.execute_reply": "2022-05-03T01:19:57.619852Z"
    },
    "id": "784d1001",
    "outputId": "d436d046-e49f-4548-bf50-0345c85be915",
    "papermill": {
     "duration": 116.498757,
     "end_time": "2022-05-03T01:19:57.907071",
     "exception": false,
     "start_time": "2022-05-03T01:18:01.408314",
     "status": "completed"
    },
    "tags": []
   },
   "outputs": [
    {
     "name": "stdout",
     "output_type": "stream",
     "text": [
      "Files already downloaded and verified\n",
      "Files already downloaded and verified\n"
     ]
    }
   ],
   "source": [
    "unlabeled_data = STL10(\n",
    "    root=DATASET_PATH,\n",
    "    split=\"unlabeled\",\n",
    "    download=True,\n",
    "    transform=ContrastiveTransformations(contrast_transforms, n_views=2),\n",
    ")\n",
    "train_data_contrast = STL10(\n",
    "    root=DATASET_PATH,\n",
    "    split=\"train\",\n",
    "    download=True,\n",
    "    transform=ContrastiveTransformations(contrast_transforms, n_views=2),\n",
    ")"
   ]
  },
  {
   "cell_type": "markdown",
   "id": "a10f5351",
   "metadata": {
    "id": "a10f5351",
    "papermill": {
     "duration": 0.461747,
     "end_time": "2022-05-03T01:19:58.809640",
     "exception": false,
     "start_time": "2022-05-03T01:19:58.347893",
     "status": "completed"
    },
    "tags": []
   },
   "source": [
    "Finally, before starting with our implementation of SimCLR, let's look\n",
    "at some example image pairs sampled with our augmentations:"
   ]
  },
  {
   "cell_type": "code",
   "execution_count": 8,
   "id": "7e955471",
   "metadata": {
    "execution": {
     "iopub.execute_input": "2022-05-03T01:19:59.704945Z",
     "iopub.status.busy": "2022-05-03T01:19:59.704583Z",
     "iopub.status.idle": "2022-05-03T01:20:00.297246Z",
     "shell.execute_reply": "2022-05-03T01:20:00.296622Z"
    },
    "id": "7e955471",
    "outputId": "40f14484-9e87-4c20-d7a2-45be082c0aae",
    "papermill": {
     "duration": 1.050318,
     "end_time": "2022-05-03T01:20:00.301527",
     "exception": false,
     "start_time": "2022-05-03T01:19:59.251209",
     "status": "completed"
    },
    "tags": []
   },
   "outputs": [
    {
     "name": "stderr",
     "output_type": "stream",
     "text": [
      "Global seed set to 42\n"
     ]
    },
    {
     "data": {
      "image/png": "[encoded data removed]",
      "text/plain": [
       "<Figure size 1000x500 with 1 Axes>"
      ]
     },
     "metadata": {},
     "output_type": "display_data"
    }
   ],
   "source": [
    "# Visualize some examples\n",
    "pl.seed_everything(42)\n",
    "NUM_IMAGES = 6\n",
    "imgs = torch.stack([img for idx in range(NUM_IMAGES) for img in unlabeled_data[idx][0]], dim=0)\n",
    "img_grid = torchvision.utils.make_grid(imgs, nrow=6, normalize=True, pad_value=0.9)\n",
    "img_grid = img_grid.permute(1, 2, 0)\n",
    "\n",
    "plt.figure(figsize=(10, 5))\n",
    "plt.title(\"Augmented image examples of the STL10 dataset\")\n",
    "plt.imshow(img_grid)\n",
    "plt.axis(\"off\")\n",
    "plt.show()\n",
    "plt.close()"
   ]
  },
  {
   "cell_type": "markdown",
   "id": "b7287516",
   "metadata": {
    "id": "b7287516",
    "papermill": {
     "duration": 0.452002,
     "end_time": "2022-05-03T01:20:01.057929",
     "exception": false,
     "start_time": "2022-05-03T01:20:00.605927",
     "status": "completed"
    },
    "tags": []
   },
   "source": [
    "We see the wide variety of our data augmentation, including randomly cropping, grayscaling, gaussian blur, and color distortion.\n",
    "Thus, it remains a challenging task for the model to match two, independently augmented patches of the same image."
   ]
  },
  {
   "cell_type": "markdown",
   "id": "2b153298",
   "metadata": {
    "id": "2b153298",
    "lines_to_next_cell": 2,
    "papermill": {
     "duration": 0.451656,
     "end_time": "2022-05-03T01:20:01.951310",
     "exception": false,
     "start_time": "2022-05-03T01:20:01.499654",
     "status": "completed"
    },
    "tags": []
   },
   "source": [
    "### SimCLR implementation\n",
    "\n",
    "Using the data loader pipeline above, we can now implement SimCLR.\n",
    "At each iteration, we get for every image $x$ two differently augmented versions, which we refer to as $\\tilde{x}_i$ and $\\tilde{x}_j$.\n",
    "Both of these images are encoded into a one-dimensional feature vector, between which we want to maximize similarity which minimizes it to all other images in the batch.\n",
    "The encoder network is split into two parts: a base encoder network $f(\\cdot)$, and a projection head $g(\\cdot)$.\n",
    "The base network is usually a deep CNN as we have seen in e.g. [Tutorial 5](https://uvadlc-notebooks.readthedocs.io/en/latest/tutorial_notebooks/tutorial5/Inception_ResNet_DenseNet.html) before, and is responsible for extracting a representation vector from the augmented data examples.\n",
    "In our experiments, we will use the common ResNet-18 architecture as $f(\\cdot)$, and refer to the output as $f(\\tilde{x}_i)=h_i$.\n",
    "The projection head $g(\\cdot)$ maps the representation $h$ into a space where we apply the contrastive loss, i.e., compare similarities between vectors.\n",
    "It is often chosen to be a small MLP with non-linearities, and for simplicity, we follow the original SimCLR paper setup by defining it as a two-layer MLP with ReLU activation in the hidden layer.\n",
    "Note that in the follow-up paper, [SimCLRv2](https://arxiv.org/abs/2006.10029), the authors mention that larger/wider MLPs can boost the performance considerably.\n",
    "This is why we apply an MLP with four times larger hidden dimensions, but deeper MLPs showed to overfit on the given dataset.\n",
    "The general setup is visualized below (figure credit - [Ting Chen et al. ](https://arxiv.org/abs/2006.10029)):\n",
    "\n",
    "<center width=\"100%\"><img src=\"https://github.com/PyTorchLightning/lightning-tutorials/raw/main/course_UvA-DL/13-contrastive-learning/simclr_network_setup.svg\" width=\"350px\"></center>\n",
    "\n",
    "After finishing the training with contrastive learning, we will remove the projection head $g(\\cdot)$, and use $f(\\cdot)$ as a pretrained feature extractor.\n",
    "The representations $z$ that come out of the projection head $g(\\cdot)$ have been shown to perform worse than those of the base network $f(\\cdot)$ when finetuning the network for a new task.\n",
    "This is likely because the representations $z$ are trained to become invariant to many features like the color that can be important for downstream tasks.\n",
    "Thus, $g(\\cdot)$ is only needed for the contrastive learning stage.\n",
    "\n",
    "Now that the architecture is described, let's take a closer look at how we train the model.\n",
    "As mentioned before, we want to maximize the similarity between the representations of the two augmented versions of the same image, i.e., $z_i$ and $z_j$ in the figure above, while minimizing it to all other examples in the batch.\n",
    "SimCLR thereby applies the InfoNCE loss, originally proposed by [Aaron van den Oord et al. ](https://arxiv.org/abs/1807.03748) for contrastive learning.\n",
    "In short, the InfoNCE loss compares the similarity of $z_i$ and $z_j$ to the similarity of $z_i$ to any other representation in the batch by performing a softmax over the similarity values.\n",
    "The loss can be formally written as:\n",
    "$$\n",
    "\\ell_{i,j}=-\\log \\frac{\\exp(\\text{sim}(z_i,z_j)/\\tau)}{\\sum_{k=1}^{2N}\\mathbb{1}_{[k\\neq i]}\\exp(\\text{sim}(z_i,z_k)/\\tau)}=-\\text{sim}(z_i,z_j)/\\tau+\\log\\left[\\sum_{k=1}^{2N}\\mathbb{1}_{[k\\neq i]}\\exp(\\text{sim}(z_i,z_k)/\\tau)\\right]\n",
    "$$\n",
    "The function $\\text{sim}$ is a similarity metric, and the hyperparameter $\\tau$ is called temperature determining how peaked the distribution is.\n",
    "Since many similarity metrics are bounded, the temperature parameter allows us to balance the influence of many dissimilar image patches versus one similar patch.\n",
    "The similarity metric that is used in SimCLR is cosine similarity, as defined below:\n",
    "$$\n",
    "\\text{sim}(z_i,z_j) = \\frac{z_i^\\top \\cdot z_j}{||z_i||\\cdot||z_j||}\n",
    "$$\n",
    "The maximum cosine similarity possible is $1$, while the minimum is $-1$.\n",
    "In general, we will see that the features of two different images will converge to a cosine similarity around zero since the minimum, $-1$, would require $z_i$ and $z_j$ to be in the exact opposite direction in all feature dimensions, which does not allow for great flexibility.\n",
    "\n",
    "Finally, now that we have discussed all details, let's implement SimCLR below as a PyTorch Lightning module:"
   ]
  },
  {
   "cell_type": "code",
   "execution_count": 9,
   "id": "a6dd9325",
   "metadata": {
    "execution": {
     "iopub.execute_input": "2022-05-03T01:20:02.866983Z",
     "iopub.status.busy": "2022-05-03T01:20:02.866359Z",
     "iopub.status.idle": "2022-05-03T01:20:02.877616Z",
     "shell.execute_reply": "2022-05-03T01:20:02.877011Z"
    },
    "id": "a6dd9325",
    "lines_to_next_cell": 2,
    "papermill": {
     "duration": 0.476109,
     "end_time": "2022-05-03T01:20:02.879062",
     "exception": false,
     "start_time": "2022-05-03T01:20:02.402953",
     "status": "completed"
    },
    "tags": []
   },
   "outputs": [],
   "source": [
    "class SimCLR(pl.LightningModule):\n",
    "    def __init__(self, hidden_dim, lr, temperature, weight_decay, max_epochs=500):\n",
    "        super().__init__()\n",
    "        self.save_hyperparameters()\n",
    "        assert self.hparams.temperature > 0.0, \"The temperature must be a positive float!\"\n",
    "        # Base model f(.)\n",
    "        self.convnet = torchvision.models.resnet18(\n",
    "            pretrained=False, num_classes=4 * hidden_dim\n",
    "        )  # num_classes is the output size of the last linear layer\n",
    "        # The MLP for g(.) consists of Linear->ReLU->Linear\n",
    "        self.convnet.fc = nn.Sequential(\n",
    "            self.convnet.fc,  # Linear(ResNet output, 4*hidden_dim)\n",
    "            nn.ReLU(inplace=True),\n",
    "            nn.Linear(4 * hidden_dim, hidden_dim),\n",
    "        )\n",
    "\n",
    "    def configure_optimizers(self):\n",
    "        optimizer = optim.AdamW(self.parameters(), lr=self.hparams.lr, weight_decay=self.hparams.weight_decay)\n",
    "        lr_scheduler = optim.lr_scheduler.CosineAnnealingLR(\n",
    "            optimizer, T_max=self.hparams.max_epochs, eta_min=self.hparams.lr / 50\n",
    "        )\n",
    "        return [optimizer], [lr_scheduler]\n",
    "\n",
    "    def info_nce_loss(self, batch, mode=\"train\"):\n",
    "        imgs, _ = batch\n",
    "        imgs = torch.cat(imgs, dim=0)\n",
    "\n",
    "        # Encode all images\n",
    "        feats = self.convnet(imgs)\n",
    "        # Calculate cosine similarity\n",
    "        cos_sim = F.cosine_similarity(feats[:, None, :], feats[None, :, :], dim=-1)\n",
    "        # Mask out cosine similarity to itself\n",
    "        self_mask = torch.eye(cos_sim.shape[0], dtype=torch.bool, device=cos_sim.device)\n",
    "        cos_sim.masked_fill_(self_mask, -9e15)\n",
    "        # Find positive example -> batch_size//2 away from the original example\n",
    "        pos_mask = self_mask.roll(shifts=cos_sim.shape[0] // 2, dims=0)\n",
    "        # InfoNCE loss\n",
    "        cos_sim = cos_sim / self.hparams.temperature\n",
    "        nll = -cos_sim[pos_mask] + torch.logsumexp(cos_sim, dim=-1)\n",
    "        nll = nll.mean()\n",
    "\n",
    "        # Logging loss\n",
    "        self.log(mode + \"_loss\", nll)\n",
    "        # Get ranking position of positive example\n",
    "        comb_sim = torch.cat(\n",
    "            [cos_sim[pos_mask][:, None], cos_sim.masked_fill(pos_mask, -9e15)],  # First position positive example\n",
    "            dim=-1,\n",
    "        )\n",
    "        sim_argsort = comb_sim.argsort(dim=-1, descending=True).argmin(dim=-1)\n",
    "        # Logging ranking metrics\n",
    "        self.log(mode + \"_acc_top1\", (sim_argsort == 0).float().mean())\n",
    "        self.log(mode + \"_acc_top5\", (sim_argsort < 5).float().mean())\n",
    "        self.log(mode + \"_acc_mean_pos\", 1 + sim_argsort.float().mean())\n",
    "\n",
    "        return nll\n",
    "\n",
    "    def training_step(self, batch, batch_idx):\n",
    "        return self.info_nce_loss(batch, mode=\"train\")\n",
    "\n",
    "    def validation_step(self, batch, batch_idx):\n",
    "        self.info_nce_loss(batch, mode=\"val\")"
   ]
  },
  {
   "cell_type": "markdown",
   "id": "728038fa",
   "metadata": {
    "id": "728038fa",
    "papermill": {
     "duration": 0.442542,
     "end_time": "2022-05-03T01:20:03.748871",
     "exception": false,
     "start_time": "2022-05-03T01:20:03.306329",
     "status": "completed"
    },
    "tags": []
   },
   "source": [
    "Alternatively to performing the validation on the contrastive learning loss as well, we could also take a simple, small downstream task, and track the performance of the base network $f(\\cdot)$ on that.\n",
    "However, in this tutorial, we will restrict ourselves to the STL10\n",
    "dataset where we use the task of image classification on STL10 as our\n",
    "test task."
   ]
  },
  {
   "cell_type": "markdown",
   "id": "abacae06",
   "metadata": {
    "id": "abacae06",
    "lines_to_next_cell": 2,
    "papermill": {
     "duration": 0.442107,
     "end_time": "2022-05-03T01:20:04.652684",
     "exception": false,
     "start_time": "2022-05-03T01:20:04.210577",
     "status": "completed"
    },
    "tags": []
   },
   "source": [
    "### Training\n",
    "\n",
    "Now that we have implemented SimCLR and the data loading pipeline, we are ready to train the model.\n",
    "We will use the same training function setup as usual.\n",
    "For saving the best model checkpoint, we track the metric `val_acc_top5`, which describes how often the correct image patch is within the top-5 most similar examples in the batch.\n",
    "This is usually less noisy than the top-1 metric, making it a better metric to choose the best model from."
   ]
  },
  {
   "cell_type": "code",
   "execution_count": 10,
   "id": "d3552b12",
   "metadata": {
    "execution": {
     "iopub.execute_input": "2022-05-03T01:20:05.406773Z",
     "iopub.status.busy": "2022-05-03T01:20:05.406412Z",
     "iopub.status.idle": "2022-05-03T01:20:05.413884Z",
     "shell.execute_reply": "2022-05-03T01:20:05.413208Z"
    },
    "id": "d3552b12",
    "papermill": {
     "duration": 0.312011,
     "end_time": "2022-05-03T01:20:05.415956",
     "exception": false,
     "start_time": "2022-05-03T01:20:05.103945",
     "status": "completed"
    },
    "tags": []
   },
   "outputs": [],
   "source": [
    "def train_simclr(batch_size, max_epochs=500, **kwargs):\n",
    "    trainer = pl.Trainer(\n",
    "        default_root_dir=os.path.join(CHECKPOINT_PATH, \"SimCLR\"),\n",
    "        gpus=1 if str(device) == \"cuda:0\" else 0,\n",
    "        max_epochs=max_epochs,\n",
    "        callbacks=[\n",
    "            ModelCheckpoint(save_weights_only=True, mode=\"max\", monitor=\"val_acc_top5\"),\n",
    "            LearningRateMonitor(\"epoch\"),TQDMProgressBar(refresh_rate=10,process_position=1)\n",
    "        ],\n",
    "       # progress_bar_refresh_rate=1,\n",
    "    )\n",
    "    trainer.logger._default_hp_metric = None  # Optional logging argument that we don't need\n",
    "\n",
    "    # Check whether pretrained model exists. If yes, load it and skip training\n",
    "    pretrained_filename = os.path.join(CHECKPOINT_PATH, \"SimCLR.ckpt\")\n",
    "    if os.path.isfile(pretrained_filename):\n",
    "        print(f\"Found pretrained model at {pretrained_filename}, loading...\")\n",
    "        # Automatically loads the model with the saved hyperparameters\n",
    "        model = SimCLR.load_from_checkpoint(pretrained_filename)\n",
    "    #else:\n",
    "    train_loader = data.DataLoader(\n",
    "        unlabeled_data,\n",
    "        batch_size=batch_size,\n",
    "        shuffle=True,\n",
    "        drop_last=True,\n",
    "        pin_memory=True,\n",
    "        num_workers=NUM_WORKERS,\n",
    "    )\n",
    "    val_loader = data.DataLoader(\n",
    "        train_data_contrast,\n",
    "        batch_size=batch_size,\n",
    "        shuffle=False,\n",
    "        drop_last=False,\n",
    "        pin_memory=True,\n",
    "        num_workers=NUM_WORKERS,\n",
    "    )\n",
    "    pl.seed_everything(42)  # To be reproducable\n",
    "    model = SimCLR(max_epochs=max_epochs, **kwargs)\n",
    "    trainer.fit(model, train_loader, val_loader)\n",
    "    # Load best checkpoint after training\n",
    "    model = SimCLR.load_from_checkpoint(trainer.checkpoint_callback.best_model_path)\n",
    "\n",
    "    return model"
   ]
  },
  {
   "cell_type": "markdown",
   "id": "913db6be",
   "metadata": {
    "id": "913db6be",
    "papermill": {
     "duration": 0.210771,
     "end_time": "2022-05-03T01:20:05.856518",
     "exception": false,
     "start_time": "2022-05-03T01:20:05.645747",
     "status": "completed"
    },
    "tags": []
   },
   "source": [
    "A common observation in contrastive learning is that the larger the batch size, the better the models perform.\n",
    "A larger batch size allows us to compare each image to more negative examples, leading to overall smoother loss gradients.\n",
    "However, in our case, we experienced that a batch size of 256 was sufficient to get good results."
   ]
  },
  {
   "cell_type": "code",
   "execution_count": null,
   "id": "1b913667",
   "metadata": {
    "execution": {
     "iopub.execute_input": "2022-05-03T01:20:06.400845Z",
     "iopub.status.busy": "2022-05-03T01:20:06.400475Z",
     "iopub.status.idle": "2022-05-03T01:20:06.617305Z",
     "shell.execute_reply": "2022-05-03T01:20:06.616614Z"
    },
    "id": "1b913667",
    "outputId": "2f56c66b-4c53-4191-874b-39672a7714b4",
    "papermill": {
     "duration": 0.52157,
     "end_time": "2022-05-03T01:20:06.619058",
     "exception": false,
     "start_time": "2022-05-03T01:20:06.097488",
     "status": "completed"
    },
    "tags": []
   },
   "outputs": [
    {
     "name": "stderr",
     "output_type": "stream",
     "text": [
      "/home/user/.local/lib/python3.10/site-packages/pytorch_lightning/trainer/connectors/accelerator_connector.py:467: LightningDeprecationWarning: Setting `Trainer(gpus=1)` is deprecated in v1.7 and will be removed in v2.0. Please use `Trainer(accelerator='gpu', devices=1)` instead.\n",
      "  rank_zero_deprecation(\n",
      "GPU available: True (cuda), used: True\n",
      "/home/user/.local/lib/python3.10/site-packages/pkg_resources/__init__.py:116: PkgResourcesDeprecationWarning: 1.1build1 is an invalid version and will not be supported in a future release\n",
      "  warnings.warn(\n",
      "/home/user/.local/lib/python3.10/site-packages/pkg_resources/__init__.py:116: PkgResourcesDeprecationWarning: 0.1.43ubuntu1 is an invalid version and will not be supported in a future release\n",
      "  warnings.warn(\n",
      "TPU available: False, using: 0 TPU cores\n",
      "IPU available: False, using: 0 IPUs\n",
      "HPU available: False, using: 0 HPUs\n",
      "Lightning automatically upgraded your loaded checkpoint from v1.3.4 to v1.9.0. To apply the upgrade to your files permanently, run `python -m pytorch_lightning.utilities.upgrade_checkpoint --file saved_models/ContrastiveLearning/SimCLR.ckpt`\n",
      "/usr/local/lib/python3.10/dist-packages/torchvision/models/_utils.py:208: UserWarning: The parameter 'pretrained' is deprecated since 0.13 and may be removed in the future, please use 'weights' instead.\n",
      "  warnings.warn(\n",
      "/usr/local/lib/python3.10/dist-packages/torchvision/models/_utils.py:223: UserWarning: Arguments other than a weight enum or `None` for 'weights' are deprecated since 0.13 and may be removed in the future. The current behavior is equivalent to passing `weights=None`.\n",
      "  warnings.warn(msg)\n",
      "Global seed set to 42\n"
     ]
    },
    {
     "name": "stdout",
     "output_type": "stream",
     "text": [
      "Found pretrained model at saved_models/ContrastiveLearning/SimCLR.ckpt, loading...\n"
     ]
    },
    {
     "name": "stderr",
     "output_type": "stream",
     "text": [
      "You are using a CUDA device ('NVIDIA GeForce RTX 3070') that has Tensor Cores. To properly utilize them, you should set `torch.set_float32_matmul_precision('medium' | 'high')` which will trade-off precision for performance. For more details, read https://pytorch.org/docs/stable/generated/torch.set_float32_matmul_precision.html#torch.set_float32_matmul_precision\n",
      "LOCAL_RANK: 0 - CUDA_VISIBLE_DEVICES: [0]\n",
      "\n",
      "  | Name    | Type   | Params\n",
      "-----------------------------------\n",
      "0 | convnet | ResNet | 11.5 M\n",
      "-----------------------------------\n",
      "11.5 M    Trainable params\n",
      "0         Non-trainable params\n",
      "11.5 M    Total params\n",
      "46.019    Total estimated model params size (MB)\n"
     ]
    },
    {
     "data": {
      "application/vnd.jupyter.widget-view+json": {
       "model_id": "",
       "version_major": 2,
       "version_minor": 0
      },
      "text/plain": [
       "Sanity Checking: 0it [00:00, ?it/s]"
      ]
     },
     "metadata": {},
     "output_type": "display_data"
    },
    {
     "data": {
      "application/vnd.jupyter.widget-view+json": {
       "model_id": "d401e58b53b243dbaf7a39cd328a5ce9",
       "version_major": 2,
       "version_minor": 0
      },
      "text/plain": [
       "Training: 0it [00:00, ?it/s]"
      ]
     },
     "metadata": {},
     "output_type": "display_data"
    },
    {
     "data": {
      "application/vnd.jupyter.widget-view+json": {
       "model_id": "",
       "version_major": 2,
       "version_minor": 0
      },
      "text/plain": [
       "Validation: 0it [00:00, ?it/s]"
      ]
     },
     "metadata": {},
     "output_type": "display_data"
    },
    {
     "data": {
      "application/vnd.jupyter.widget-view+json": {
       "model_id": "",
       "version_major": 2,
       "version_minor": 0
      },
      "text/plain": [
       "Validation: 0it [00:00, ?it/s]"
      ]
     },
     "metadata": {},
     "output_type": "display_data"
    },
    {
     "data": {
      "application/vnd.jupyter.widget-view+json": {
       "model_id": "",
       "version_major": 2,
       "version_minor": 0
      },
      "text/plain": [
       "Validation: 0it [00:00, ?it/s]"
      ]
     },
     "metadata": {},
     "output_type": "display_data"
    },
    {
     "data": {
      "application/vnd.jupyter.widget-view+json": {
       "model_id": "",
       "version_major": 2,
       "version_minor": 0
      },
      "text/plain": [
       "Validation: 0it [00:00, ?it/s]"
      ]
     },
     "metadata": {},
     "output_type": "display_data"
    },
    {
     "data": {
      "application/vnd.jupyter.widget-view+json": {
       "model_id": "",
       "version_major": 2,
       "version_minor": 0
      },
      "text/plain": [
       "Validation: 0it [00:00, ?it/s]"
      ]
     },
     "metadata": {},
     "output_type": "display_data"
    },
    {
     "data": {
      "application/vnd.jupyter.widget-view+json": {
       "model_id": "",
       "version_major": 2,
       "version_minor": 0
      },
      "text/plain": [
       "Validation: 0it [00:00, ?it/s]"
      ]
     },
     "metadata": {},
     "output_type": "display_data"
    },
    {
     "data": {
      "application/vnd.jupyter.widget-view+json": {
       "model_id": "",
       "version_major": 2,
       "version_minor": 0
      },
      "text/plain": [
       "Validation: 0it [00:00, ?it/s]"
      ]
     },
     "metadata": {},
     "output_type": "display_data"
    },
    {
     "data": {
      "application/vnd.jupyter.widget-view+json": {
       "model_id": "",
       "version_major": 2,
       "version_minor": 0
      },
      "text/plain": [
       "Validation: 0it [00:00, ?it/s]"
      ]
     },
     "metadata": {},
     "output_type": "display_data"
    },
    {
     "data": {
      "application/vnd.jupyter.widget-view+json": {
       "model_id": "",
       "version_major": 2,
       "version_minor": 0
      },
      "text/plain": [
       "Validation: 0it [00:00, ?it/s]"
      ]
     },
     "metadata": {},
     "output_type": "display_data"
    },
    {
     "data": {
      "application/vnd.jupyter.widget-view+json": {
       "model_id": "",
       "version_major": 2,
       "version_minor": 0
      },
      "text/plain": [
       "Validation: 0it [00:00, ?it/s]"
      ]
     },
     "metadata": {},
     "output_type": "display_data"
    },
    {
     "data": {
      "application/vnd.jupyter.widget-view+json": {
       "model_id": "",
       "version_major": 2,
       "version_minor": 0
      },
      "text/plain": [
       "Validation: 0it [00:00, ?it/s]"
      ]
     },
     "metadata": {},
     "output_type": "display_data"
    },
    {
     "data": {
      "application/vnd.jupyter.widget-view+json": {
       "model_id": "",
       "version_major": 2,
       "version_minor": 0
      },
      "text/plain": [
       "Validation: 0it [00:00, ?it/s]"
      ]
     },
     "metadata": {},
     "output_type": "display_data"
    },
    {
     "data": {
      "application/vnd.jupyter.widget-view+json": {
       "model_id": "",
       "version_major": 2,
       "version_minor": 0
      },
      "text/plain": [
       "Validation: 0it [00:00, ?it/s]"
      ]
     },
     "metadata": {},
     "output_type": "display_data"
    },
    {
     "data": {
      "application/vnd.jupyter.widget-view+json": {
       "model_id": "",
       "version_major": 2,
       "version_minor": 0
      },
      "text/plain": [
       "Validation: 0it [00:00, ?it/s]"
      ]
     },
     "metadata": {},
     "output_type": "display_data"
    },
    {
     "data": {
      "application/vnd.jupyter.widget-view+json": {
       "model_id": "",
       "version_major": 2,
       "version_minor": 0
      },
      "text/plain": [
       "Validation: 0it [00:00, ?it/s]"
      ]
     },
     "metadata": {},
     "output_type": "display_data"
    },
    {
     "data": {
      "application/vnd.jupyter.widget-view+json": {
       "model_id": "",
       "version_major": 2,
       "version_minor": 0
      },
      "text/plain": [
       "Validation: 0it [00:00, ?it/s]"
      ]
     },
     "metadata": {},
     "output_type": "display_data"
    },
    {
     "data": {
      "application/vnd.jupyter.widget-view+json": {
       "model_id": "",
       "version_major": 2,
       "version_minor": 0
      },
      "text/plain": [
       "Validation: 0it [00:00, ?it/s]"
      ]
     },
     "metadata": {},
     "output_type": "display_data"
    },
    {
     "data": {
      "application/vnd.jupyter.widget-view+json": {
       "model_id": "",
       "version_major": 2,
       "version_minor": 0
      },
      "text/plain": [
       "Validation: 0it [00:00, ?it/s]"
      ]
     },
     "metadata": {},
     "output_type": "display_data"
    },
    {
     "data": {
      "application/vnd.jupyter.widget-view+json": {
       "model_id": "",
       "version_major": 2,
       "version_minor": 0
      },
      "text/plain": [
       "Validation: 0it [00:00, ?it/s]"
      ]
     },
     "metadata": {},
     "output_type": "display_data"
    },
    {
     "data": {
      "application/vnd.jupyter.widget-view+json": {
       "model_id": "",
       "version_major": 2,
       "version_minor": 0
      },
      "text/plain": [
       "Validation: 0it [00:00, ?it/s]"
      ]
     },
     "metadata": {},
     "output_type": "display_data"
    },
    {
     "data": {
      "application/vnd.jupyter.widget-view+json": {
       "model_id": "",
       "version_major": 2,
       "version_minor": 0
      },
      "text/plain": [
       "Validation: 0it [00:00, ?it/s]"
      ]
     },
     "metadata": {},
     "output_type": "display_data"
    },
    {
     "data": {
      "application/vnd.jupyter.widget-view+json": {
       "model_id": "",
       "version_major": 2,
       "version_minor": 0
      },
      "text/plain": [
       "Validation: 0it [00:00, ?it/s]"
      ]
     },
     "metadata": {},
     "output_type": "display_data"
    },
    {
     "data": {
      "application/vnd.jupyter.widget-view+json": {
       "model_id": "",
       "version_major": 2,
       "version_minor": 0
      },
      "text/plain": [
       "Validation: 0it [00:00, ?it/s]"
      ]
     },
     "metadata": {},
     "output_type": "display_data"
    },
    {
     "data": {
      "application/vnd.jupyter.widget-view+json": {
       "model_id": "",
       "version_major": 2,
       "version_minor": 0
      },
      "text/plain": [
       "Validation: 0it [00:00, ?it/s]"
      ]
     },
     "metadata": {},
     "output_type": "display_data"
    },
    {
     "data": {
      "application/vnd.jupyter.widget-view+json": {
       "model_id": "",
       "version_major": 2,
       "version_minor": 0
      },
      "text/plain": [
       "Validation: 0it [00:00, ?it/s]"
      ]
     },
     "metadata": {},
     "output_type": "display_data"
    },
    {
     "data": {
      "application/vnd.jupyter.widget-view+json": {
       "model_id": "",
       "version_major": 2,
       "version_minor": 0
      },
      "text/plain": [
       "Validation: 0it [00:00, ?it/s]"
      ]
     },
     "metadata": {},
     "output_type": "display_data"
    },
    {
     "data": {
      "application/vnd.jupyter.widget-view+json": {
       "model_id": "",
       "version_major": 2,
       "version_minor": 0
      },
      "text/plain": [
       "Validation: 0it [00:00, ?it/s]"
      ]
     },
     "metadata": {},
     "output_type": "display_data"
    },
    {
     "data": {
      "application/vnd.jupyter.widget-view+json": {
       "model_id": "",
       "version_major": 2,
       "version_minor": 0
      },
      "text/plain": [
       "Validation: 0it [00:00, ?it/s]"
      ]
     },
     "metadata": {},
     "output_type": "display_data"
    },
    {
     "data": {
      "application/vnd.jupyter.widget-view+json": {
       "model_id": "",
       "version_major": 2,
       "version_minor": 0
      },
      "text/plain": [
       "Validation: 0it [00:00, ?it/s]"
      ]
     },
     "metadata": {},
     "output_type": "display_data"
    },
    {
     "data": {
      "application/vnd.jupyter.widget-view+json": {
       "model_id": "",
       "version_major": 2,
       "version_minor": 0
      },
      "text/plain": [
       "Validation: 0it [00:00, ?it/s]"
      ]
     },
     "metadata": {},
     "output_type": "display_data"
    },
    {
     "data": {
      "application/vnd.jupyter.widget-view+json": {
       "model_id": "",
       "version_major": 2,
       "version_minor": 0
      },
      "text/plain": [
       "Validation: 0it [00:00, ?it/s]"
      ]
     },
     "metadata": {},
     "output_type": "display_data"
    },
    {
     "data": {
      "application/vnd.jupyter.widget-view+json": {
       "model_id": "",
       "version_major": 2,
       "version_minor": 0
      },
      "text/plain": [
       "Validation: 0it [00:00, ?it/s]"
      ]
     },
     "metadata": {},
     "output_type": "display_data"
    },
    {
     "data": {
      "application/vnd.jupyter.widget-view+json": {
       "model_id": "",
       "version_major": 2,
       "version_minor": 0
      },
      "text/plain": [
       "Validation: 0it [00:00, ?it/s]"
      ]
     },
     "metadata": {},
     "output_type": "display_data"
    },
    {
     "data": {
      "application/vnd.jupyter.widget-view+json": {
       "model_id": "",
       "version_major": 2,
       "version_minor": 0
      },
      "text/plain": [
       "Validation: 0it [00:00, ?it/s]"
      ]
     },
     "metadata": {},
     "output_type": "display_data"
    },
    {
     "data": {
      "application/vnd.jupyter.widget-view+json": {
       "model_id": "",
       "version_major": 2,
       "version_minor": 0
      },
      "text/plain": [
       "Validation: 0it [00:00, ?it/s]"
      ]
     },
     "metadata": {},
     "output_type": "display_data"
    },
    {
     "data": {
      "application/vnd.jupyter.widget-view+json": {
       "model_id": "",
       "version_major": 2,
       "version_minor": 0
      },
      "text/plain": [
       "Validation: 0it [00:00, ?it/s]"
      ]
     },
     "metadata": {},
     "output_type": "display_data"
    },
    {
     "data": {
      "application/vnd.jupyter.widget-view+json": {
       "model_id": "",
       "version_major": 2,
       "version_minor": 0
      },
      "text/plain": [
       "Validation: 0it [00:00, ?it/s]"
      ]
     },
     "metadata": {},
     "output_type": "display_data"
    },
    {
     "data": {
      "application/vnd.jupyter.widget-view+json": {
       "model_id": "",
       "version_major": 2,
       "version_minor": 0
      },
      "text/plain": [
       "Validation: 0it [00:00, ?it/s]"
      ]
     },
     "metadata": {},
     "output_type": "display_data"
    },
    {
     "data": {
      "application/vnd.jupyter.widget-view+json": {
       "model_id": "",
       "version_major": 2,
       "version_minor": 0
      },
      "text/plain": [
       "Validation: 0it [00:00, ?it/s]"
      ]
     },
     "metadata": {},
     "output_type": "display_data"
    },
    {
     "data": {
      "application/vnd.jupyter.widget-view+json": {
       "model_id": "",
       "version_major": 2,
       "version_minor": 0
      },
      "text/plain": [
       "Validation: 0it [00:00, ?it/s]"
      ]
     },
     "metadata": {},
     "output_type": "display_data"
    },
    {
     "data": {
      "application/vnd.jupyter.widget-view+json": {
       "model_id": "",
       "version_major": 2,
       "version_minor": 0
      },
      "text/plain": [
       "Validation: 0it [00:00, ?it/s]"
      ]
     },
     "metadata": {},
     "output_type": "display_data"
    },
    {
     "data": {
      "application/vnd.jupyter.widget-view+json": {
       "model_id": "",
       "version_major": 2,
       "version_minor": 0
      },
      "text/plain": [
       "Validation: 0it [00:00, ?it/s]"
      ]
     },
     "metadata": {},
     "output_type": "display_data"
    },
    {
     "data": {
      "application/vnd.jupyter.widget-view+json": {
       "model_id": "",
       "version_major": 2,
       "version_minor": 0
      },
      "text/plain": [
       "Validation: 0it [00:00, ?it/s]"
      ]
     },
     "metadata": {},
     "output_type": "display_data"
    },
    {
     "data": {
      "application/vnd.jupyter.widget-view+json": {
       "model_id": "",
       "version_major": 2,
       "version_minor": 0
      },
      "text/plain": [
       "Validation: 0it [00:00, ?it/s]"
      ]
     },
     "metadata": {},
     "output_type": "display_data"
    },
    {
     "data": {
      "application/vnd.jupyter.widget-view+json": {
       "model_id": "",
       "version_major": 2,
       "version_minor": 0
      },
      "text/plain": [
       "Validation: 0it [00:00, ?it/s]"
      ]
     },
     "metadata": {},
     "output_type": "display_data"
    },
    {
     "data": {
      "application/vnd.jupyter.widget-view+json": {
       "model_id": "",
       "version_major": 2,
       "version_minor": 0
      },
      "text/plain": [
       "Validation: 0it [00:00, ?it/s]"
      ]
     },
     "metadata": {},
     "output_type": "display_data"
    },
    {
     "data": {
      "application/vnd.jupyter.widget-view+json": {
       "model_id": "",
       "version_major": 2,
       "version_minor": 0
      },
      "text/plain": [
       "Validation: 0it [00:00, ?it/s]"
      ]
     },
     "metadata": {},
     "output_type": "display_data"
    },
    {
     "data": {
      "application/vnd.jupyter.widget-view+json": {
       "model_id": "",
       "version_major": 2,
       "version_minor": 0
      },
      "text/plain": [
       "Validation: 0it [00:00, ?it/s]"
      ]
     },
     "metadata": {},
     "output_type": "display_data"
    },
    {
     "data": {
      "application/vnd.jupyter.widget-view+json": {
       "model_id": "",
       "version_major": 2,
       "version_minor": 0
      },
      "text/plain": [
       "Validation: 0it [00:00, ?it/s]"
      ]
     },
     "metadata": {},
     "output_type": "display_data"
    },
    {
     "data": {
      "application/vnd.jupyter.widget-view+json": {
       "model_id": "",
       "version_major": 2,
       "version_minor": 0
      },
      "text/plain": [
       "Validation: 0it [00:00, ?it/s]"
      ]
     },
     "metadata": {},
     "output_type": "display_data"
    },
    {
     "data": {
      "application/vnd.jupyter.widget-view+json": {
       "model_id": "",
       "version_major": 2,
       "version_minor": 0
      },
      "text/plain": [
       "Validation: 0it [00:00, ?it/s]"
      ]
     },
     "metadata": {},
     "output_type": "display_data"
    },
    {
     "data": {
      "application/vnd.jupyter.widget-view+json": {
       "model_id": "",
       "version_major": 2,
       "version_minor": 0
      },
      "text/plain": [
       "Validation: 0it [00:00, ?it/s]"
      ]
     },
     "metadata": {},
     "output_type": "display_data"
    },
    {
     "data": {
      "application/vnd.jupyter.widget-view+json": {
       "model_id": "",
       "version_major": 2,
       "version_minor": 0
      },
      "text/plain": [
       "Validation: 0it [00:00, ?it/s]"
      ]
     },
     "metadata": {},
     "output_type": "display_data"
    },
    {
     "data": {
      "application/vnd.jupyter.widget-view+json": {
       "model_id": "",
       "version_major": 2,
       "version_minor": 0
      },
      "text/plain": [
       "Validation: 0it [00:00, ?it/s]"
      ]
     },
     "metadata": {},
     "output_type": "display_data"
    },
    {
     "data": {
      "application/vnd.jupyter.widget-view+json": {
       "model_id": "",
       "version_major": 2,
       "version_minor": 0
      },
      "text/plain": [
       "Validation: 0it [00:00, ?it/s]"
      ]
     },
     "metadata": {},
     "output_type": "display_data"
    },
    {
     "data": {
      "application/vnd.jupyter.widget-view+json": {
       "model_id": "",
       "version_major": 2,
       "version_minor": 0
      },
      "text/plain": [
       "Validation: 0it [00:00, ?it/s]"
      ]
     },
     "metadata": {},
     "output_type": "display_data"
    },
    {
     "data": {
      "application/vnd.jupyter.widget-view+json": {
       "model_id": "",
       "version_major": 2,
       "version_minor": 0
      },
      "text/plain": [
       "Validation: 0it [00:00, ?it/s]"
      ]
     },
     "metadata": {},
     "output_type": "display_data"
    },
    {
     "data": {
      "application/vnd.jupyter.widget-view+json": {
       "model_id": "",
       "version_major": 2,
       "version_minor": 0
      },
      "text/plain": [
       "Validation: 0it [00:00, ?it/s]"
      ]
     },
     "metadata": {},
     "output_type": "display_data"
    },
    {
     "data": {
      "application/vnd.jupyter.widget-view+json": {
       "model_id": "",
       "version_major": 2,
       "version_minor": 0
      },
      "text/plain": [
       "Validation: 0it [00:00, ?it/s]"
      ]
     },
     "metadata": {},
     "output_type": "display_data"
    },
    {
     "data": {
      "application/vnd.jupyter.widget-view+json": {
       "model_id": "",
       "version_major": 2,
       "version_minor": 0
      },
      "text/plain": [
       "Validation: 0it [00:00, ?it/s]"
      ]
     },
     "metadata": {},
     "output_type": "display_data"
    },
    {
     "data": {
      "application/vnd.jupyter.widget-view+json": {
       "model_id": "",
       "version_major": 2,
       "version_minor": 0
      },
      "text/plain": [
       "Validation: 0it [00:00, ?it/s]"
      ]
     },
     "metadata": {},
     "output_type": "display_data"
    },
    {
     "data": {
      "application/vnd.jupyter.widget-view+json": {
       "model_id": "",
       "version_major": 2,
       "version_minor": 0
      },
      "text/plain": [
       "Validation: 0it [00:00, ?it/s]"
      ]
     },
     "metadata": {},
     "output_type": "display_data"
    },
    {
     "data": {
      "application/vnd.jupyter.widget-view+json": {
       "model_id": "",
       "version_major": 2,
       "version_minor": 0
      },
      "text/plain": [
       "Validation: 0it [00:00, ?it/s]"
      ]
     },
     "metadata": {},
     "output_type": "display_data"
    },
    {
     "data": {
      "application/vnd.jupyter.widget-view+json": {
       "model_id": "",
       "version_major": 2,
       "version_minor": 0
      },
      "text/plain": [
       "Validation: 0it [00:00, ?it/s]"
      ]
     },
     "metadata": {},
     "output_type": "display_data"
    },
    {
     "data": {
      "application/vnd.jupyter.widget-view+json": {
       "model_id": "",
       "version_major": 2,
       "version_minor": 0
      },
      "text/plain": [
       "Validation: 0it [00:00, ?it/s]"
      ]
     },
     "metadata": {},
     "output_type": "display_data"
    },
    {
     "data": {
      "application/vnd.jupyter.widget-view+json": {
       "model_id": "",
       "version_major": 2,
       "version_minor": 0
      },
      "text/plain": [
       "Validation: 0it [00:00, ?it/s]"
      ]
     },
     "metadata": {},
     "output_type": "display_data"
    },
    {
     "data": {
      "application/vnd.jupyter.widget-view+json": {
       "model_id": "",
       "version_major": 2,
       "version_minor": 0
      },
      "text/plain": [
       "Validation: 0it [00:00, ?it/s]"
      ]
     },
     "metadata": {},
     "output_type": "display_data"
    },
    {
     "data": {
      "application/vnd.jupyter.widget-view+json": {
       "model_id": "",
       "version_major": 2,
       "version_minor": 0
      },
      "text/plain": [
       "Validation: 0it [00:00, ?it/s]"
      ]
     },
     "metadata": {},
     "output_type": "display_data"
    },
    {
     "data": {
      "application/vnd.jupyter.widget-view+json": {
       "model_id": "",
       "version_major": 2,
       "version_minor": 0
      },
      "text/plain": [
       "Validation: 0it [00:00, ?it/s]"
      ]
     },
     "metadata": {},
     "output_type": "display_data"
    },
    {
     "data": {
      "application/vnd.jupyter.widget-view+json": {
       "model_id": "",
       "version_major": 2,
       "version_minor": 0
      },
      "text/plain": [
       "Validation: 0it [00:00, ?it/s]"
      ]
     },
     "metadata": {},
     "output_type": "display_data"
    },
    {
     "data": {
      "application/vnd.jupyter.widget-view+json": {
       "model_id": "",
       "version_major": 2,
       "version_minor": 0
      },
      "text/plain": [
       "Validation: 0it [00:00, ?it/s]"
      ]
     },
     "metadata": {},
     "output_type": "display_data"
    },
    {
     "data": {
      "application/vnd.jupyter.widget-view+json": {
       "model_id": "",
       "version_major": 2,
       "version_minor": 0
      },
      "text/plain": [
       "Validation: 0it [00:00, ?it/s]"
      ]
     },
     "metadata": {},
     "output_type": "display_data"
    },
    {
     "data": {
      "application/vnd.jupyter.widget-view+json": {
       "model_id": "",
       "version_major": 2,
       "version_minor": 0
      },
      "text/plain": [
       "Validation: 0it [00:00, ?it/s]"
      ]
     },
     "metadata": {},
     "output_type": "display_data"
    },
    {
     "data": {
      "application/vnd.jupyter.widget-view+json": {
       "model_id": "",
       "version_major": 2,
       "version_minor": 0
      },
      "text/plain": [
       "Validation: 0it [00:00, ?it/s]"
      ]
     },
     "metadata": {},
     "output_type": "display_data"
    },
    {
     "data": {
      "application/vnd.jupyter.widget-view+json": {
       "model_id": "",
       "version_major": 2,
       "version_minor": 0
      },
      "text/plain": [
       "Validation: 0it [00:00, ?it/s]"
      ]
     },
     "metadata": {},
     "output_type": "display_data"
    },
    {
     "data": {
      "application/vnd.jupyter.widget-view+json": {
       "model_id": "",
       "version_major": 2,
       "version_minor": 0
      },
      "text/plain": [
       "Validation: 0it [00:00, ?it/s]"
      ]
     },
     "metadata": {},
     "output_type": "display_data"
    },
    {
     "data": {
      "application/vnd.jupyter.widget-view+json": {
       "model_id": "",
       "version_major": 2,
       "version_minor": 0
      },
      "text/plain": [
       "Validation: 0it [00:00, ?it/s]"
      ]
     },
     "metadata": {},
     "output_type": "display_data"
    },
    {
     "data": {
      "application/vnd.jupyter.widget-view+json": {
       "model_id": "",
       "version_major": 2,
       "version_minor": 0
      },
      "text/plain": [
       "Validation: 0it [00:00, ?it/s]"
      ]
     },
     "metadata": {},
     "output_type": "display_data"
    },
    {
     "data": {
      "application/vnd.jupyter.widget-view+json": {
       "model_id": "",
       "version_major": 2,
       "version_minor": 0
      },
      "text/plain": [
       "Validation: 0it [00:00, ?it/s]"
      ]
     },
     "metadata": {},
     "output_type": "display_data"
    },
    {
     "data": {
      "application/vnd.jupyter.widget-view+json": {
       "model_id": "",
       "version_major": 2,
       "version_minor": 0
      },
      "text/plain": [
       "Validation: 0it [00:00, ?it/s]"
      ]
     },
     "metadata": {},
     "output_type": "display_data"
    },
    {
     "data": {
      "application/vnd.jupyter.widget-view+json": {
       "model_id": "",
       "version_major": 2,
       "version_minor": 0
      },
      "text/plain": [
       "Validation: 0it [00:00, ?it/s]"
      ]
     },
     "metadata": {},
     "output_type": "display_data"
    },
    {
     "data": {
      "application/vnd.jupyter.widget-view+json": {
       "model_id": "",
       "version_major": 2,
       "version_minor": 0
      },
      "text/plain": [
       "Validation: 0it [00:00, ?it/s]"
      ]
     },
     "metadata": {},
     "output_type": "display_data"
    },
    {
     "data": {
      "application/vnd.jupyter.widget-view+json": {
       "model_id": "",
       "version_major": 2,
       "version_minor": 0
      },
      "text/plain": [
       "Validation: 0it [00:00, ?it/s]"
      ]
     },
     "metadata": {},
     "output_type": "display_data"
    },
    {
     "data": {
      "application/vnd.jupyter.widget-view+json": {
       "model_id": "",
       "version_major": 2,
       "version_minor": 0
      },
      "text/plain": [
       "Validation: 0it [00:00, ?it/s]"
      ]
     },
     "metadata": {},
     "output_type": "display_data"
    },
    {
     "data": {
      "application/vnd.jupyter.widget-view+json": {
       "model_id": "",
       "version_major": 2,
       "version_minor": 0
      },
      "text/plain": [
       "Validation: 0it [00:00, ?it/s]"
      ]
     },
     "metadata": {},
     "output_type": "display_data"
    },
    {
     "data": {
      "application/vnd.jupyter.widget-view+json": {
       "model_id": "",
       "version_major": 2,
       "version_minor": 0
      },
      "text/plain": [
       "Validation: 0it [00:00, ?it/s]"
      ]
     },
     "metadata": {},
     "output_type": "display_data"
    },
    {
     "data": {
      "application/vnd.jupyter.widget-view+json": {
       "model_id": "",
       "version_major": 2,
       "version_minor": 0
      },
      "text/plain": [
       "Validation: 0it [00:00, ?it/s]"
      ]
     },
     "metadata": {},
     "output_type": "display_data"
    },
    {
     "data": {
      "application/vnd.jupyter.widget-view+json": {
       "model_id": "",
       "version_major": 2,
       "version_minor": 0
      },
      "text/plain": [
       "Validation: 0it [00:00, ?it/s]"
      ]
     },
     "metadata": {},
     "output_type": "display_data"
    },
    {
     "data": {
      "application/vnd.jupyter.widget-view+json": {
       "model_id": "",
       "version_major": 2,
       "version_minor": 0
      },
      "text/plain": [
       "Validation: 0it [00:00, ?it/s]"
      ]
     },
     "metadata": {},
     "output_type": "display_data"
    },
    {
     "data": {
      "application/vnd.jupyter.widget-view+json": {
       "model_id": "",
       "version_major": 2,
       "version_minor": 0
      },
      "text/plain": [
       "Validation: 0it [00:00, ?it/s]"
      ]
     },
     "metadata": {},
     "output_type": "display_data"
    },
    {
     "data": {
      "application/vnd.jupyter.widget-view+json": {
       "model_id": "",
       "version_major": 2,
       "version_minor": 0
      },
      "text/plain": [
       "Validation: 0it [00:00, ?it/s]"
      ]
     },
     "metadata": {},
     "output_type": "display_data"
    },
    {
     "data": {
      "application/vnd.jupyter.widget-view+json": {
       "model_id": "",
       "version_major": 2,
       "version_minor": 0
      },
      "text/plain": [
       "Validation: 0it [00:00, ?it/s]"
      ]
     },
     "metadata": {},
     "output_type": "display_data"
    },
    {
     "data": {
      "application/vnd.jupyter.widget-view+json": {
       "model_id": "",
       "version_major": 2,
       "version_minor": 0
      },
      "text/plain": [
       "Validation: 0it [00:00, ?it/s]"
      ]
     },
     "metadata": {},
     "output_type": "display_data"
    },
    {
     "data": {
      "application/vnd.jupyter.widget-view+json": {
       "model_id": "",
       "version_major": 2,
       "version_minor": 0
      },
      "text/plain": [
       "Validation: 0it [00:00, ?it/s]"
      ]
     },
     "metadata": {},
     "output_type": "display_data"
    },
    {
     "data": {
      "application/vnd.jupyter.widget-view+json": {
       "model_id": "",
       "version_major": 2,
       "version_minor": 0
      },
      "text/plain": [
       "Validation: 0it [00:00, ?it/s]"
      ]
     },
     "metadata": {},
     "output_type": "display_data"
    },
    {
     "data": {
      "application/vnd.jupyter.widget-view+json": {
       "model_id": "",
       "version_major": 2,
       "version_minor": 0
      },
      "text/plain": [
       "Validation: 0it [00:00, ?it/s]"
      ]
     },
     "metadata": {},
     "output_type": "display_data"
    },
    {
     "data": {
      "application/vnd.jupyter.widget-view+json": {
       "model_id": "",
       "version_major": 2,
       "version_minor": 0
      },
      "text/plain": [
       "Validation: 0it [00:00, ?it/s]"
      ]
     },
     "metadata": {},
     "output_type": "display_data"
    },
    {
     "data": {
      "application/vnd.jupyter.widget-view+json": {
       "model_id": "",
       "version_major": 2,
       "version_minor": 0
      },
      "text/plain": [
       "Validation: 0it [00:00, ?it/s]"
      ]
     },
     "metadata": {},
     "output_type": "display_data"
    },
    {
     "data": {
      "application/vnd.jupyter.widget-view+json": {
       "model_id": "",
       "version_major": 2,
       "version_minor": 0
      },
      "text/plain": [
       "Validation: 0it [00:00, ?it/s]"
      ]
     },
     "metadata": {},
     "output_type": "display_data"
    },
    {
     "data": {
      "application/vnd.jupyter.widget-view+json": {
       "model_id": "",
       "version_major": 2,
       "version_minor": 0
      },
      "text/plain": [
       "Validation: 0it [00:00, ?it/s]"
      ]
     },
     "metadata": {},
     "output_type": "display_data"
    },
    {
     "data": {
      "application/vnd.jupyter.widget-view+json": {
       "model_id": "",
       "version_major": 2,
       "version_minor": 0
      },
      "text/plain": [
       "Validation: 0it [00:00, ?it/s]"
      ]
     },
     "metadata": {},
     "output_type": "display_data"
    },
    {
     "data": {
      "application/vnd.jupyter.widget-view+json": {
       "model_id": "",
       "version_major": 2,
       "version_minor": 0
      },
      "text/plain": [
       "Validation: 0it [00:00, ?it/s]"
      ]
     },
     "metadata": {},
     "output_type": "display_data"
    },
    {
     "data": {
      "application/vnd.jupyter.widget-view+json": {
       "model_id": "",
       "version_major": 2,
       "version_minor": 0
      },
      "text/plain": [
       "Validation: 0it [00:00, ?it/s]"
      ]
     },
     "metadata": {},
     "output_type": "display_data"
    },
    {
     "data": {
      "application/vnd.jupyter.widget-view+json": {
       "model_id": "",
       "version_major": 2,
       "version_minor": 0
      },
      "text/plain": [
       "Validation: 0it [00:00, ?it/s]"
      ]
     },
     "metadata": {},
     "output_type": "display_data"
    },
    {
     "data": {
      "application/vnd.jupyter.widget-view+json": {
       "model_id": "",
       "version_major": 2,
       "version_minor": 0
      },
      "text/plain": [
       "Validation: 0it [00:00, ?it/s]"
      ]
     },
     "metadata": {},
     "output_type": "display_data"
    },
    {
     "data": {
      "application/vnd.jupyter.widget-view+json": {
       "model_id": "",
       "version_major": 2,
       "version_minor": 0
      },
      "text/plain": [
       "Validation: 0it [00:00, ?it/s]"
      ]
     },
     "metadata": {},
     "output_type": "display_data"
    },
    {
     "data": {
      "application/vnd.jupyter.widget-view+json": {
       "model_id": "",
       "version_major": 2,
       "version_minor": 0
      },
      "text/plain": [
       "Validation: 0it [00:00, ?it/s]"
      ]
     },
     "metadata": {},
     "output_type": "display_data"
    },
    {
     "data": {
      "application/vnd.jupyter.widget-view+json": {
       "model_id": "",
       "version_major": 2,
       "version_minor": 0
      },
      "text/plain": [
       "Validation: 0it [00:00, ?it/s]"
      ]
     },
     "metadata": {},
     "output_type": "display_data"
    },
    {
     "data": {
      "application/vnd.jupyter.widget-view+json": {
       "model_id": "",
       "version_major": 2,
       "version_minor": 0
      },
      "text/plain": [
       "Validation: 0it [00:00, ?it/s]"
      ]
     },
     "metadata": {},
     "output_type": "display_data"
    },
    {
     "data": {
      "application/vnd.jupyter.widget-view+json": {
       "model_id": "",
       "version_major": 2,
       "version_minor": 0
      },
      "text/plain": [
       "Validation: 0it [00:00, ?it/s]"
      ]
     },
     "metadata": {},
     "output_type": "display_data"
    },
    {
     "data": {
      "application/vnd.jupyter.widget-view+json": {
       "model_id": "",
       "version_major": 2,
       "version_minor": 0
      },
      "text/plain": [
       "Validation: 0it [00:00, ?it/s]"
      ]
     },
     "metadata": {},
     "output_type": "display_data"
    },
    {
     "data": {
      "application/vnd.jupyter.widget-view+json": {
       "model_id": "",
       "version_major": 2,
       "version_minor": 0
      },
      "text/plain": [
       "Validation: 0it [00:00, ?it/s]"
      ]
     },
     "metadata": {},
     "output_type": "display_data"
    },
    {
     "data": {
      "application/vnd.jupyter.widget-view+json": {
       "model_id": "",
       "version_major": 2,
       "version_minor": 0
      },
      "text/plain": [
       "Validation: 0it [00:00, ?it/s]"
      ]
     },
     "metadata": {},
     "output_type": "display_data"
    },
    {
     "data": {
      "application/vnd.jupyter.widget-view+json": {
       "model_id": "",
       "version_major": 2,
       "version_minor": 0
      },
      "text/plain": [
       "Validation: 0it [00:00, ?it/s]"
      ]
     },
     "metadata": {},
     "output_type": "display_data"
    },
    {
     "data": {
      "application/vnd.jupyter.widget-view+json": {
       "model_id": "",
       "version_major": 2,
       "version_minor": 0
      },
      "text/plain": [
       "Validation: 0it [00:00, ?it/s]"
      ]
     },
     "metadata": {},
     "output_type": "display_data"
    },
    {
     "data": {
      "application/vnd.jupyter.widget-view+json": {
       "model_id": "",
       "version_major": 2,
       "version_minor": 0
      },
      "text/plain": [
       "Validation: 0it [00:00, ?it/s]"
      ]
     },
     "metadata": {},
     "output_type": "display_data"
    },
    {
     "data": {
      "application/vnd.jupyter.widget-view+json": {
       "model_id": "",
       "version_major": 2,
       "version_minor": 0
      },
      "text/plain": [
       "Validation: 0it [00:00, ?it/s]"
      ]
     },
     "metadata": {},
     "output_type": "display_data"
    },
    {
     "data": {
      "application/vnd.jupyter.widget-view+json": {
       "model_id": "",
       "version_major": 2,
       "version_minor": 0
      },
      "text/plain": [
       "Validation: 0it [00:00, ?it/s]"
      ]
     },
     "metadata": {},
     "output_type": "display_data"
    },
    {
     "data": {
      "application/vnd.jupyter.widget-view+json": {
       "model_id": "",
       "version_major": 2,
       "version_minor": 0
      },
      "text/plain": [
       "Validation: 0it [00:00, ?it/s]"
      ]
     },
     "metadata": {},
     "output_type": "display_data"
    },
    {
     "data": {
      "application/vnd.jupyter.widget-view+json": {
       "model_id": "",
       "version_major": 2,
       "version_minor": 0
      },
      "text/plain": [
       "Validation: 0it [00:00, ?it/s]"
      ]
     },
     "metadata": {},
     "output_type": "display_data"
    },
    {
     "data": {
      "application/vnd.jupyter.widget-view+json": {
       "model_id": "",
       "version_major": 2,
       "version_minor": 0
      },
      "text/plain": [
       "Validation: 0it [00:00, ?it/s]"
      ]
     },
     "metadata": {},
     "output_type": "display_data"
    },
    {
     "data": {
      "application/vnd.jupyter.widget-view+json": {
       "model_id": "",
       "version_major": 2,
       "version_minor": 0
      },
      "text/plain": [
       "Validation: 0it [00:00, ?it/s]"
      ]
     },
     "metadata": {},
     "output_type": "display_data"
    },
    {
     "data": {
      "application/vnd.jupyter.widget-view+json": {
       "model_id": "",
       "version_major": 2,
       "version_minor": 0
      },
      "text/plain": [
       "Validation: 0it [00:00, ?it/s]"
      ]
     },
     "metadata": {},
     "output_type": "display_data"
    }
   ],
   "source": [
    "simclr_model = train_simclr(\n",
    "    batch_size=256, hidden_dim=128, lr=5e-4, temperature=0.07, weight_decay=1e-4, max_epochs=500\n",
    ")"
   ]
  },
  {
   "cell_type": "markdown",
   "id": "cb9568df",
   "metadata": {
    "id": "cb9568df",
    "papermill": {
     "duration": 0.459681,
     "end_time": "2022-05-03T01:20:07.162764",
     "exception": false,
     "start_time": "2022-05-03T01:20:06.703083",
     "status": "completed"
    },
    "tags": []
   },
   "source": [
    "To get an intuition of how training with contrastive learning behaves, we can take a look at the TensorBoard below:"
   ]
  },
  {
   "cell_type": "code",
   "execution_count": null,
   "id": "fc270b01",
   "metadata": {
    "execution": {
     "iopub.execute_input": "2022-05-03T01:20:09.513667Z",
     "iopub.status.busy": "2022-05-03T01:20:09.513302Z",
     "iopub.status.idle": "2022-05-03T01:20:11.051660Z",
     "shell.execute_reply": "2022-05-03T01:20:11.050901Z"
    },
    "id": "fc270b01",
    "outputId": "f6c48a19-ed31-4366-dbaf-78fa794a57cf",
    "papermill": {
     "duration": 2.003452,
     "end_time": "2022-05-03T01:20:11.053317",
     "exception": false,
     "start_time": "2022-05-03T01:20:09.049865",
     "status": "completed"
    },
    "tags": []
   },
   "outputs": [],
   "source": [
    "%tensorboard --logdir ../saved_models/ContrastiveLearning/tensorboards/SimCLR/"
   ]
  },
  {
   "cell_type": "markdown",
   "id": "7a78d8fd",
   "metadata": {
    "id": "7a78d8fd",
    "papermill": {
     "duration": 0.462746,
     "end_time": "2022-05-03T01:20:11.659979",
     "exception": false,
     "start_time": "2022-05-03T01:20:11.197233",
     "status": "completed"
    },
    "tags": []
   },
   "source": [
    "<center width=\"100%\"> ![tensorboard simclr](data:image/png;base64,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){width=\"1200px\"} </center>\n",
    "\n",
    "One thing to note is that contrastive learning benefits a lot from long training.\n",
    "The shown plot above is from a training that took approx.\n",
    "1 day on a NVIDIA TitanRTX.\n",
    "Training the model for even longer might reduce its loss further, but we did not experience any gains from it for the downstream task on image classification.\n",
    "In general, contrastive learning can also benefit from using larger models, if sufficient unlabeled data is available."
   ]
  },
  {
   "cell_type": "markdown",
   "id": "74e45567",
   "metadata": {
    "id": "74e45567",
    "lines_to_next_cell": 2,
    "papermill": {
     "duration": 0.461604,
     "end_time": "2022-05-03T01:20:12.562657",
     "exception": false,
     "start_time": "2022-05-03T01:20:12.101053",
     "status": "completed"
    },
    "tags": []
   },
   "source": [
    "## Logistic Regression\n",
    "\n",
    "<div class=\"center-wrapper\"><div class=\"video-wrapper\"><iframe src=\"https://www.youtube.com/embed/o3FktysLLd4\" title=\"YouTube video player\" frameborder=\"0\" allow=\"accelerometer; autoplay; clipboard-write; encrypted-media; gyroscope; picture-in-picture\" allowfullscreen></iframe></div></div>\n",
    "After we have trained our model via contrastive learning, we can deploy it on downstream tasks and see how well it performs with little data.\n",
    "A common setup, which also verifies whether the model has learned generalized representations, is to perform Logistic Regression on the features.\n",
    "In other words, we learn a single, linear layer that maps the representations to a class prediction.\n",
    "Since the base network $f(\\cdot)$ is not changed during the training process, the model can only perform well if the representations of $h$ describe all features that might be necessary for the task.\n",
    "Further, we do not have to worry too much about overfitting since we have very few parameters that are trained.\n",
    "Hence, we might expect that the model can perform well even with very little data.\n",
    "\n",
    "First, let's implement a simple Logistic Regression setup for which we assume that the images already have been encoded in their feature vectors.\n",
    "If very little data is available, it might be beneficial to dynamically encode the images during training so that we can also apply data augmentations.\n",
    "However, the way we implement it here is much more efficient and can be trained within a few seconds.\n",
    "Further, using data augmentations did not show any significant gain in this simple setup."
   ]
  },
  {
   "cell_type": "code",
   "execution_count": null,
   "id": "f5f4cf43",
   "metadata": {
    "execution": {
     "iopub.execute_input": "2022-05-03T01:20:12.968818Z",
     "iopub.status.busy": "2022-05-03T01:20:12.968204Z",
     "iopub.status.idle": "2022-05-03T01:20:12.976988Z",
     "shell.execute_reply": "2022-05-03T01:20:12.976285Z"
    },
    "id": "f5f4cf43",
    "papermill": {
     "duration": 0.396891,
     "end_time": "2022-05-03T01:20:12.978486",
     "exception": false,
     "start_time": "2022-05-03T01:20:12.581595",
     "status": "completed"
    },
    "tags": []
   },
   "outputs": [],
   "source": [
    "class LogisticRegression(pl.LightningModule):\n",
    "    def __init__(self, feature_dim, num_classes, lr, weight_decay, max_epochs=100):\n",
    "        super().__init__()\n",
    "        self.save_hyperparameters()\n",
    "        # Mapping from representation h to classes\n",
    "        self.model = nn.Linear(feature_dim, num_classes)\n",
    "\n",
    "    def configure_optimizers(self):\n",
    "        optimizer = optim.AdamW(self.parameters(), lr=self.hparams.lr, weight_decay=self.hparams.weight_decay)\n",
    "        lr_scheduler = optim.lr_scheduler.MultiStepLR(\n",
    "            optimizer, milestones=[int(self.hparams.max_epochs * 0.6), int(self.hparams.max_epochs * 0.8)], gamma=0.1\n",
    "        )\n",
    "        return [optimizer], [lr_scheduler]\n",
    "\n",
    "    def _calculate_loss(self, batch, mode=\"train\"):\n",
    "        feats, labels = batch\n",
    "        preds = self.model(feats)\n",
    "        loss = F.cross_entropy(preds, labels)\n",
    "        acc = (preds.argmax(dim=-1) == labels).float().mean()\n",
    "\n",
    "        self.log(mode + \"_loss\", loss)\n",
    "        self.log(mode + \"_acc\", acc)\n",
    "        return loss\n",
    "\n",
    "    def training_step(self, batch, batch_idx):\n",
    "        return self._calculate_loss(batch, mode=\"train\")\n",
    "\n",
    "    def validation_step(self, batch, batch_idx):\n",
    "        self._calculate_loss(batch, mode=\"val\")\n",
    "\n",
    "    def test_step(self, batch, batch_idx):\n",
    "        self._calculate_loss(batch, mode=\"test\")"
   ]
  },
  {
   "cell_type": "markdown",
   "id": "5e2787ea",
   "metadata": {
    "id": "5e2787ea",
    "papermill": {
     "duration": 0.018113,
     "end_time": "2022-05-03T01:20:13.017534",
     "exception": false,
     "start_time": "2022-05-03T01:20:12.999421",
     "status": "completed"
    },
    "tags": []
   },
   "source": [
    "The data we use is the training and test set of STL10.\n",
    "The training contains 500 images per class, while the test set has 800 images per class."
   ]
  },
  {
   "cell_type": "code",
   "execution_count": null,
   "id": "9dd16d86",
   "metadata": {
    "execution": {
     "iopub.execute_input": "2022-05-03T01:20:13.052558Z",
     "iopub.status.busy": "2022-05-03T01:20:13.052187Z",
     "iopub.status.idle": "2022-05-03T01:20:24.436773Z",
     "shell.execute_reply": "2022-05-03T01:20:24.436125Z"
    },
    "id": "9dd16d86",
    "outputId": "7886e884-50fb-4f50-a803-aa0f8a51647c",
    "papermill": {
     "duration": 11.40389,
     "end_time": "2022-05-03T01:20:24.438275",
     "exception": false,
     "start_time": "2022-05-03T01:20:13.034385",
     "status": "completed"
    },
    "tags": []
   },
   "outputs": [],
   "source": [
    "img_transforms = transforms.Compose([transforms.ToTensor(), transforms.Normalize((0.5,), (0.5,))])\n",
    "\n",
    "train_img_data = STL10(root=DATASET_PATH, split=\"train\", download=True, transform=img_transforms)\n",
    "test_img_data = STL10(root=DATASET_PATH, split=\"test\", download=True, transform=img_transforms)\n",
    "\n",
    "print(\"Number of training examples:\", len(train_img_data))\n",
    "print(\"Number of test examples:\", len(test_img_data))"
   ]
  },
  {
   "cell_type": "markdown",
   "id": "32c05b8d",
   "metadata": {
    "id": "32c05b8d",
    "lines_to_next_cell": 2,
    "papermill": {
     "duration": 0.016638,
     "end_time": "2022-05-03T01:20:24.473910",
     "exception": false,
     "start_time": "2022-05-03T01:20:24.457272",
     "status": "completed"
    },
    "tags": []
   },
   "source": [
    "Next, we implement a small function to encode all images in our datasets.\n",
    "The output representations are then used as inputs to the Logistic Regression model."
   ]
  },
  {
   "cell_type": "code",
   "execution_count": null,
   "id": "ef7009bb",
   "metadata": {
    "execution": {
     "iopub.execute_input": "2022-05-03T01:20:24.508714Z",
     "iopub.status.busy": "2022-05-03T01:20:24.508414Z",
     "iopub.status.idle": "2022-05-03T01:20:24.514649Z",
     "shell.execute_reply": "2022-05-03T01:20:24.513993Z"
    },
    "id": "ef7009bb",
    "papermill": {
     "duration": 0.025424,
     "end_time": "2022-05-03T01:20:24.516127",
     "exception": false,
     "start_time": "2022-05-03T01:20:24.490703",
     "status": "completed"
    },
    "tags": []
   },
   "outputs": [],
   "source": [
    "@torch.no_grad()\n",
    "def prepare_data_features(model, dataset):\n",
    "    # Prepare model\n",
    "    network = deepcopy(model.convnet)\n",
    "    network.fc = nn.Identity()  # Removing projection head g(.)\n",
    "    network.eval()\n",
    "    network.to(device)\n",
    "\n",
    "    # Encode all images\n",
    "    data_loader = data.DataLoader(dataset, batch_size=64, num_workers=NUM_WORKERS, shuffle=False, drop_last=False)\n",
    "    feats, labels = [], []\n",
    "    for batch_imgs, batch_labels in tqdm(data_loader):\n",
    "        batch_imgs = batch_imgs.to(device)\n",
    "        batch_feats = network(batch_imgs)\n",
    "        feats.append(batch_feats.detach().cpu())\n",
    "        labels.append(batch_labels)\n",
    "\n",
    "    feats = torch.cat(feats, dim=0)\n",
    "    labels = torch.cat(labels, dim=0)\n",
    "\n",
    "    # Sort images by labels\n",
    "    labels, idxs = labels.sort()\n",
    "    feats = feats[idxs]\n",
    "\n",
    "    return data.TensorDataset(feats, labels)"
   ]
  },
  {
   "cell_type": "markdown",
   "id": "9fb59bbd",
   "metadata": {
    "id": "9fb59bbd",
    "papermill": {
     "duration": 0.016593,
     "end_time": "2022-05-03T01:20:24.549347",
     "exception": false,
     "start_time": "2022-05-03T01:20:24.532754",
     "status": "completed"
    },
    "tags": []
   },
   "source": [
    "Let's apply the function to both training and test set below."
   ]
  },
  {
   "cell_type": "code",
   "execution_count": null,
   "id": "3a248a10",
   "metadata": {
    "colab": {
     "referenced_widgets": [
      "db53944efaab43f9a2debdb5ed115889",
      "043eb2e39d1d4a27a6aefc5b8a115627"
     ]
    },
    "execution": {
     "iopub.execute_input": "2022-05-03T01:20:24.584160Z",
     "iopub.status.busy": "2022-05-03T01:20:24.583612Z",
     "iopub.status.idle": "2022-05-03T01:20:31.517060Z",
     "shell.execute_reply": "2022-05-03T01:20:31.515987Z"
    },
    "id": "3a248a10",
    "outputId": "cbaf2e8b-19d8-4217-bd08-97ecd8b335c7",
    "papermill": {
     "duration": 6.953263,
     "end_time": "2022-05-03T01:20:31.519406",
     "exception": false,
     "start_time": "2022-05-03T01:20:24.566143",
     "status": "completed"
    },
    "tags": []
   },
   "outputs": [],
   "source": [
    "train_feats_simclr = prepare_data_features(simclr_model, train_img_data)\n",
    "test_feats_simclr = prepare_data_features(simclr_model, test_img_data)"
   ]
  },
  {
   "cell_type": "markdown",
   "id": "81fa7f2d",
   "metadata": {
    "id": "81fa7f2d",
    "lines_to_next_cell": 2,
    "papermill": {
     "duration": 0.017071,
     "end_time": "2022-05-03T01:20:31.555780",
     "exception": false,
     "start_time": "2022-05-03T01:20:31.538709",
     "status": "completed"
    },
    "tags": []
   },
   "source": [
    "Finally, we can write a training function as usual.\n",
    "We evaluate the model on the test set every 10 epochs to allow early\n",
    "stopping, but the low frequency of the validation ensures that we do not\n",
    "overfit too much on the test set."
   ]
  },
  {
   "cell_type": "code",
   "execution_count": null,
   "id": "4e31caaf",
   "metadata": {
    "execution": {
     "iopub.execute_input": "2022-05-03T01:20:31.591653Z",
     "iopub.status.busy": "2022-05-03T01:20:31.591310Z",
     "iopub.status.idle": "2022-05-03T01:20:31.599619Z",
     "shell.execute_reply": "2022-05-03T01:20:31.598995Z"
    },
    "id": "4e31caaf",
    "lines_to_next_cell": 2,
    "papermill": {
     "duration": 0.0283,
     "end_time": "2022-05-03T01:20:31.601142",
     "exception": false,
     "start_time": "2022-05-03T01:20:31.572842",
     "status": "completed"
    },
    "tags": []
   },
   "outputs": [],
   "source": [
    "def train_logreg(batch_size, train_feats_data, test_feats_data, model_suffix, max_epochs=100, **kwargs):\n",
    "    trainer = pl.Trainer(\n",
    "        default_root_dir=os.path.join(CHECKPOINT_PATH, \"LogisticRegression\"),\n",
    "        gpus=1 if str(device) == \"cuda:0\" else 0,\n",
    "        max_epochs=max_epochs,\n",
    "        callbacks=[\n",
    "            ModelCheckpoint(save_weights_only=True, mode=\"max\", monitor=\"val_acc\"),\n",
    "            LearningRateMonitor(\"epoch\"),\n",
    "        ],\n",
    "       # progress_bar_refresh_rate=0,\n",
    "        check_val_every_n_epoch=10,\n",
    "    )\n",
    "    trainer.logger._default_hp_metric = None\n",
    "\n",
    "    # Data loaders\n",
    "    train_loader = data.DataLoader(\n",
    "        train_feats_data, batch_size=batch_size, shuffle=True, drop_last=False, pin_memory=True, num_workers=0\n",
    "    )\n",
    "    test_loader = data.DataLoader(\n",
    "        test_feats_data, batch_size=batch_size, shuffle=False, drop_last=False, pin_memory=True, num_workers=0\n",
    "    )\n",
    "\n",
    "    # Check whether pretrained model exists. If yes, load it and skip training\n",
    "    pretrained_filename = os.path.join(CHECKPOINT_PATH, f\"LogisticRegression_{model_suffix}.ckpt\")\n",
    "    if os.path.isfile(pretrained_filename):\n",
    "        print(f\"Found pretrained model at {pretrained_filename}, loading...\")\n",
    "        model = LogisticRegression.load_from_checkpoint(pretrained_filename)\n",
    "    else:\n",
    "        pl.seed_everything(42)  # To be reproducable\n",
    "        model = LogisticRegression(**kwargs)\n",
    "        trainer.fit(model, train_loader, test_loader)\n",
    "        model = LogisticRegression.load_from_checkpoint(trainer.checkpoint_callback.best_model_path)\n",
    "\n",
    "    # Test best model on train and validation set\n",
    "    train_result = trainer.test(model, dataloaders=train_loader, verbose=False)\n",
    "    test_result = trainer.test(model, dataloaders=test_loader, verbose=False)\n",
    "    result = {\"train\": train_result[0][\"test_acc\"], \"test\": test_result[0][\"test_acc\"]}\n",
    "\n",
    "    return model, result"
   ]
  },
  {
   "cell_type": "markdown",
   "id": "5720579a",
   "metadata": {
    "id": "5720579a",
    "lines_to_next_cell": 2,
    "papermill": {
     "duration": 0.016971,
     "end_time": "2022-05-03T01:20:31.635096",
     "exception": false,
     "start_time": "2022-05-03T01:20:31.618125",
     "status": "completed"
    },
    "tags": []
   },
   "source": [
    "Despite the training dataset of STL10 already only having 500 labeled images per class, we will perform experiments with even smaller datasets.\n",
    "Specifically, we train a Logistic Regression model for datasets with only 10, 20, 50, 100, 200, and all 500 examples per class.\n",
    "This gives us an intuition on how well the representations learned by contrastive learning can be transfered to a image recognition task like this classification.\n",
    "First, let's define a function to create the intended sub-datasets from the full training set:"
   ]
  },
  {
   "cell_type": "code",
   "execution_count": null,
   "id": "e0a838d1",
   "metadata": {
    "execution": {
     "iopub.execute_input": "2022-05-03T01:20:31.670385Z",
     "iopub.status.busy": "2022-05-03T01:20:31.669894Z",
     "iopub.status.idle": "2022-05-03T01:20:31.673705Z",
     "shell.execute_reply": "2022-05-03T01:20:31.673155Z"
    },
    "id": "e0a838d1",
    "papermill": {
     "duration": 0.022906,
     "end_time": "2022-05-03T01:20:31.675108",
     "exception": false,
     "start_time": "2022-05-03T01:20:31.652202",
     "status": "completed"
    },
    "tags": []
   },
   "outputs": [],
   "source": [
    "def get_smaller_dataset(original_dataset, num_imgs_per_label):\n",
    "    new_dataset = data.TensorDataset(\n",
    "        *(t.unflatten(0, (10, 500))[:, :num_imgs_per_label].flatten(0, 1) for t in original_dataset.tensors)\n",
    "    )\n",
    "    return new_dataset"
   ]
  },
  {
   "cell_type": "markdown",
   "id": "e5b8c790",
   "metadata": {
    "id": "e5b8c790",
    "papermill": {
     "duration": 0.016822,
     "end_time": "2022-05-03T01:20:31.708934",
     "exception": false,
     "start_time": "2022-05-03T01:20:31.692112",
     "status": "completed"
    },
    "tags": []
   },
   "source": [
    "Next, let's run all models.\n",
    "Despite us training 6 models, this cell could be run within a minute or two without the pretrained models."
   ]
  },
  {
   "cell_type": "code",
   "execution_count": null,
   "id": "42674379",
   "metadata": {
    "execution": {
     "iopub.execute_input": "2022-05-03T01:20:31.744290Z",
     "iopub.status.busy": "2022-05-03T01:20:31.743768Z",
     "iopub.status.idle": "2022-05-03T01:20:33.288600Z",
     "shell.execute_reply": "2022-05-03T01:20:33.287901Z"
    },
    "id": "42674379",
    "outputId": "60b2d958-ae8d-4723-f29e-5a7cb4bbc428",
    "papermill": {
     "duration": 1.564561,
     "end_time": "2022-05-03T01:20:33.290544",
     "exception": false,
     "start_time": "2022-05-03T01:20:31.725983",
     "status": "completed"
    },
    "tags": []
   },
   "outputs": [],
   "source": [
    "results = {}\n",
    "for num_imgs_per_label in [10, 20, 50, 100, 200, 500]:\n",
    "    sub_train_set = get_smaller_dataset(train_feats_simclr, num_imgs_per_label)\n",
    "    _, small_set_results = train_logreg(\n",
    "        batch_size=64,\n",
    "        train_feats_data=sub_train_set,\n",
    "        test_feats_data=test_feats_simclr,\n",
    "        model_suffix=num_imgs_per_label,\n",
    "        feature_dim=train_feats_simclr.tensors[0].shape[1],\n",
    "        num_classes=10,\n",
    "        lr=1e-3,\n",
    "        weight_decay=1e-3,\n",
    "    )\n",
    "    results[num_imgs_per_label] = small_set_results"
   ]
  },
  {
   "cell_type": "markdown",
   "id": "7c487130",
   "metadata": {
    "id": "7c487130",
    "papermill": {
     "duration": 0.018836,
     "end_time": "2022-05-03T01:20:33.330359",
     "exception": false,
     "start_time": "2022-05-03T01:20:33.311523",
     "status": "completed"
    },
    "tags": []
   },
   "source": [
    "Finally, let's plot the results."
   ]
  },
  {
   "cell_type": "code",
   "execution_count": null,
   "id": "9348762c",
   "metadata": {
    "execution": {
     "iopub.execute_input": "2022-05-03T01:20:33.369306Z",
     "iopub.status.busy": "2022-05-03T01:20:33.369008Z",
     "iopub.status.idle": "2022-05-03T01:20:33.695570Z",
     "shell.execute_reply": "2022-05-03T01:20:33.694940Z"
    },
    "id": "9348762c",
    "outputId": "8f3d7f05-2276-487f-d46c-5ec28a78945a",
    "papermill": {
     "duration": 0.348696,
     "end_time": "2022-05-03T01:20:33.697812",
     "exception": false,
     "start_time": "2022-05-03T01:20:33.349116",
     "status": "completed"
    },
    "tags": []
   },
   "outputs": [],
   "source": [
    "dataset_sizes = sorted(k for k in results)\n",
    "test_scores = [results[k][\"test\"] for k in dataset_sizes]\n",
    "\n",
    "fig = plt.figure(figsize=(6, 4))\n",
    "plt.plot(\n",
    "    dataset_sizes,\n",
    "    test_scores,\n",
    "    \"--\",\n",
    "    color=\"#000\",\n",
    "    marker=\"*\",\n",
    "    markeredgecolor=\"#000\",\n",
    "    markerfacecolor=\"y\",\n",
    "    markersize=16,\n",
    ")\n",
    "plt.xscale(\"log\")\n",
    "plt.xticks(dataset_sizes, labels=dataset_sizes)\n",
    "plt.title(\"STL10 classification over dataset size\", fontsize=14)\n",
    "plt.xlabel(\"Number of images per class\")\n",
    "plt.ylabel(\"Test accuracy\")\n",
    "plt.minorticks_off()\n",
    "plt.show()\n",
    "\n",
    "for k, score in zip(dataset_sizes, test_scores):\n",
    "    print(f\"Test accuracy for {k:3d} images per label: {100*score:4.2f}%\")"
   ]
  },
  {
   "cell_type": "markdown",
   "id": "032436ce",
   "metadata": {
    "id": "032436ce",
    "papermill": {
     "duration": 0.020744,
     "end_time": "2022-05-03T01:20:33.741530",
     "exception": false,
     "start_time": "2022-05-03T01:20:33.720786",
     "status": "completed"
    },
    "tags": []
   },
   "source": [
    "As one would expect, the classification performance improves the more data we have.\n",
    "However, with only 10 images per class, we can already classify more than 60% of the images correctly.\n",
    "This is quite impressive, considering that the images are also higher dimensional than e.g. CIFAR10.\n",
    "With the full dataset, we achieve an accuracy of 81%.\n",
    "The increase between 50 to 500 images per class might suggest a linear increase in performance with an exponentially larger dataset.\n",
    "However, with even more data, we could also finetune $f(\\cdot)$ in the training process, allowing for the representations to adapt more to the specific classification task given.\n",
    "\n",
    "To set the results above into perspective, we will train the base\n",
    "network, a ResNet-18, on the classification task from scratch."
   ]
  },
  {
   "cell_type": "markdown",
   "id": "6423423e",
   "metadata": {
    "id": "6423423e",
    "lines_to_next_cell": 2,
    "papermill": {
     "duration": 0.019905,
     "end_time": "2022-05-03T01:20:33.782372",
     "exception": false,
     "start_time": "2022-05-03T01:20:33.762467",
     "status": "completed"
    },
    "tags": []
   },
   "source": [
    "## Baseline\n",
    "\n",
    "As a baseline to our results above, we will train a standard ResNet-18 with random initialization on the labeled training set of STL10.\n",
    "The results will give us an indication of the advantages that contrastive learning on unlabeled data has compared to using only supervised training.\n",
    "The implementation of the model is straightforward since the ResNet\n",
    "architecture is provided in the torchvision library."
   ]
  },
  {
   "cell_type": "code",
   "execution_count": null,
   "id": "eca664b0",
   "metadata": {
    "execution": {
     "iopub.execute_input": "2022-05-03T01:20:33.824029Z",
     "iopub.status.busy": "2022-05-03T01:20:33.823695Z",
     "iopub.status.idle": "2022-05-03T01:20:33.831435Z",
     "shell.execute_reply": "2022-05-03T01:20:33.830838Z"
    },
    "id": "eca664b0",
    "papermill": {
     "duration": 0.0306,
     "end_time": "2022-05-03T01:20:33.832939",
     "exception": false,
     "start_time": "2022-05-03T01:20:33.802339",
     "status": "completed"
    },
    "tags": []
   },
   "outputs": [],
   "source": [
    "class ResNet(pl.LightningModule):\n",
    "    def __init__(self, num_classes, lr, weight_decay, max_epochs=100):\n",
    "        super().__init__()\n",
    "        self.save_hyperparameters()\n",
    "        self.model = torchvision.models.resnet18(pretrained=False, num_classes=num_classes)\n",
    "\n",
    "    def configure_optimizers(self):\n",
    "        optimizer = optim.AdamW(self.parameters(), lr=self.hparams.lr, weight_decay=self.hparams.weight_decay)\n",
    "        lr_scheduler = optim.lr_scheduler.MultiStepLR(\n",
    "            optimizer, milestones=[int(self.hparams.max_epochs * 0.7), int(self.hparams.max_epochs * 0.9)], gamma=0.1\n",
    "        )\n",
    "        return [optimizer], [lr_scheduler]\n",
    "\n",
    "    def _calculate_loss(self, batch, mode=\"train\"):\n",
    "        imgs, labels = batch\n",
    "        preds = self.model(imgs)\n",
    "        loss = F.cross_entropy(preds, labels)\n",
    "        acc = (preds.argmax(dim=-1) == labels).float().mean()\n",
    "\n",
    "        self.log(mode + \"_loss\", loss)\n",
    "        self.log(mode + \"_acc\", acc)\n",
    "        return loss\n",
    "\n",
    "    def training_step(self, batch, batch_idx):\n",
    "        return self._calculate_loss(batch, mode=\"train\")\n",
    "\n",
    "    def validation_step(self, batch, batch_idx):\n",
    "        self._calculate_loss(batch, mode=\"val\")\n",
    "\n",
    "    def test_step(self, batch, batch_idx):\n",
    "        self._calculate_loss(batch, mode=\"test\")"
   ]
  },
  {
   "cell_type": "markdown",
   "id": "124ecc38",
   "metadata": {
    "id": "124ecc38",
    "papermill": {
     "duration": 0.020248,
     "end_time": "2022-05-03T01:20:33.873624",
     "exception": false,
     "start_time": "2022-05-03T01:20:33.853376",
     "status": "completed"
    },
    "tags": []
   },
   "source": [
    "It is clear that the ResNet easily overfits on the training data since its parameter count is more than 1000 times larger than the dataset size.\n",
    "To make the comparison to the contrastive learning models fair, we apply data augmentations similar to the ones we used before: horizontal flip, crop-and-resize, grayscale, and gaussian blur.\n",
    "Color distortions as before are not used because the color distribution of an image showed to be an important feature for the classification.\n",
    "Hence, we observed no noticeable performance gains when adding color distortions to the set of augmentations.\n",
    "Similarly, we restrict the resizing operation before cropping to the max.\n",
    "125% of its original resolution, instead of 1250% as done in SimCLR.\n",
    "This is because, for classification, the model needs to recognize the full object, while in contrastive learning, we only want to check whether two patches belong to the same image/object.\n",
    "Hence, the chosen augmentations below are overall weaker than in the contrastive learning case."
   ]
  },
  {
   "cell_type": "code",
   "execution_count": null,
   "id": "1862c25b",
   "metadata": {
    "execution": {
     "iopub.execute_input": "2022-05-03T01:20:33.918218Z",
     "iopub.status.busy": "2022-05-03T01:20:33.917353Z",
     "iopub.status.idle": "2022-05-03T01:20:39.568352Z",
     "shell.execute_reply": "2022-05-03T01:20:39.567677Z"
    },
    "id": "1862c25b",
    "outputId": "89b2f2f1-09df-44a0-d370-c479f79dfc4e",
    "papermill": {
     "duration": 5.676295,
     "end_time": "2022-05-03T01:20:39.569930",
     "exception": false,
     "start_time": "2022-05-03T01:20:33.893635",
     "status": "completed"
    },
    "tags": []
   },
   "outputs": [],
   "source": [
    "train_transforms = transforms.Compose(\n",
    "    [\n",
    "        transforms.RandomHorizontalFlip(),\n",
    "        transforms.RandomResizedCrop(size=96, scale=(0.8, 1.0)),\n",
    "        transforms.RandomGrayscale(p=0.2),\n",
    "        transforms.GaussianBlur(kernel_size=9, sigma=(0.1, 0.5)),\n",
    "        transforms.ToTensor(),\n",
    "        transforms.Normalize((0.5,), (0.5,)),\n",
    "    ]\n",
    ")\n",
    "\n",
    "train_img_aug_data = STL10(root=DATASET_PATH, split=\"train\", download=True, transform=train_transforms)"
   ]
  },
  {
   "cell_type": "markdown",
   "id": "80f5d59c",
   "metadata": {
    "id": "80f5d59c",
    "lines_to_next_cell": 2,
    "papermill": {
     "duration": 0.020075,
     "end_time": "2022-05-03T01:20:39.612636",
     "exception": false,
     "start_time": "2022-05-03T01:20:39.592561",
     "status": "completed"
    },
    "tags": []
   },
   "source": [
    "The training function for the ResNet is almost identical to the Logistic Regression setup.\n",
    "Note that we allow the ResNet to perform validation every 2 epochs to\n",
    "also check whether the model overfits strongly in the first iterations\n",
    "or not."
   ]
  },
  {
   "cell_type": "code",
   "execution_count": null,
   "id": "0f2275d1",
   "metadata": {
    "execution": {
     "iopub.execute_input": "2022-05-03T01:20:39.654503Z",
     "iopub.status.busy": "2022-05-03T01:20:39.653862Z",
     "iopub.status.idle": "2022-05-03T01:20:39.661745Z",
     "shell.execute_reply": "2022-05-03T01:20:39.661150Z"
    },
    "id": "0f2275d1",
    "papermill": {
     "duration": 0.030517,
     "end_time": "2022-05-03T01:20:39.663202",
     "exception": false,
     "start_time": "2022-05-03T01:20:39.632685",
     "status": "completed"
    },
    "tags": []
   },
   "outputs": [],
   "source": [
    "def train_resnet(batch_size, max_epochs=100, **kwargs):\n",
    "    trainer = pl.Trainer(\n",
    "        default_root_dir=os.path.join(CHECKPOINT_PATH, \"ResNet\"),\n",
    "        gpus=1 if str(device) == \"cuda:0\" else 0,\n",
    "        max_epochs=max_epochs,\n",
    "        callbacks=[\n",
    "            ModelCheckpoint(save_weights_only=True, mode=\"max\", monitor=\"val_acc\"),\n",
    "            LearningRateMonitor(\"epoch\"),\n",
    "        ],\n",
    "       refresh_rate=1,\n",
    "        check_val_every_n_epoch=2,\n",
    "    )\n",
    "    trainer.logger._default_hp_metric = None\n",
    "\n",
    "    # Data loaders\n",
    "    train_loader = data.DataLoader(\n",
    "        train_img_aug_data,\n",
    "        batch_size=batch_size,\n",
    "        shuffle=True,\n",
    "        drop_last=True,\n",
    "        pin_memory=True,\n",
    "        num_workers=NUM_WORKERS,\n",
    "    )\n",
    "    test_loader = data.DataLoader(\n",
    "        test_img_data, batch_size=batch_size, shuffle=False, drop_last=False, pin_memory=True, num_workers=NUM_WORKERS\n",
    "    )\n",
    "\n",
    "    # Check whether pretrained model exists. If yes, load it and skip training\n",
    "    pretrained_filename = os.path.join(CHECKPOINT_PATH, \"ResNet.ckpt\")\n",
    "    if os.path.isfile(pretrained_filename):\n",
    "        print(\"Found pretrained model at %s, loading...\" % pretrained_filename)\n",
    "        model = ResNet.load_from_checkpoint(pretrained_filename)\n",
    "    else:\n",
    "        pl.seed_everything(42)  # To be reproducable\n",
    "        model = ResNet(**kwargs)\n",
    "        trainer.fit(model, train_loader, test_loader)\n",
    "        model = ResNet.load_from_checkpoint(trainer.checkpoint_callback.best_model_path)\n",
    "\n",
    "    # Test best model on validation set\n",
    "    train_result = trainer.test(model, dataloaders=train_loader, verbose=False)\n",
    "    val_result = trainer.test(model, dataloaders=test_loader, verbose=False)\n",
    "    result = {\"train\": train_result[0][\"test_acc\"], \"test\": val_result[0][\"test_acc\"]}\n",
    "\n",
    "    return model, result"
   ]
  },
  {
   "cell_type": "markdown",
   "id": "c4714748",
   "metadata": {
    "id": "c4714748",
    "papermill": {
     "duration": 0.020137,
     "end_time": "2022-05-03T01:20:39.703439",
     "exception": false,
     "start_time": "2022-05-03T01:20:39.683302",
     "status": "completed"
    },
    "tags": []
   },
   "source": [
    "Finally, let's train the model and check its results:"
   ]
  },
  {
   "cell_type": "code",
   "execution_count": null,
   "id": "88cd7c3d",
   "metadata": {
    "colab": {
     "referenced_widgets": [
      "b2ad4f8f9c6048a1a5e119627c964924",
      "4a1ca1d04c6d4a62a0c8bbdf62815bf2"
     ]
    },
    "execution": {
     "iopub.execute_input": "2022-05-03T01:20:39.745718Z",
     "iopub.status.busy": "2022-05-03T01:20:39.745165Z",
     "iopub.status.idle": "2022-05-03T01:20:44.677634Z",
     "shell.execute_reply": "2022-05-03T01:20:44.676950Z"
    },
    "id": "88cd7c3d",
    "outputId": "fe1b253b-f60e-45df-bb9b-6169fd91ced4",
    "papermill": {
     "duration": 4.955437,
     "end_time": "2022-05-03T01:20:44.679190",
     "exception": false,
     "start_time": "2022-05-03T01:20:39.723753",
     "status": "completed"
    },
    "tags": []
   },
   "outputs": [],
   "source": [
    "resnet_model, resnet_result = train_resnet(batch_size=64, num_classes=10, lr=1e-3, weight_decay=2e-4, max_epochs=100)\n",
    "print(f\"Accuracy on training set: {100*resnet_result['train']:4.2f}%\")\n",
    "print(f\"Accuracy on test set: {100*resnet_result['test']:4.2f}%\")"
   ]
  },
  {
   "cell_type": "markdown",
   "id": "534121f5",
   "metadata": {
    "id": "534121f5",
    "papermill": {
     "duration": 0.020667,
     "end_time": "2022-05-03T01:20:44.722731",
     "exception": false,
     "start_time": "2022-05-03T01:20:44.702064",
     "status": "completed"
    },
    "tags": []
   },
   "source": [
    "The ResNet trained from scratch achieves 73.31% on the test set.\n",
    "This is almost 8% less than the contrastive learning model, and even slightly less than SimCLR achieves with 1/10 of the data.\n",
    "This shows that self-supervised, contrastive learning provides\n",
    "considerable performance gains by leveraging large amounts of unlabeled\n",
    "data when little labeled data is available."
   ]
  },
  {
   "cell_type": "markdown",
   "id": "2587ddd2",
   "metadata": {
    "id": "2587ddd2",
    "papermill": {
     "duration": 0.021179,
     "end_time": "2022-05-03T01:20:44.764832",
     "exception": false,
     "start_time": "2022-05-03T01:20:44.743653",
     "status": "completed"
    },
    "tags": []
   },
   "source": [
    "## Conclusion\n",
    "\n",
    "In this tutorial, we have discussed self-supervised contrastive learning and implemented SimCLR as an example method.\n",
    "We have applied it to the STL10 dataset and showed that it can learn generalizable representations that we can use to train simple classification models.\n",
    "With 500 images per label, it achieved an 8% higher accuracy than a similar model solely trained from supervision and performs on par with it when only using a tenth of the labeled data.\n",
    "Our experimental results are limited to a single dataset, but recent works such as [Ting Chen et al. ](https://arxiv.org/abs/2006.10029) showed similar trends for larger datasets like ImageNet.\n",
    "Besides the discussed hyperparameters, the size of the model seems to be important in contrastive learning as well.\n",
    "If a lot of unlabeled data is available, larger models can achieve much stronger results and come close to their supervised baselines.\n",
    "Further, there are also approaches for combining contrastive and supervised learning, leading to performance gains beyond supervision (see [Khosla et al.](https://arxiv.org/abs/2004.11362)).\n",
    "Moreover, contrastive learning is not the only approach to self-supervised learning that has come up in the last two years and showed great results.\n",
    "Other methods include distillation-based methods like [BYOL](https://arxiv.org/abs/2006.07733) and redundancy reduction techniques like [Barlow Twins](https://arxiv.org/abs/2103.03230).\n",
    "There is a lot more to explore in the self-supervised domain, and more, impressive steps ahead are to be expected.\n",
    "\n",
    "### References\n",
    "\n",
    "[1] Chen, T., Kornblith, S., Norouzi, M., and Hinton, G. (2020).\n",
    "A simple framework for contrastive learning of visual representations.\n",
    "In International conference on machine learning (pp.\n",
    "1597-1607).\n",
    "PMLR.\n",
    "([link](https://arxiv.org/abs/2002.05709))\n",
    "\n",
    "[2] Chen, T., Kornblith, S., Swersky, K., Norouzi, M., and Hinton, G. (2020).\n",
    "Big self-supervised models are strong semi-supervised learners.\n",
    "NeurIPS 2021 ([link](https://arxiv.org/abs/2006.10029)).\n",
    "\n",
    "[3] Oord, A. V. D., Li, Y., and Vinyals, O.\n",
    "(2018).\n",
    "Representation learning with contrastive predictive coding.\n",
    "arXiv preprint arXiv:1807.03748.\n",
    "([link](https://arxiv.org/abs/1807.03748))\n",
    "\n",
    "[4] Grill, J.B., Strub, F., Altché, F., Tallec, C., Richemond, P.H., Buchatskaya, E., Doersch, C., Pires, B.A., Guo, Z.D., Azar, M.G.\n",
    "and Piot, B.\n",
    "(2020).\n",
    "Bootstrap your own latent: A new approach to self-supervised learning.\n",
    "arXiv preprint arXiv:2006.07733.\n",
    "([link](https://arxiv.org/abs/2006.07733))\n",
    "\n",
    "[5] Khosla, P., Teterwak, P., Wang, C., Sarna, A., Tian, Y., Isola, P., Maschinot, A., Liu, C. and Krishnan, D. (2020).\n",
    "Supervised contrastive learning.\n",
    "arXiv preprint arXiv:2004.11362.\n",
    "([link](https://arxiv.org/abs/2004.11362))\n",
    "\n",
    "[6] Zbontar, J., Jing, L., Misra, I., LeCun, Y. and Deny, S. (2021).\n",
    "Barlow twins: Self-supervised learning via redundancy reduction.\n",
    "arXiv preprint arXiv:2103.03230.\n",
    "([link](https://arxiv.org/abs/2103.03230))"
   ]
  },
  {
   "cell_type": "markdown",
   "id": "e02c21fe",
   "metadata": {
    "id": "e02c21fe",
    "papermill": {
     "duration": 0.02056,
     "end_time": "2022-05-03T01:20:44.806421",
     "exception": false,
     "start_time": "2022-05-03T01:20:44.785861",
     "status": "completed"
    },
    "tags": []
   },
   "source": [
    "## Congratulations - Time to Join the Community!\n",
    "\n",
    "Congratulations on completing this notebook tutorial! If you enjoyed this and would like to join the Lightning\n",
    "movement, you can do so in the following ways!\n",
    "\n",
    "### Star [Lightning](https://github.com/PyTorchLightning/pytorch-lightning) on GitHub\n",
    "The easiest way to help our community is just by starring the GitHub repos! This helps raise awareness of the cool\n",
    "tools we're building.\n",
    "\n",
    "### Join our [Slack](https://www.pytorchlightning.ai/community)!\n",
    "The best way to keep up to date on the latest advancements is to join our community! Make sure to introduce yourself\n",
    "and share your interests in `#general` channel\n",
    "\n",
    "\n",
    "### Contributions !\n",
    "The best way to contribute to our community is to become a code contributor! At any time you can go to\n",
    "[Lightning](https://github.com/PyTorchLightning/pytorch-lightning) or [Bolt](https://github.com/PyTorchLightning/lightning-bolts)\n",
    "GitHub Issues page and filter for \"good first issue\".\n",
    "\n",
    "* [Lightning good first issue](https://github.com/PyTorchLightning/pytorch-lightning/issues?q=is%3Aopen+is%3Aissue+label%3A%22good+first+issue%22)\n",
    "* [Bolt good first issue](https://github.com/PyTorchLightning/lightning-bolts/issues?q=is%3Aopen+is%3Aissue+label%3A%22good+first+issue%22)\n",
    "* You can also contribute your own notebooks with useful examples !\n",
    "\n",
    "### Great thanks from the entire Pytorch Lightning Team for your interest !\n",
    "\n",
    "[![Pytorch Lightning](data:image/png;base64,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){height=\"60px\" width=\"240px\"}](https://pytorchlightning.ai)"
   ]
  }
 ],
 "metadata": {
  "colab": {
   "provenance": []
  },
  "gpuClass": "standard",
  "jupytext": {
   "cell_metadata_filter": "colab,colab_type,id,-all",
   "formats": "ipynb,py:percent",
   "main_language": "python"
  },
  "kernelspec": {
   "display_name": "Python 3 (ipykernel)",
   "language": "python",
   "name": "python3"
  },
  "language_info": {
   "codemirror_mode": {
    "name": "ipython",
    "version": 3
   },
   "file_extension": ".py",
   "mimetype": "text/x-python",
   "name": "python",
   "nbconvert_exporter": "python",
   "pygments_lexer": "ipython3",
   "version": "3.10.6"
  },
  "papermill": {
   "default_parameters": {},
   "duration": 177.423578,
   "end_time": "2022-05-03T01:20:47.748293",
   "environment_variables": {},
   "exception": null,
   "input_path": "course_UvA-DL/13-contrastive-learning/SimCLR.ipynb",
   "output_path": ".notebooks/course_UvA-DL/13-contrastive-learning.ipynb",
   "parameters": {},
   "start_time": "2022-05-03T01:17:50.324715",
   "version": "2.3.4"
  },
  "vscode": {
   "interpreter": {
    "hash": "916dbcbb3f70747c44a77c7bcd40155683ae19c65e1c03b4aa3499c5328201f1"
   }
  },
  "widgets": {
   "application/vnd.jupyter.widget-state+json": {
    "094cd121be2542bfb44bbcb223cef8d3": {
     "model_module": "@jupyter-widgets/base",
     "model_module_version": "1.2.0",
     "model_name": "LayoutModel",
     "state": {
      "_model_module": "@jupyter-widgets/base",
      "_model_module_version": "1.2.0",
      "_model_name": "LayoutModel",
      "_view_count": null,
      "_view_module": "@jupyter-widgets/base",
      "_view_module_version": "1.2.0",
      "_view_name": "LayoutView",
      "align_content": null,
      "align_items": null,
      "align_self": null,
      "border": null,
      "bottom": null,
      "display": null,
      "flex": null,
      "flex_flow": null,
      "grid_area": null,
      "grid_auto_columns": null,
      "grid_auto_flow": null,
      "grid_auto_rows": null,
      "grid_column": null,
      "grid_gap": null,
      "grid_row": null,
      "grid_template_areas": null,
      "grid_template_columns": null,
      "grid_template_rows": null,
      "height": null,
      "justify_content": null,
      "justify_items": null,
      "left": null,
      "margin": null,
      "max_height": null,
      "max_width": null,
      "min_height": null,
      "min_width": null,
      "object_fit": null,
      "object_position": null,
      "order": null,
      "overflow": null,
      "overflow_x": null,
      "overflow_y": null,
      "padding": null,
      "right": null,
      "top": null,
      "visibility": null,
      "width": null
     }
    },
    "1d71e712168a499ebe1f95eb9f48b119": {
     "model_module": "@jupyter-widgets/controls",
     "model_module_version": "1.5.0",
     "model_name": "FloatProgressModel",
     "state": {
      "_dom_classes": [],
      "_model_module": "@jupyter-widgets/controls",
      "_model_module_version": "1.5.0",
      "_model_name": "FloatProgressModel",
      "_view_count": null,
      "_view_module": "@jupyter-widgets/controls",
      "_view_module_version": "1.5.0",
      "_view_name": "ProgressView",
      "bar_style": "success",
      "description": "",
      "description_tooltip": null,
      "layout": "IPY_MODEL_f298ac206a9e4e3ea50292c007db1aee",
      "max": 2640397119,
      "min": 0,
      "orientation": "horizontal",
      "style": "IPY_MODEL_c5c8f670c78d4899ae9886ddc6a703e5",
      "value": 2640397119
     }
    },
    "20e99eeba1ca4e0fa394b5df4735685b": {
     "model_module": "@jupyter-widgets/controls",
     "model_module_version": "1.5.0",
     "model_name": "HBoxModel",
     "state": {
      "_dom_classes": [],
      "_model_module": "@jupyter-widgets/controls",
      "_model_module_version": "1.5.0",
      "_model_name": "HBoxModel",
      "_view_count": null,
      "_view_module": "@jupyter-widgets/controls",
      "_view_module_version": "1.5.0",
      "_view_name": "HBoxView",
      "box_style": "",
      "children": [
       "IPY_MODEL_6e7330d6ec784540a6196c675a56f333",
       "IPY_MODEL_1d71e712168a499ebe1f95eb9f48b119",
       "IPY_MODEL_93ebc2a2f45c41eda863ae7475c5ba8a"
      ],
      "layout": "IPY_MODEL_094cd121be2542bfb44bbcb223cef8d3"
     }
    },
    "432126e4d2534c4fab6977fd300377bf": {
     "model_module": "@jupyter-widgets/base",
     "model_module_version": "1.2.0",
     "model_name": "LayoutModel",
     "state": {
      "_model_module": "@jupyter-widgets/base",
      "_model_module_version": "1.2.0",
      "_model_name": "LayoutModel",
      "_view_count": null,
      "_view_module": "@jupyter-widgets/base",
      "_view_module_version": "1.2.0",
      "_view_name": "LayoutView",
      "align_content": null,
      "align_items": null,
      "align_self": null,
      "border": null,
      "bottom": null,
      "display": null,
      "flex": null,
      "flex_flow": null,
      "grid_area": null,
      "grid_auto_columns": null,
      "grid_auto_flow": null,
      "grid_auto_rows": null,
      "grid_column": null,
      "grid_gap": null,
      "grid_row": null,
      "grid_template_areas": null,
      "grid_template_columns": null,
      "grid_template_rows": null,
      "height": null,
      "justify_content": null,
      "justify_items": null,
      "left": null,
      "margin": null,
      "max_height": null,
      "max_width": null,
      "min_height": null,
      "min_width": null,
      "object_fit": null,
      "object_position": null,
      "order": null,
      "overflow": null,
      "overflow_x": null,
      "overflow_y": null,
      "padding": null,
      "right": null,
      "top": null,
      "visibility": null,
      "width": null
     }
    },
    "518321f713f64ad48e386e4fae4f8001": {
     "model_module": "@jupyter-widgets/controls",
     "model_module_version": "1.5.0",
     "model_name": "DescriptionStyleModel",
     "state": {
      "_model_module": "@jupyter-widgets/controls",
      "_model_module_version": "1.5.0",
      "_model_name": "DescriptionStyleModel",
      "_view_count": null,
      "_view_module": "@jupyter-widgets/base",
      "_view_module_version": "1.2.0",
      "_view_name": "StyleView",
      "description_width": ""
     }
    },
    "6e7330d6ec784540a6196c675a56f333": {
     "model_module": "@jupyter-widgets/controls",
     "model_module_version": "1.5.0",
     "model_name": "HTMLModel",
     "state": {
      "_dom_classes": [],
      "_model_module": "@jupyter-widgets/controls",
      "_model_module_version": "1.5.0",
      "_model_name": "HTMLModel",
      "_view_count": null,
      "_view_module": "@jupyter-widgets/controls",
      "_view_module_version": "1.5.0",
      "_view_name": "HTMLView",
      "description": "",
      "description_tooltip": null,
      "layout": "IPY_MODEL_f657ae08c2f64ee8aa93fad7c586beaa",
      "placeholder": "​",
      "style": "IPY_MODEL_862f761576354d0bbdf25d04e25f763e",
      "value": "100%"
     }
    },
    "862f761576354d0bbdf25d04e25f763e": {
     "model_module": "@jupyter-widgets/controls",
     "model_module_version": "1.5.0",
     "model_name": "DescriptionStyleModel",
     "state": {
      "_model_module": "@jupyter-widgets/controls",
      "_model_module_version": "1.5.0",
      "_model_name": "DescriptionStyleModel",
      "_view_count": null,
      "_view_module": "@jupyter-widgets/base",
      "_view_module_version": "1.2.0",
      "_view_name": "StyleView",
      "description_width": ""
     }
    },
    "93ebc2a2f45c41eda863ae7475c5ba8a": {
     "model_module": "@jupyter-widgets/controls",
     "model_module_version": "1.5.0",
     "model_name": "HTMLModel",
     "state": {
      "_dom_classes": [],
      "_model_module": "@jupyter-widgets/controls",
      "_model_module_version": "1.5.0",
      "_model_name": "HTMLModel",
      "_view_count": null,
      "_view_module": "@jupyter-widgets/controls",
      "_view_module_version": "1.5.0",
      "_view_name": "HTMLView",
      "description": "",
      "description_tooltip": null,
      "layout": "IPY_MODEL_432126e4d2534c4fab6977fd300377bf",
      "placeholder": "​",
      "style": "IPY_MODEL_518321f713f64ad48e386e4fae4f8001",
      "value": " 2640397119/2640397119 [02:27&lt;00:00, 18844909.61it/s]"
     }
    },
    "c5c8f670c78d4899ae9886ddc6a703e5": {
     "model_module": "@jupyter-widgets/controls",
     "model_module_version": "1.5.0",
     "model_name": "ProgressStyleModel",
     "state": {
      "_model_module": "@jupyter-widgets/controls",
      "_model_module_version": "1.5.0",
      "_model_name": "ProgressStyleModel",
      "_view_count": null,
      "_view_module": "@jupyter-widgets/base",
      "_view_module_version": "1.2.0",
      "_view_name": "StyleView",
      "bar_color": null,
      "description_width": ""
     }
    },
    "f298ac206a9e4e3ea50292c007db1aee": {
     "model_module": "@jupyter-widgets/base",
     "model_module_version": "1.2.0",
     "model_name": "LayoutModel",
     "state": {
      "_model_module": "@jupyter-widgets/base",
      "_model_module_version": "1.2.0",
      "_model_name": "LayoutModel",
      "_view_count": null,
      "_view_module": "@jupyter-widgets/base",
      "_view_module_version": "1.2.0",
      "_view_name": "LayoutView",
      "align_content": null,
      "align_items": null,
      "align_self": null,
      "border": null,
      "bottom": null,
      "display": null,
      "flex": null,
      "flex_flow": null,
      "grid_area": null,
      "grid_auto_columns": null,
      "grid_auto_flow": null,
      "grid_auto_rows": null,
      "grid_column": null,
      "grid_gap": null,
      "grid_row": null,
      "grid_template_areas": null,
      "grid_template_columns": null,
      "grid_template_rows": null,
      "height": null,
      "justify_content": null,
      "justify_items": null,
      "left": null,
      "margin": null,
      "max_height": null,
      "max_width": null,
      "min_height": null,
      "min_width": null,
      "object_fit": null,
      "object_position": null,
      "order": null,
      "overflow": null,
      "overflow_x": null,
      "overflow_y": null,
      "padding": null,
      "right": null,
      "top": null,
      "visibility": null,
      "width": null
     }
    },
    "f657ae08c2f64ee8aa93fad7c586beaa": {
     "model_module": "@jupyter-widgets/base",
     "model_module_version": "1.2.0",
     "model_name": "LayoutModel",
     "state": {
      "_model_module": "@jupyter-widgets/base",
      "_model_module_version": "1.2.0",
      "_model_name": "LayoutModel",
      "_view_count": null,
      "_view_module": "@jupyter-widgets/base",
      "_view_module_version": "1.2.0",
      "_view_name": "LayoutView",
      "align_content": null,
      "align_items": null,
      "align_self": null,
      "border": null,
      "bottom": null,
      "display": null,
      "flex": null,
      "flex_flow": null,
      "grid_area": null,
      "grid_auto_columns": null,
      "grid_auto_flow": null,
      "grid_auto_rows": null,
      "grid_column": null,
      "grid_gap": null,
      "grid_row": null,
      "grid_template_areas": null,
      "grid_template_columns": null,
      "grid_template_rows": null,
      "height": null,
      "justify_content": null,
      "justify_items": null,
      "left": null,
      "margin": null,
      "max_height": null,
      "max_width": null,
      "min_height": null,
      "min_width": null,
      "object_fit": null,
      "object_position": null,
      "order": null,
      "overflow": null,
      "overflow_x": null,
      "overflow_y": null,
      "padding": null,
      "right": null,
      "top": null,
      "visibility": null,
      "width": null
     }
    }
   }
  }
 },
 "nbformat": 4,
 "nbformat_minor": 5
}
