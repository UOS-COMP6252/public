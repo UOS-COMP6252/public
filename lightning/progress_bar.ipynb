{
 "cells": [
  {
   "cell_type": "code",
   "execution_count": 5,
   "metadata": {},
   "outputs": [],
   "source": [
    "from tqdm import tqdm\n",
    "import time"
   ]
  },
  {
   "cell_type": "code",
   "execution_count": 17,
   "metadata": {},
   "outputs": [
    {
     "name": "stderr",
     "output_type": "stream",
     "text": [
      "iter: 100%|██████████| 10/10 [00:10<00:00,  1.00s/it, one=9, two=0]\n",
      "iter: 100%|██████████| 10/10 [00:10<00:00,  1.00s/it, one=9, two=0]\n",
      "iter: 100%|██████████| 10/10 [00:10<00:00,  1.00s/it, one=9, two=1]\n",
      "iter: 100%|██████████| 10/10 [00:10<00:00,  1.00s/it, one=9, two=2]\n",
      "iter: 100%|██████████| 10/10 [00:10<00:00,  1.00s/it, one=9, two=3]\n"
     ]
    }
   ],
   "source": [
    "c=0\n",
    "for j in range(5):\n",
    "    loop=tqdm(range(10))\n",
    "    loop.set_description(\"iter\")\n",
    "    for i in loop:\n",
    "        loop.set_postfix(one=i,two=c)\n",
    "        time.sleep(1)\n",
    "    c=j\n"
   ]
  },
  {
   "cell_type": "code",
   "execution_count": null,
   "metadata": {},
   "outputs": [],
   "source": []
  }
 ],
 "metadata": {
  "kernelspec": {
   "display_name": "Python 3",
   "language": "python",
   "name": "python3"
  },
  "language_info": {
   "codemirror_mode": {
    "name": "ipython",
    "version": 3
   },
   "file_extension": ".py",
   "mimetype": "text/x-python",
   "name": "python",
   "nbconvert_exporter": "python",
   "pygments_lexer": "ipython3",
   "version": "3.10.6"
  },
  "orig_nbformat": 4
 },
 "nbformat": 4,
 "nbformat_minor": 2
}
