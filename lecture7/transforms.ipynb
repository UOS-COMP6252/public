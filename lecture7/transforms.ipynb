{
 "cells": [
  {
   "cell_type": "code",
   "execution_count": null,
   "metadata": {},
   "outputs": [],
   "source": [
    "#import torch\n",
    "import torchvision\n",
    "from torchvision.transforms import RandomHorizontalFlip,RandomCrop,RandomRotation\n",
    "import matplotlib.pyplot as plt\n"
   ]
  },
  {
   "cell_type": "code",
   "execution_count": null,
   "metadata": {},
   "outputs": [],
   "source": [
    "%%sh\n",
    "wget https://live.staticflickr.com/1401/1428198050_ec54388ffd_w_d.jpg\n",
    "if [ ! -d figs ]; then\n",
    "mkdir figs\n",
    "fi\n",
    "mv 1428198050_ec54388ffd_w_d.jpg figs/cat.jpg"
   ]
  },
  {
   "cell_type": "code",
   "execution_count": null,
   "metadata": {},
   "outputs": [],
   "source": [
    "from PIL import Image\n",
    "img=Image.open(\"figs/cat.jpg\")"
   ]
  },
  {
   "cell_type": "code",
   "execution_count": null,
   "metadata": {},
   "outputs": [],
   "source": [
    "## flip with 50% probability\n",
    "flip=RandomHorizontalFlip()\n",
    "\n",
    "fig=plt.figure()\n",
    "fig.tight_layout()\n",
    "plt.subplots_adjust( wspace=.1, hspace=.1)\n",
    "for i in range(5):\n",
    "            x=flip(img)\n",
    "            t=fig.add_subplot(1,5,i+1)\n",
    "            t.axes.get_xaxis().set_visible(False)\n",
    "            t.axes.get_yaxis().set_visible(False)\n",
    "            #plt.imshow(img,cmap='gray_r')\n",
    "            plt.imshow(x)\n",
    "            plt.savefig(\"translate.png\",bbox_inches='tight')"
   ]
  },
  {
   "cell_type": "code",
   "execution_count": null,
   "metadata": {},
   "outputs": [],
   "source": [
    "## randomly translate the image between -30% of its height/width and +30%\n",
    "translate=torchvision.transforms.RandomAffine(degrees=0,translate=(0.3,0.3))\n",
    "\n",
    "fig=plt.figure()\n",
    "fig.tight_layout()\n",
    "plt.subplots_adjust( wspace=.1, hspace=.1)\n",
    "for i in range(5):\n",
    "            x=translate(img)\n",
    "            t=fig.add_subplot(1,5,i+1)\n",
    "            t.axes.get_xaxis().set_visible(False)\n",
    "            t.axes.get_yaxis().set_visible(False)\n",
    "            #plt.imshow(img,cmap='gray_r')\n",
    "            plt.imshow(x)\n",
    "            plt.savefig(\"translate.png\",bbox_inches='tight')"
   ]
  },
  {
   "cell_type": "code",
   "execution_count": null,
   "metadata": {},
   "outputs": [],
   "source": [
    "## crop 150x150 from the image at random location\n",
    "crop=RandomCrop((150,150))\n",
    "\n",
    "fig=plt.figure()\n",
    "fig.tight_layout()\n",
    "plt.subplots_adjust( wspace=.1, hspace=.1)\n",
    "for i in range(5):\n",
    "            x=crop(img)\n",
    "            t=fig.add_subplot(1,5,i+1)\n",
    "            t.axes.get_xaxis().set_visible(False)\n",
    "            t.axes.get_yaxis().set_visible(False)\n",
    "            #plt.imshow(img,cmap='gray_r')\n",
    "            plt.imshow(x)\n",
    "            plt.savefig(\"crop.png\",bbox_inches='tight')"
   ]
  },
  {
   "cell_type": "code",
   "execution_count": null,
   "metadata": {},
   "outputs": [],
   "source": [
    "## rotation the image between -45 and +45 degrees\n",
    "rot=RandomRotation(45)\n",
    "fig=plt.figure()\n",
    "fig.tight_layout()\n",
    "plt.subplots_adjust( wspace=.1, hspace=.1)\n",
    "for i in range(5):\n",
    "            x=rot(img)\n",
    "            t=fig.add_subplot(1,5,i+1)\n",
    "            t.axes.get_xaxis().set_visible(False)\n",
    "            t.axes.get_yaxis().set_visible(False)\n",
    "            #plt.imshow(img,cmap='gray_r')\n",
    "            plt.imshow(x)\n",
    "            plt.savefig(\"rotate.png\",bbox_inches='tight')"
   ]
  },
  {
   "cell_type": "code",
   "execution_count": null,
   "metadata": {},
   "outputs": [],
   "source": []
  }
 ],
 "metadata": {
  "kernelspec": {
   "display_name": "Python 3",
   "language": "python",
   "name": "python3"
  },
  "language_info": {
   "codemirror_mode": {
    "name": "ipython",
    "version": 3
   },
   "file_extension": ".py",
   "mimetype": "text/x-python",
   "name": "python",
   "nbconvert_exporter": "python",
   "pygments_lexer": "ipython3",
   "version": "3.10.6"
  },
  "orig_nbformat": 4,
  "vscode": {
   "interpreter": {
    "hash": "916dbcbb3f70747c44a77c7bcd40155683ae19c65e1c03b4aa3499c5328201f1"
   }
  }
 },
 "nbformat": 4,
 "nbformat_minor": 2
}
