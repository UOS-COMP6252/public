{
 "cells": [
  {
   "cell_type": "code",
   "execution_count": 1,
   "metadata": {},
   "outputs": [],
   "source": [
    "%%sh\n",
    "if [ ! -f flowers-recognition.zip ] \n",
    "then\n",
    "   kaggle datasets download -d alxmamaev/flowers-recognition\n",
    "fi\n",
    "if [ ! -d flowers ] \n",
    "then\n",
    "   unzip flowers-recognition.zip >/dev/null\n",
    "fi\n"
   ]
  },
  {
   "cell_type": "code",
   "execution_count": 2,
   "metadata": {},
   "outputs": [],
   "source": [
    "import torch\n",
    "import torchvision\n",
    "from torchvision.transforms import TrivialAugmentWide,AugMix,AutoAugment,RandAugment,Resize,ToTensor,Compose\n",
    "from torch.utils.data import DataLoader,Dataset, random_split\n",
    "dataset=torchvision.datasets.ImageFolder(\"flowers\")"
   ]
  },
  {
   "cell_type": "code",
   "execution_count": 3,
   "metadata": {},
   "outputs": [],
   "source": [
    "seed=97531\n",
    "torch.manual_seed(seed)\n",
    "if torch.cuda.is_available():\n",
    "    torch.cuda.manual_seed_all(seed)\n",
    "    torch.backends.cudnn.deterministic=True"
   ]
  },
  {
   "cell_type": "code",
   "execution_count": 4,
   "metadata": {},
   "outputs": [],
   "source": [
    "class MyDataset(Dataset):\n",
    "    def __init__(self,subset,transform=None):\n",
    "        self.subset=subset\n",
    "        self.transform=transform\n",
    "    def __getitem__(self,idx):\n",
    "        x,y=self.subset[idx]\n",
    "        if self.transform:\n",
    "            x=self.transform(x)\n",
    "        return x,y\n",
    "    def __len__(self):\n",
    "        return len(self.subset)"
   ]
  },
  {
   "cell_type": "code",
   "execution_count": 5,
   "metadata": {},
   "outputs": [
    {
     "data": {
      "text/plain": [
       "4317"
      ]
     },
     "execution_count": 5,
     "metadata": {},
     "output_type": "execute_result"
    }
   ],
   "source": [
    "len(dataset)"
   ]
  },
  {
   "cell_type": "code",
   "execution_count": 6,
   "metadata": {},
   "outputs": [],
   "source": [
    "#train_d,valid_d,test_d=random_split(dataset,lengths=[0.7,0.2,0.1])\n",
    "train_d,valid_d=random_split(dataset,lengths=[0.8,0.2])\n"
   ]
  },
  {
   "cell_type": "code",
   "execution_count": 7,
   "metadata": {},
   "outputs": [],
   "source": [
    "augment_choices={'trivial':TrivialAugmentWide(),'random':RandAugment(),'mix':AugMix(),'auto':AutoAugment()}\n",
    "#train_t=Compose([RandomHorizontalFlip(),Resize((180,180)),ToTensor()])\n",
    "augmentation='trivial'\n",
    "valid_t=Compose([Resize((180,180)),ToTensor()])\n",
    "if augmentation=='None':\n",
    "    train_t=valid_t\n",
    "else:\n",
    "    train_t=Compose([augment_choices[augmentation],Resize((180,180)),ToTensor()])"
   ]
  },
  {
   "cell_type": "code",
   "execution_count": 8,
   "metadata": {},
   "outputs": [],
   "source": [
    "train_dt=MyDataset(train_d,train_t)\n",
    "valid_dt=MyDataset(valid_d,valid_t)\n",
    "#test_dt=MyDataset(test_d,test_t)"
   ]
  },
  {
   "cell_type": "code",
   "execution_count": 9,
   "metadata": {},
   "outputs": [],
   "source": [
    "train_loader=DataLoader(train_dt,batch_size=32,shuffle=True,num_workers=2)\n",
    "valid_loader=DataLoader(valid_dt,batch_size=32,shuffle=False,num_workers=2)"
   ]
  },
  {
   "cell_type": "code",
   "execution_count": 10,
   "metadata": {},
   "outputs": [],
   "source": [
    "itr=iter(train_loader)\n",
    "imgs,labels=next(itr)"
   ]
  },
  {
   "cell_type": "code",
   "execution_count": 11,
   "metadata": {},
   "outputs": [],
   "source": [
    "import torch.nn as nn\n",
    "class Model(nn.Module):\n",
    "    def __init__(self):\n",
    "        super().__init__()\n",
    "        #(3,180,180)\n",
    "        self.conv1=nn.Conv2d(in_channels=3,out_channels=16,kernel_size=3,padding='same')\n",
    "        self.pool1=nn.MaxPool2d(2)\n",
    "        #(16,90,90)\n",
    "        self.conv2=nn.Conv2d(in_channels=16,out_channels=32,kernel_size=3,padding='same')\n",
    "        self.pool2=nn.MaxPool2d(2)\n",
    "        #(32,45,45)\n",
    "        self.conv3=nn.Conv2d(in_channels=32,out_channels=64,kernel_size=3,padding='same')\n",
    "        self.pool3=nn.MaxPool2d(2)\n",
    "        #(64,22,22)\n",
    "        self.relu=nn.ReLU()\n",
    "        self.fc1=nn.Linear(in_features=64*22*22,out_features=128)\n",
    "        self.fc2=nn.Linear(in_features=128,out_features=5)\n",
    "    def forward(self,x):\n",
    "        x=self.conv1(x)\n",
    "        x=self.relu(x)\n",
    "        x=self.pool1(x)\n",
    "        x=self.conv2(x)\n",
    "        x=self.relu(x)\n",
    "        x=self.pool2(x)\n",
    "        x=self.conv3(x)\n",
    "        x=self.relu(x)\n",
    "        x=self.pool3(x)\n",
    "        x=x.view(x.size()[0],-1)\n",
    "        x=self.fc1(x)\n",
    "        x=self.relu(x)\n",
    "        x=self.fc2(x)\n",
    "        return x\n",
    "\n"
   ]
  },
  {
   "cell_type": "code",
   "execution_count": 12,
   "metadata": {},
   "outputs": [],
   "source": [
    "model=Model()"
   ]
  },
  {
   "cell_type": "code",
   "execution_count": 13,
   "metadata": {},
   "outputs": [],
   "source": [
    "def accuracy(model,batch,loss_fn):\n",
    "    imgs,labels=batch\n",
    "    imgs=imgs.cuda()\n",
    "    labels=labels.cuda()\n",
    "    outputs=model(imgs)\n",
    "    _,pred=torch.max(outputs,dim=1)\n",
    "    acc=torch.sum(pred==labels).item()\n",
    "    loss=loss_fn(outputs,labels)\n",
    "    return loss,torch.tensor(acc),len(labels)\n",
    "\n",
    "@torch.no_grad() \n",
    "def evaluate(model,loader,loss_fn):\n",
    "    model.eval()\n",
    "    # crit is a list of pairs of tensors\n",
    "    crit=[accuracy(model,batch,loss_fn) for batch in loader]\n",
    "    crit=torch.tensor(crit)\n",
    "    m=crit.mean(dim=0)\n",
    "    loss=m[0]\n",
    "    acc=m[1]\n",
    "    bsize=m[2]\n",
    "    return loss/bsize,acc/bsize"
   ]
  },
  {
   "cell_type": "code",
   "execution_count": 14,
   "metadata": {},
   "outputs": [],
   "source": [
    "from torch.utils.tensorboard import SummaryWriter\n",
    "import datetime\n",
    "%load_ext tensorboard\n",
    "current=datetime.datetime.now()\n",
    "log_dir = 'logs/tensorboard/' +augmentation+'-'+current.strftime(\"%c\")\n",
    "writer=SummaryWriter(log_dir)"
   ]
  },
  {
   "cell_type": "code",
   "execution_count": 15,
   "metadata": {},
   "outputs": [
    {
     "name": "stdout",
     "output_type": "stream",
     "text": [
      "Epoch[0]\n",
      "Train: loss=0.0379, accuracy=0.4655\n",
      "Valid: loss=0.0361, accuracy=0.4994\n",
      "----------------------\n",
      "Epoch[10]\n",
      "Train: loss=0.0214, accuracy=0.7496\n",
      "Valid: loss=0.0256, accuracy=0.6860\n",
      "----------------------\n",
      "Epoch[20]\n",
      "Train: loss=0.0137, accuracy=0.8532\n",
      "Valid: loss=0.0277, accuracy=0.7010\n",
      "----------------------\n",
      "Epoch[30]\n",
      "Train: loss=0.0126, accuracy=0.8602\n",
      "Valid: loss=0.0303, accuracy=0.6987\n",
      "----------------------\n",
      "Epoch[40]\n",
      "Train: loss=0.0097, accuracy=0.8909\n",
      "Valid: loss=0.0295, accuracy=0.7184\n",
      "----------------------\n",
      "Epoch[50]\n",
      "Train: loss=0.0091, accuracy=0.8909\n",
      "Valid: loss=0.0304, accuracy=0.7219\n",
      "----------------------\n",
      "Epoch[60]\n",
      "Train: loss=0.0086, accuracy=0.9047\n",
      "Valid: loss=0.0296, accuracy=0.7219\n",
      "----------------------\n",
      "Epoch[70]\n",
      "Train: loss=0.0086, accuracy=0.9021\n",
      "Valid: loss=0.0291, accuracy=0.7416\n",
      "----------------------\n",
      "Epoch[80]\n",
      "Train: loss=0.0079, accuracy=0.9105\n",
      "Valid: loss=0.0298, accuracy=0.7451\n",
      "----------------------\n",
      "Epoch[90]\n",
      "Train: loss=0.0078, accuracy=0.9108\n",
      "Valid: loss=0.0308, accuracy=0.7312\n",
      "----------------------\n"
     ]
    }
   ],
   "source": [
    "from torch.optim import Adam\n",
    "loss_fn=nn.CrossEntropyLoss()\n",
    "optimizer=Adam(model.parameters())\n",
    "model=model.cuda()\n",
    "epochs=100\n",
    "for epoch in range(epochs):\n",
    "    model.train()\n",
    "    epoch_loss=0.\n",
    "    for imgs,labels in train_loader:\n",
    "        imgs=imgs.cuda()\n",
    "        labels=labels.cuda()\n",
    "        outputs=model(imgs)\n",
    "        loss=loss_fn(outputs,labels)\n",
    "        loss.backward()\n",
    "        optimizer.step()\n",
    "        optimizer.zero_grad()\n",
    "        epoch_loss=0.9*epoch_loss+0.1*loss.item()\n",
    "    vl,va=evaluate(model,valid_loader,loss_fn)\n",
    "    tl,ta=evaluate(model,train_loader,loss_fn)\n",
    "    writer.add_scalar(\"Epoch loss\",epoch_loss,epoch)\n",
    "    writer.add_scalars(\"loss\",{'train':tl,'valid':vl},epoch)\n",
    "    writer.add_scalars(\"acc\",{'train':ta,'valid':va},epoch)\n",
    "    if epoch%10==0:\n",
    "        print(\"Epoch[{}]\".format(epoch))\n",
    "        print(\"Train: loss={:.4f}, accuracy={:.4f}\".format(tl,ta))\n",
    "        print(\"Valid: loss={:.4f}, accuracy={:.4f}\".format(vl,va))\n",
    "        print(\"----------------------\")\n",
    "writer.close()   "
   ]
  },
  {
   "cell_type": "code",
   "execution_count": 16,
   "metadata": {},
   "outputs": [
    {
     "data": {
      "text/plain": [
       "Reusing TensorBoard on port 6007 (pid 2216015), started 15 days, 17:17:59 ago. (Use '!kill 2216015' to kill it.)"
      ]
     },
     "metadata": {},
     "output_type": "display_data"
    },
    {
     "data": {
      "text/html": [
       "\n",
       "      <iframe id=\"tensorboard-frame-389e89a30fa6c4bf\" width=\"100%\" height=\"800\" frameborder=\"0\">\n",
       "      </iframe>\n",
       "      <script>\n",
       "        (function() {\n",
       "          const frame = document.getElementById(\"tensorboard-frame-389e89a30fa6c4bf\");\n",
       "          const url = new URL(\"http://localhost\");\n",
       "          const port = 6007;\n",
       "          if (port) {\n",
       "            url.port = port;\n",
       "          }\n",
       "          frame.src = url;\n",
       "        })();\n",
       "      </script>\n",
       "    "
      ],
      "text/plain": [
       "<IPython.core.display.HTML object>"
      ]
     },
     "metadata": {},
     "output_type": "display_data"
    }
   ],
   "source": [
    "%tensorboard --logdir logs/tensorboard"
   ]
  },
  {
   "cell_type": "code",
   "execution_count": null,
   "metadata": {},
   "outputs": [],
   "source": []
  }
 ],
 "metadata": {
  "kernelspec": {
   "display_name": "Python 3",
   "language": "python",
   "name": "python3"
  },
  "language_info": {
   "codemirror_mode": {
    "name": "ipython",
    "version": 3
   },
   "file_extension": ".py",
   "mimetype": "text/x-python",
   "name": "python",
   "nbconvert_exporter": "python",
   "pygments_lexer": "ipython3",
   "version": "3.10.6 (main, Nov 14 2022, 16:10:14) [GCC 11.3.0]"
  },
  "orig_nbformat": 4,
  "vscode": {
   "interpreter": {
    "hash": "916dbcbb3f70747c44a77c7bcd40155683ae19c65e1c03b4aa3499c5328201f1"
   }
  }
 },
 "nbformat": 4,
 "nbformat_minor": 2
}
