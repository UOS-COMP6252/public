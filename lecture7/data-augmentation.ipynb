{
 "cells": [
  {
   "cell_type": "markdown",
   "metadata": {},
   "source": [
    "<a href=\"https://colab.research.google.com/github/UOS-COMP6252/public/blob/main/lecture7/data-augmentation.ipynb\" target=\"_parent\"><img src=\"https://colab.research.google.com/assets/colab-badge.svg\" alt=\"Open In Colab\"/></a>"
   ]
  },
  {
   "cell_type": "markdown",
   "metadata": {},
   "source": [
    "<h1 style=\"text-align: center;\">COMP6252 Deep Learning Technologies</h1>\n",
    "<h2 style=\"text-align: center;\"> Data Augmentation</h2>"
   ]
  },
  {
   "cell_type": "code",
   "execution_count": null,
   "metadata": {},
   "outputs": [],
   "source": [
    "## We will be using comet_ml to log our experiments\n",
    "import getpass\n",
    "import os\n",
    "try:\n",
    "  import comet_ml\n",
    "except ModuleNotFoundError:\n",
    "  %pip install comet_ml\n",
    "  import comet_ml\n",
    "comet_api_key=os.environ.get(\"COMET_API_KEY\")\n",
    "if comet_api_key is None:\n",
    "  comet_api_key=getpass.getpass(\"Enter key\")"
   ]
  },
  {
   "cell_type": "code",
   "execution_count": null,
   "metadata": {},
   "outputs": [],
   "source": [
    "%%sh\n",
    "if [ ! -f flowers-recognition.zip ] \n",
    "then\n",
    "   kaggle datasets download -d alxmamaev/flowers-recognition\n",
    "fi\n",
    "if [ ! -d flowers ] \n",
    "then\n",
    "   unzip flowers-recognition.zip >/dev/null\n",
    "fi\n"
   ]
  },
  {
   "cell_type": "code",
   "execution_count": null,
   "metadata": {},
   "outputs": [],
   "source": [
    "import torch\n",
    "import torchvision\n",
    "from torchvision.transforms import TrivialAugmentWide,AugMix,AutoAugment,RandAugment,Resize,ToTensor,Compose\n",
    "from torch.utils.data import DataLoader,Dataset, random_split\n",
    "dataset=torchvision.datasets.ImageFolder(\"flowers\")"
   ]
  },
  {
   "cell_type": "code",
   "execution_count": null,
   "metadata": {},
   "outputs": [],
   "source": [
    "seed=97531\n",
    "torch.manual_seed(seed)\n",
    "if torch.cuda.is_available():\n",
    "    torch.cuda.manual_seed_all(seed)\n",
    "    torch.backends.cudnn.deterministic=True"
   ]
  },
  {
   "cell_type": "code",
   "execution_count": null,
   "metadata": {},
   "outputs": [],
   "source": [
    "class MyDataset(Dataset):\n",
    "    def __init__(self,subset,transform=None):\n",
    "        self.subset=subset\n",
    "        self.transform=transform\n",
    "    def __getitem__(self,idx):\n",
    "        x,y=self.subset[idx]\n",
    "        if self.transform:\n",
    "            x=self.transform(x)\n",
    "        return x,y\n",
    "    def __len__(self):\n",
    "        return len(self.subset)"
   ]
  },
  {
   "cell_type": "code",
   "execution_count": null,
   "metadata": {},
   "outputs": [],
   "source": [
    "len(dataset)"
   ]
  },
  {
   "cell_type": "code",
   "execution_count": null,
   "metadata": {},
   "outputs": [],
   "source": [
    "#train_d,valid_d,test_d=random_split(dataset,lengths=[0.7,0.2,0.1])\n",
    "train_d,valid_d=random_split(dataset,lengths=[0.8,0.2])\n"
   ]
  },
  {
   "cell_type": "code",
   "execution_count": null,
   "metadata": {},
   "outputs": [],
   "source": [
    "augment_choices={'trivial':TrivialAugmentWide(),'random':RandAugment(),'mix':AugMix(),'auto':AutoAugment()}\n",
    "#train_t=Compose([RandomHorizontalFlip(),Resize((180,180)),ToTensor()])\n",
    "augmentation='trivial'\n",
    "valid_t=Compose([Resize((180,180)),ToTensor()])\n",
    "if augmentation=='None':\n",
    "    train_t=valid_t\n",
    "else:\n",
    "    train_t=Compose([augment_choices[augmentation],Resize((180,180)),ToTensor()])"
   ]
  },
  {
   "cell_type": "code",
   "execution_count": null,
   "metadata": {},
   "outputs": [],
   "source": [
    "train_dt=MyDataset(train_d,train_t)\n",
    "valid_dt=MyDataset(valid_d,valid_t)\n",
    "#test_dt=MyDataset(test_d,test_t)"
   ]
  },
  {
   "cell_type": "code",
   "execution_count": null,
   "metadata": {},
   "outputs": [],
   "source": [
    "train_loader=DataLoader(train_dt,batch_size=32,shuffle=True,num_workers=2)\n",
    "valid_loader=DataLoader(valid_dt,batch_size=32,shuffle=False,num_workers=2)"
   ]
  },
  {
   "cell_type": "code",
   "execution_count": null,
   "metadata": {},
   "outputs": [],
   "source": [
    "itr=iter(train_loader)\n",
    "imgs,labels=next(itr)"
   ]
  },
  {
   "cell_type": "code",
   "execution_count": null,
   "metadata": {},
   "outputs": [],
   "source": [
    "import torch.nn as nn\n",
    "class Model(nn.Module):\n",
    "    def __init__(self):\n",
    "        super().__init__()\n",
    "        #(3,180,180)\n",
    "        self.conv1=nn.Conv2d(in_channels=3,out_channels=16,kernel_size=3,padding='same')\n",
    "        self.pool1=nn.MaxPool2d(2)\n",
    "        #(16,90,90)\n",
    "        self.conv2=nn.Conv2d(in_channels=16,out_channels=32,kernel_size=3,padding='same')\n",
    "        self.pool2=nn.MaxPool2d(2)\n",
    "        #(32,45,45)\n",
    "        self.conv3=nn.Conv2d(in_channels=32,out_channels=64,kernel_size=3,padding='same')\n",
    "        self.pool3=nn.MaxPool2d(2)\n",
    "        #(64,22,22)\n",
    "        self.relu=nn.ReLU()\n",
    "        self.fc1=nn.Linear(in_features=64*22*22,out_features=128)\n",
    "        self.fc2=nn.Linear(in_features=128,out_features=5)\n",
    "    def forward(self,x):\n",
    "        x=self.conv1(x)\n",
    "        x=self.relu(x)\n",
    "        x=self.pool1(x)\n",
    "        x=self.conv2(x)\n",
    "        x=self.relu(x)\n",
    "        x=self.pool2(x)\n",
    "        x=self.conv3(x)\n",
    "        x=self.relu(x)\n",
    "        x=self.pool3(x)\n",
    "        x=x.view(x.size()[0],-1)\n",
    "        x=self.fc1(x)\n",
    "        x=self.relu(x)\n",
    "        x=self.fc2(x)\n",
    "        return x\n",
    "\n"
   ]
  },
  {
   "cell_type": "code",
   "execution_count": null,
   "metadata": {},
   "outputs": [],
   "source": [
    "model=Model()"
   ]
  },
  {
   "cell_type": "code",
   "execution_count": null,
   "metadata": {},
   "outputs": [],
   "source": [
    "def accuracy(model,batch,loss_fn):\n",
    "    imgs,labels=batch\n",
    "    imgs=imgs.cuda()\n",
    "    labels=labels.cuda()\n",
    "    outputs=model(imgs)\n",
    "    _,pred=torch.max(outputs,dim=1)\n",
    "    acc=torch.sum(pred==labels).item()\n",
    "    loss=loss_fn(outputs,labels)\n",
    "    return loss,torch.tensor(acc),len(labels)\n",
    "\n",
    "@torch.no_grad() \n",
    "def evaluate(model,loader,loss_fn):\n",
    "    model.eval()\n",
    "    # crit is a list of pairs of tensors\n",
    "    crit=[accuracy(model,batch,loss_fn) for batch in loader]\n",
    "    crit=torch.tensor(crit)\n",
    "    m=crit.mean(dim=0)\n",
    "    loss=m[0]\n",
    "    acc=m[1]\n",
    "    bsize=m[2]\n",
    "    return loss/bsize,acc/bsize"
   ]
  },
  {
   "cell_type": "code",
   "execution_count": null,
   "metadata": {},
   "outputs": [],
   "source": [
    "experiment = comet_ml.Experiment(api_key=comet_api_key,workspace=\"COMP6252\",project_name=\"data-augmentation\",auto_metric_logging=False, auto_output_logging=False)"
   ]
  },
  {
   "cell_type": "code",
   "execution_count": null,
   "metadata": {},
   "outputs": [],
   "source": [
    "from torch.optim import Adam\n",
    "loss_fn=nn.CrossEntropyLoss()\n",
    "optimizer=Adam(model.parameters())\n",
    "model=model.cuda()\n",
    "epochs=100\n",
    "for epoch in range(epochs):\n",
    "    model.train()\n",
    "    epoch_loss=0.\n",
    "    for imgs,labels in train_loader:\n",
    "        imgs=imgs.cuda()\n",
    "        labels=labels.cuda()\n",
    "        outputs=model(imgs)\n",
    "        loss=loss_fn(outputs,labels)\n",
    "        loss.backward()\n",
    "        optimizer.step()\n",
    "        optimizer.zero_grad()\n",
    "        epoch_loss=0.9*epoch_loss+0.1*loss.item()\n",
    "    vl,va=evaluate(model,valid_loader,loss_fn)\n",
    "    tl,ta=evaluate(model,train_loader,loss_fn)\n",
    "    experiment.log_metrics({'loss':tl,'valid_loss':vl,'train_acc':ta,'val_accuracy':va}, epoch=epoch)\n",
    "    if epoch%10==0:\n",
    "        print(\"Epoch[{}]\".format(epoch))\n",
    "        print(\"Train: loss={:.4f}, accuracy={:.4f}\".format(tl,ta))\n",
    "        print(\"Valid: loss={:.4f}, accuracy={:.4f}\".format(vl,va))\n",
    "        print(\"----------------------\")\n"
   ]
  },
  {
   "cell_type": "code",
   "execution_count": null,
   "metadata": {},
   "outputs": [],
   "source": [
    "experiment.end()"
   ]
  }
 ],
 "metadata": {
  "kernelspec": {
   "display_name": "Python 3",
   "language": "python",
   "name": "python3"
  },
  "language_info": {
   "codemirror_mode": {
    "name": "ipython",
    "version": 3
   },
   "file_extension": ".py",
   "mimetype": "text/x-python",
   "name": "python",
   "nbconvert_exporter": "python",
   "pygments_lexer": "ipython3",
   "version": "3.10.6 (main, Nov 14 2022, 16:10:14) [GCC 11.3.0]"
  },
  "orig_nbformat": 4,
  "vscode": {
   "interpreter": {
    "hash": "916dbcbb3f70747c44a77c7bcd40155683ae19c65e1c03b4aa3499c5328201f1"
   }
  }
 },
 "nbformat": 4,
 "nbformat_minor": 2
}
