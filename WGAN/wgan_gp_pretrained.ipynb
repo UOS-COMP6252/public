{
  "cells": [
    {
      "cell_type": "markdown",
      "metadata": {
        "colab_type": "text",
        "id": "view-in-github"
      },
      "source": [
        "<a href=\"https://colab.research.google.com/github/UOS-COMP6252/public/blob/main/WGAN/wgan_gp_pretrained.ipynb\" target=\"_parent\"><img src=\"https://colab.research.google.com/assets/colab-badge.svg\" alt=\"Open In Colab\"/></a>"
      ]
    },
    {
      "cell_type": "markdown",
      "metadata": {},
      "source": [
        "### Wassertein GAN\n",
        "\n",
        "This is a notebook to generate images from Wasserstein GAN with gradient penalty pre-trained on the celebA dataset"
      ]
    },
    {
      "cell_type": "code",
      "execution_count": null,
      "metadata": {
        "colab": {
          "base_uri": "https://localhost:8080/"
        },
        "id": "dfAr0yWcQGC2",
        "outputId": "09c3df81-8029-45d2-d753-a939930e956b"
      },
      "outputs": [],
      "source": [
        "!pip install comet_ml"
      ]
    },
    {
      "cell_type": "code",
      "execution_count": null,
      "metadata": {},
      "outputs": [],
      "source": [
        "%%sh\n",
        "wget https://github.com/UOS-COMP6252/public/raw/main/WGAN/dcgan.py\n",
        "wget https://github.com/UOS-COMP6252/public/raw/main/WGAN/utils.py"
      ]
    },
    {
      "cell_type": "markdown",
      "metadata": {},
      "source": [
        "The pre-trained weights are stored in a comet_ml registry. You need an api key to access it"
      ]
    },
    {
      "cell_type": "code",
      "execution_count": null,
      "metadata": {
        "id": "kdUwM1taPqAJ"
      },
      "outputs": [],
      "source": [
        "import comet_ml\n",
        "from comet_ml.integration.pytorch import load_model\n",
        "import torch\n",
        "from torchvision.utils import make_grid\n",
        "from dcgan import Generator, Discriminator\n",
        "import matplotlib.pyplot as plt\n",
        "import numpy as np\n",
        "from PIL import Image"
      ]
    },
    {
      "cell_type": "markdown",
      "metadata": {},
      "source": [
        "```comet_ml.init()``` will prompt for the api key"
      ]
    },
    {
      "cell_type": "code",
      "execution_count": null,
      "metadata": {
        "colab": {
          "base_uri": "https://localhost:8080/"
        },
        "id": "ZycOdof2sNAm",
        "outputId": "71811a83-667d-402a-e5d5-9aec33b3d9db"
      },
      "outputs": [],
      "source": [
        "comet_ml.init()"
      ]
    },
    {
      "cell_type": "code",
      "execution_count": null,
      "metadata": {},
      "outputs": [],
      "source": [
        "\n"
      ]
    },
    {
      "cell_type": "code",
      "execution_count": null,
      "metadata": {
        "id": "sg80M_PKPvVE"
      },
      "outputs": [],
      "source": [
        "\n",
        "\n",
        "# # The networks are taken from\n",
        "# # https://arxiv.org/abs/1511.06434\n",
        "# class TBlock(nn.Module):\n",
        "#     def __init__(self, in_ch, out_ch, kernel_size,stride,pad,norm_type):\n",
        "#         super().__init__()\n",
        "#         self.net = nn.Sequential(\n",
        "#             nn.ConvTranspose2d(in_ch,out_ch,kernel_size,stride, pad,bias=False),\n",
        "#             norm_layer(out_ch,norm_type),\n",
        "#             nn.ReLU()\n",
        "#         )\n",
        "#     def forward(self,x):\n",
        "#         return self.net(x)\n",
        "# class CBlock(nn.Module):\n",
        "#     def __init__(self, in_ch, out_ch, kernel_size,stride,pad,norm_type: str = \"batch\"):\n",
        "#         super().__init__()\n",
        "#         self.net = nn.Sequential(\n",
        "#             nn.Conv2d(in_ch,out_ch,kernel_size,stride, pad, bias=False),\n",
        "#             norm_layer(out_ch,norm_type),\n",
        "#             nn.LeakyReLU(0.2)\n",
        "#         )\n",
        "#     def forward(self,x):\n",
        "#         return self.net(x)\n",
        "\n",
        "# class Generator(nn.Module):\n",
        "#     #Outputs 64x64 pixel images\n",
        "\n",
        "#     def __init__(\n",
        "#         self,img_size=64,\n",
        "#         out_ch=3,zdim=100,norm_type=\"BatchNorm2d\",final_activation=None\n",
        "#     ):\n",
        "#         super().__init__()\n",
        "#         # self.nf_g = nf_g\n",
        "#         # self.z_dim = z_dim\n",
        "#         # self.out_ch = out_ch\n",
        "#         nf_g=2*img_size\n",
        "#         self.final_activation=None if final_activation is None else getattr(torch,final_activation)\n",
        "\n",
        "#         self.net = nn.Sequential(\n",
        "#             # * Layer 1: 1x1\n",
        "#             TBlock(zdim,8*nf_g, 4,1, 0,norm_type),\n",
        "#             # * Layer 2: 4x4\n",
        "#             TBlock(8*nf_g,4*nf_g,4,2,1,norm_type),\n",
        "#             # * Layer 3: 8x8\n",
        "#             TBlock(4*nf_g,2*nf_g,4,2,1,norm_type),\n",
        "#             # * Layer 4: 16x16\n",
        "#             TBlock(2*nf_g,nf_g,4,2,1,norm_type),\n",
        "#             # * Layer 5: 32x32\n",
        "#             nn.ConvTranspose2d(nf_g, out_ch, 4, 2, 1, bias=False),\n",
        "#             # * Output: 64x64\n",
        "#         )\n",
        "\n",
        "#     def forward(self, x):\n",
        "#         x = self.net(x)\n",
        "#         return x if self.final_activation is None else self.final_activation(x)\n",
        "\n",
        "#         #return torch.tanh(x)\n",
        "\n",
        "\n",
        "# class Discriminator(nn.Module):\n",
        "#     def __init__(self, img_size=64,in_ch=3,norm_type=\"BatchNorm2d\",final_activation=None):\n",
        "#         super().__init__()\n",
        "#         nf_d=img_size\n",
        "#         self.final_activation=None if final_activation is None else getattr(torch,final_activation)\n",
        "#         self.net = nn.Sequential(\n",
        "#             # * 64x64\n",
        "#             nn.Conv2d(in_ch, nf_d, 4, 2, 1, bias=False),\n",
        "#             nn.LeakyReLU(0.2),\n",
        "#             # * 32x32\n",
        "#             CBlock(nf_d,2*nf_d,4,2,1,norm_type),\n",
        "#             # * 16x16\n",
        "#             CBlock(2*nf_d,4*nf_d,4,2,1,norm_type),\n",
        "#             # * 8x8\n",
        "#             CBlock(4*nf_d,8*nf_d,4,2,1,norm_type),\n",
        "#             # * 4x4\n",
        "#             nn.Conv2d(8*nf_d, 1, 4, 1, 0, bias=False),\n",
        "#         )\n",
        "\n",
        "\n",
        "#     def forward(self, x):\n",
        "#           x = self.net(x)\n",
        "#           return x if self.final_activation is None else self.final_activation(x)\n",
        "\n",
        "# class norm_layer(nn.Module):\n",
        "#     def __init__(self, num_channels,norm_type: str = None):\n",
        "#         super().__init__()\n",
        "#         if norm_type == \"BatchNorm2d\":\n",
        "#             self.norm = nn.BatchNorm2d(num_channels)\n",
        "#         elif norm_type == \"GroupNorm\":\n",
        "#             self.norm = nn.GroupNorm(num_channels, num_channels)\n",
        "#         elif norm_type is None or norm_type == \"None\":\n",
        "#             self.norm=None\n",
        "#         else:\n",
        "#             raise ValueError(f\"Unknown normalization type: {norm_type}\")\n",
        "\n",
        "#     def forward(self, x):\n",
        "#         return x if self.norm is None else self.norm(x)\n"
      ]
    },
    {
      "cell_type": "code",
      "execution_count": null,
      "metadata": {
        "colab": {
          "base_uri": "https://localhost:8080/"
        },
        "id": "m_M7c56hW67H",
        "outputId": "daf7c2b0-c9b1-47ec-9aa2-2099e0250aa0"
      },
      "outputs": [],
      "source": [
        "generator=Generator(64,3,128,norm_type=\"GroupNorm\",final_activation=\"tanh\")\n",
        "discriminator=Discriminator(64,3,norm_type=\"GroupNorm\",final_activation=None)\n",
        "checkpoint=load_model(\"registry://wgan/WGAN-GP:1.0.0\")\n",
        "generator.load_state_dict(checkpoint[\"g_state_dict\"])\n",
        "discriminator.load_state_dict(checkpoint[\"d_state_dict\"])"
      ]
    },
    {
      "cell_type": "code",
      "execution_count": null,
      "metadata": {
        "id": "iwt4qIBIqhmN"
      },
      "outputs": [],
      "source": [
        "device='cuda'\n",
        "generator=generator.to(device)"
      ]
    },
    {
      "cell_type": "code",
      "execution_count": null,
      "metadata": {
        "id": "BvXoUIZKXAyj"
      },
      "outputs": [],
      "source": [
        "def random_sample(batch_size, z_dim, device):\n",
        "        # input to the generator\n",
        "        # z_dim channels, 1x1 pixels\n",
        "        return torch.randn(batch_size,z_dim, 1, 1).to(device)"
      ]
    },
    {
      "cell_type": "code",
      "execution_count": null,
      "metadata": {
        "id": "yRNwmoi2qFmV"
      },
      "outputs": [],
      "source": [
        "def generate_images(nsamples):\n",
        "        with torch.no_grad():\n",
        "            noise = random_sample(256, 128, device)[:nsamples]\n",
        "            fake_images = generator(noise)\n",
        "        return fake_images\n",
        "fake_images=generate_images(32)\n",
        "grid = make_grid(fake_images, nrow=8, normalize=True)"
      ]
    },
    {
      "cell_type": "code",
      "execution_count": null,
      "metadata": {
        "id": "S7Dhc7nnqs6f"
      },
      "outputs": [],
      "source": []
    },
    {
      "cell_type": "code",
      "execution_count": null,
      "metadata": {
        "colab": {
          "base_uri": "https://localhost:8080/",
          "height": 331
        },
        "id": "tEigmRWTq4TY",
        "outputId": "c2080876-d330-4fd5-ab9a-2d964ee08723"
      },
      "outputs": [],
      "source": [
        "def recover_image(img):\n",
        "        # PIL expects the image to be of shape (H,W,C)\n",
        "        # in PyTorch it's (C,H,W)\n",
        "\n",
        "        img=img.cpu().numpy().transpose(1, 2,0)*255\n",
        "        return Image.fromarray(img.astype(np.uint8))\n",
        "grid=recover_image(grid)\n",
        "plt.imshow(grid)"
      ]
    },
    {
      "cell_type": "code",
      "execution_count": null,
      "metadata": {
        "id": "Nqkb83wNq65X"
      },
      "outputs": [],
      "source": []
    }
  ],
  "metadata": {
    "accelerator": "GPU",
    "colab": {
      "authorship_tag": "ABX9TyNaHYvKd8FBNnJGRsDm+XdE",
      "gpuType": "T4",
      "include_colab_link": true,
      "provenance": []
    },
    "kernelspec": {
      "display_name": "Python 3",
      "name": "python3"
    },
    "language_info": {
      "codemirror_mode": {
        "name": "ipython",
        "version": 3
      },
      "file_extension": ".py",
      "mimetype": "text/x-python",
      "name": "python",
      "nbconvert_exporter": "python",
      "pygments_lexer": "ipython3",
      "version": "3.11.5"
    }
  },
  "nbformat": 4,
  "nbformat_minor": 0
}
