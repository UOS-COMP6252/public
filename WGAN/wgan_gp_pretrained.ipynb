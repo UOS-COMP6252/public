{
  "cells": [
    {
      "cell_type": "markdown",
      "metadata": {
        "colab_type": "text",
        "id": "view-in-github"
      },
      "source": [
        "<a href=\"https://colab.research.google.com/github/UOS-COMP6252/public/blob/main/WGAN/wgan_gp_pretrained.ipynb\" target=\"_parent\"><img src=\"https://colab.research.google.com/assets/colab-badge.svg\" alt=\"Open In Colab\"/></a>"
      ]
    },
    {
      "cell_type": "markdown",
      "metadata": {},
      "source": [
        "### Wassertein GAN\n",
        "\n",
        "This is a notebook to generate images from Wasserstein GAN with gradient penalty pre-trained on the celebA dataset"
      ]
    },
    {
      "cell_type": "code",
      "execution_count": null,
      "metadata": {
        "colab": {
          "base_uri": "https://localhost:8080/"
        },
        "id": "dfAr0yWcQGC2",
        "outputId": "09c3df81-8029-45d2-d753-a939930e956b"
      },
      "outputs": [],
      "source": [
        "!pip install comet_ml"
      ]
    },
    {
      "cell_type": "code",
      "execution_count": null,
      "metadata": {},
      "outputs": [],
      "source": [
        "%%sh\n",
        "wget https://github.com/UOS-COMP6252/public/raw/main/WGAN/dcgan.py\n",
        "wget https://github.com/UOS-COMP6252/public/raw/main/WGAN/utils.py"
      ]
    },
    {
      "cell_type": "markdown",
      "metadata": {},
      "source": [
        "The pre-trained weights are stored in a comet_ml registry. You need an api key to access it"
      ]
    },
    {
      "cell_type": "code",
      "execution_count": null,
      "metadata": {
        "id": "kdUwM1taPqAJ"
      },
      "outputs": [],
      "source": [
        "import comet_ml\n",
        "from comet_ml.integration.pytorch import load_model\n",
        "import torch\n",
        "from torchvision.utils import make_grid\n",
        "from dcgan import Generator, Discriminator\n",
        "import matplotlib.pyplot as plt\n",
        "import numpy as np\n",
        "from PIL import Image\n",
        "from utils import random_sample,recover_image"
      ]
    },
    {
      "cell_type": "markdown",
      "metadata": {},
      "source": [
        "```comet_ml.init()``` will prompt for the api key"
      ]
    },
    {
      "cell_type": "code",
      "execution_count": null,
      "metadata": {
        "colab": {
          "base_uri": "https://localhost:8080/"
        },
        "id": "ZycOdof2sNAm",
        "outputId": "71811a83-667d-402a-e5d5-9aec33b3d9db"
      },
      "outputs": [],
      "source": [
        "comet_ml.init()"
      ]
    },
    {
      "cell_type": "code",
      "execution_count": null,
      "metadata": {
        "colab": {
          "base_uri": "https://localhost:8080/"
        },
        "id": "m_M7c56hW67H",
        "outputId": "daf7c2b0-c9b1-47ec-9aa2-2099e0250aa0"
      },
      "outputs": [],
      "source": [
        "generator=Generator(64,3,128,norm_type=\"GroupNorm\",final_activation=\"tanh\")\n",
        "checkpoint=load_model(\"registry://wgan/WGAN-GP:1.0.0\")\n",
        "generator.load_state_dict(checkpoint[\"g_state_dict\"])"
      ]
    },
    {
      "cell_type": "code",
      "execution_count": null,
      "metadata": {
        "id": "iwt4qIBIqhmN"
      },
      "outputs": [],
      "source": [
        "device='cuda'\n",
        "generator=generator.to(device)"
      ]
    },
    {
      "cell_type": "code",
      "execution_count": null,
      "metadata": {
        "id": "yRNwmoi2qFmV"
      },
      "outputs": [],
      "source": [
        "nsamples=32\n",
        "with torch.no_grad():\n",
        "    noise = random_sample(256, 128, device)[:nsamples]\n",
        "    fake_images = generator(noise)\n",
        "grid = make_grid(fake_images, nrow=8, normalize=True)"
      ]
    },
    {
      "cell_type": "code",
      "execution_count": null,
      "metadata": {
        "colab": {
          "base_uri": "https://localhost:8080/",
          "height": 331
        },
        "id": "tEigmRWTq4TY",
        "outputId": "c2080876-d330-4fd5-ab9a-2d964ee08723"
      },
      "outputs": [],
      "source": [
        "grid=recover_image(grid)\n",
        "plt.imshow(grid)"
      ]
    }
  ],
  "metadata": {
    "accelerator": "GPU",
    "colab": {
      "authorship_tag": "ABX9TyNaHYvKd8FBNnJGRsDm+XdE",
      "gpuType": "T4",
      "include_colab_link": true,
      "provenance": []
    },
    "kernelspec": {
      "display_name": "Python 3",
      "name": "python3"
    },
    "language_info": {
      "codemirror_mode": {
        "name": "ipython",
        "version": 3
      },
      "file_extension": ".py",
      "mimetype": "text/x-python",
      "name": "python",
      "nbconvert_exporter": "python",
      "pygments_lexer": "ipython3",
      "version": "3.11.5"
    }
  },
  "nbformat": 4,
  "nbformat_minor": 0
}
